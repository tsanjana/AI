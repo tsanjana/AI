{
 "cells": [
  {
   "cell_type": "code",
   "execution_count": 332,
   "metadata": {},
   "outputs": [],
   "source": [
    "import pandas as pd\n",
    "import seaborn as sns\n",
    "import matplotlib.pyplot as plt\n",
    "from sklearn.linear_model import LogisticRegression\n",
    "from sklearn.svm import SVC\n",
    "from sklearn.naive_bayes import GaussianNB\n",
    "from sklearn import svm\n",
    "import xgboost as xgb\n",
    "from sklearn.ensemble import RandomForestClassifier\n",
    "from sklearn.model_selection import StratifiedKFold\n",
    "from sklearn.preprocessing import StandardScaler\n",
    "from sklearn.datasets import make_classification\n",
    "import numpy\n",
    "from sklearn.model_selection import GridSearchCV\n",
    "from keras.wrappers.scikit_learn import KerasClassifier\n",
    "from keras.constraints import maxnorm\n",
    "from collections import Counter\n",
    "from imblearn.over_sampling import SMOTE\n",
    "from imblearn.over_sampling import RandomOverSampler\n",
    "from sklearn.ensemble import IsolationForest\n",
    "from sklearn.metrics import mean_absolute_error\n",
    "from keras.models import Sequential\n",
    "from keras.layers import Dense\n",
    "import warnings\n",
    "warnings.filterwarnings(\"ignore\")\n",
    "\n",
    "\n",
    "from sklearn.metrics import confusion_matrix, accuracy_score, classification_report, roc_curve, auc, f1_score, precision_score, recall_score"
   ]
  },
  {
   "cell_type": "markdown",
   "metadata": {},
   "source": [
    "#### Week1:\n",
    "Project Task: Week 1\n",
    "\n",
    "Exploratory Data Analysis (EDA):\n",
    "\n",
    "1.    Perform an EDA on the Dataset.\n",
    "       a)    Check all the latent features and parameters with their mean and standard deviation. Value are close to 0 centered (mean)\n",
    "              with unit standard deviation\n",
    "       b)    Find if there is any connection between Time, Amount, and the transaction being fraudulent.\n",
    "2.    Check the class count for each class. It’s a class Imbalance problem.\n",
    "3.    Use techniques like undersampling or oversampling before running Naïve Bayes, Logistic Regression or SVM.\n",
    "       a.    Oversampling or undersampling can be used to tackle the class imbalance problem\n",
    "       b.    Oversampling increases the prior probability of imbalanced class and in case of other classifiers, error gets multiplied as the \n",
    "              low-proportionate class is mimicked multiple times.\n",
    "4     Following are the matrices for evaluating the model performance: Precision, Recall, F1-Score, AUC-ROC curve. Use F1-Score as\n",
    "       the evaluation criteria for this project."
   ]
  },
  {
   "cell_type": "code",
   "execution_count": 333,
   "metadata": {},
   "outputs": [
    {
     "data": {
      "text/html": [
       "<div>\n",
       "<style scoped>\n",
       "    .dataframe tbody tr th:only-of-type {\n",
       "        vertical-align: middle;\n",
       "    }\n",
       "\n",
       "    .dataframe tbody tr th {\n",
       "        vertical-align: top;\n",
       "    }\n",
       "\n",
       "    .dataframe thead th {\n",
       "        text-align: right;\n",
       "    }\n",
       "</style>\n",
       "<table border=\"1\" class=\"dataframe\">\n",
       "  <thead>\n",
       "    <tr style=\"text-align: right;\">\n",
       "      <th></th>\n",
       "      <th>Time</th>\n",
       "      <th>V1</th>\n",
       "      <th>V2</th>\n",
       "      <th>V3</th>\n",
       "      <th>V4</th>\n",
       "      <th>V5</th>\n",
       "      <th>V6</th>\n",
       "      <th>V7</th>\n",
       "      <th>V8</th>\n",
       "      <th>V9</th>\n",
       "      <th>...</th>\n",
       "      <th>V21</th>\n",
       "      <th>V22</th>\n",
       "      <th>V23</th>\n",
       "      <th>V24</th>\n",
       "      <th>V25</th>\n",
       "      <th>V26</th>\n",
       "      <th>V27</th>\n",
       "      <th>V28</th>\n",
       "      <th>Amount</th>\n",
       "      <th>Class</th>\n",
       "    </tr>\n",
       "  </thead>\n",
       "  <tbody>\n",
       "    <tr>\n",
       "      <th>0</th>\n",
       "      <td>38355.0</td>\n",
       "      <td>1.043949</td>\n",
       "      <td>0.318555</td>\n",
       "      <td>1.045810</td>\n",
       "      <td>2.805989</td>\n",
       "      <td>-0.561113</td>\n",
       "      <td>-0.367956</td>\n",
       "      <td>0.032736</td>\n",
       "      <td>-0.042333</td>\n",
       "      <td>-0.322674</td>\n",
       "      <td>...</td>\n",
       "      <td>-0.240105</td>\n",
       "      <td>-0.680315</td>\n",
       "      <td>0.085328</td>\n",
       "      <td>0.684812</td>\n",
       "      <td>0.318620</td>\n",
       "      <td>-0.204963</td>\n",
       "      <td>0.001662</td>\n",
       "      <td>0.037894</td>\n",
       "      <td>49.67</td>\n",
       "      <td>0</td>\n",
       "    </tr>\n",
       "    <tr>\n",
       "      <th>1</th>\n",
       "      <td>22555.0</td>\n",
       "      <td>-1.665159</td>\n",
       "      <td>0.808440</td>\n",
       "      <td>1.805627</td>\n",
       "      <td>1.903416</td>\n",
       "      <td>-0.821627</td>\n",
       "      <td>0.934790</td>\n",
       "      <td>-0.824802</td>\n",
       "      <td>0.975890</td>\n",
       "      <td>1.747469</td>\n",
       "      <td>...</td>\n",
       "      <td>-0.335332</td>\n",
       "      <td>-0.510994</td>\n",
       "      <td>0.035839</td>\n",
       "      <td>0.147565</td>\n",
       "      <td>-0.529358</td>\n",
       "      <td>-0.566950</td>\n",
       "      <td>-0.595998</td>\n",
       "      <td>-0.220086</td>\n",
       "      <td>16.94</td>\n",
       "      <td>0</td>\n",
       "    </tr>\n",
       "    <tr>\n",
       "      <th>2</th>\n",
       "      <td>2431.0</td>\n",
       "      <td>-0.324096</td>\n",
       "      <td>0.601836</td>\n",
       "      <td>0.865329</td>\n",
       "      <td>-2.138000</td>\n",
       "      <td>0.294663</td>\n",
       "      <td>-1.251553</td>\n",
       "      <td>1.072114</td>\n",
       "      <td>-0.334896</td>\n",
       "      <td>1.071268</td>\n",
       "      <td>...</td>\n",
       "      <td>0.012220</td>\n",
       "      <td>0.352856</td>\n",
       "      <td>-0.341505</td>\n",
       "      <td>-0.145791</td>\n",
       "      <td>0.094194</td>\n",
       "      <td>-0.804026</td>\n",
       "      <td>0.229428</td>\n",
       "      <td>-0.021623</td>\n",
       "      <td>1.00</td>\n",
       "      <td>0</td>\n",
       "    </tr>\n",
       "    <tr>\n",
       "      <th>3</th>\n",
       "      <td>86773.0</td>\n",
       "      <td>-0.258270</td>\n",
       "      <td>1.217501</td>\n",
       "      <td>-0.585348</td>\n",
       "      <td>-0.875347</td>\n",
       "      <td>1.222481</td>\n",
       "      <td>-0.311027</td>\n",
       "      <td>1.073860</td>\n",
       "      <td>-0.161408</td>\n",
       "      <td>0.200665</td>\n",
       "      <td>...</td>\n",
       "      <td>-0.424626</td>\n",
       "      <td>-0.781158</td>\n",
       "      <td>0.019316</td>\n",
       "      <td>0.178614</td>\n",
       "      <td>-0.315616</td>\n",
       "      <td>0.096665</td>\n",
       "      <td>0.269740</td>\n",
       "      <td>-0.020635</td>\n",
       "      <td>10.78</td>\n",
       "      <td>0</td>\n",
       "    </tr>\n",
       "    <tr>\n",
       "      <th>4</th>\n",
       "      <td>127202.0</td>\n",
       "      <td>2.142162</td>\n",
       "      <td>-0.494988</td>\n",
       "      <td>-1.936511</td>\n",
       "      <td>-0.818288</td>\n",
       "      <td>-0.025213</td>\n",
       "      <td>-1.027245</td>\n",
       "      <td>-0.151627</td>\n",
       "      <td>-0.305750</td>\n",
       "      <td>-0.869482</td>\n",
       "      <td>...</td>\n",
       "      <td>0.010115</td>\n",
       "      <td>0.021722</td>\n",
       "      <td>0.079463</td>\n",
       "      <td>-0.480899</td>\n",
       "      <td>0.023846</td>\n",
       "      <td>-0.279076</td>\n",
       "      <td>-0.030121</td>\n",
       "      <td>-0.043888</td>\n",
       "      <td>39.96</td>\n",
       "      <td>0</td>\n",
       "    </tr>\n",
       "  </tbody>\n",
       "</table>\n",
       "<p>5 rows × 31 columns</p>\n",
       "</div>"
      ],
      "text/plain": [
       "       Time        V1        V2        V3        V4        V5        V6  \\\n",
       "0   38355.0  1.043949  0.318555  1.045810  2.805989 -0.561113 -0.367956   \n",
       "1   22555.0 -1.665159  0.808440  1.805627  1.903416 -0.821627  0.934790   \n",
       "2    2431.0 -0.324096  0.601836  0.865329 -2.138000  0.294663 -1.251553   \n",
       "3   86773.0 -0.258270  1.217501 -0.585348 -0.875347  1.222481 -0.311027   \n",
       "4  127202.0  2.142162 -0.494988 -1.936511 -0.818288 -0.025213 -1.027245   \n",
       "\n",
       "         V7        V8        V9  ...       V21       V22       V23       V24  \\\n",
       "0  0.032736 -0.042333 -0.322674  ... -0.240105 -0.680315  0.085328  0.684812   \n",
       "1 -0.824802  0.975890  1.747469  ... -0.335332 -0.510994  0.035839  0.147565   \n",
       "2  1.072114 -0.334896  1.071268  ...  0.012220  0.352856 -0.341505 -0.145791   \n",
       "3  1.073860 -0.161408  0.200665  ... -0.424626 -0.781158  0.019316  0.178614   \n",
       "4 -0.151627 -0.305750 -0.869482  ...  0.010115  0.021722  0.079463 -0.480899   \n",
       "\n",
       "        V25       V26       V27       V28  Amount  Class  \n",
       "0  0.318620 -0.204963  0.001662  0.037894   49.67      0  \n",
       "1 -0.529358 -0.566950 -0.595998 -0.220086   16.94      0  \n",
       "2  0.094194 -0.804026  0.229428 -0.021623    1.00      0  \n",
       "3 -0.315616  0.096665  0.269740 -0.020635   10.78      0  \n",
       "4  0.023846 -0.279076 -0.030121 -0.043888   39.96      0  \n",
       "\n",
       "[5 rows x 31 columns]"
      ]
     },
     "execution_count": 333,
     "metadata": {},
     "output_type": "execute_result"
    }
   ],
   "source": [
    "train=pd.read_csv(\"/sanj/Simpli learn/AI Capstone/Project 2-Finance-Datasets/Financial/train_data.csv\")\n",
    "train.head()"
   ]
  },
  {
   "cell_type": "code",
   "execution_count": 334,
   "metadata": {},
   "outputs": [
    {
     "data": {
      "text/plain": [
       "(227845, 31)"
      ]
     },
     "execution_count": 334,
     "metadata": {},
     "output_type": "execute_result"
    }
   ],
   "source": [
    "train.shape"
   ]
  },
  {
   "cell_type": "code",
   "execution_count": 335,
   "metadata": {},
   "outputs": [
    {
     "data": {
      "text/html": [
       "<div>\n",
       "<style scoped>\n",
       "    .dataframe tbody tr th:only-of-type {\n",
       "        vertical-align: middle;\n",
       "    }\n",
       "\n",
       "    .dataframe tbody tr th {\n",
       "        vertical-align: top;\n",
       "    }\n",
       "\n",
       "    .dataframe thead th {\n",
       "        text-align: right;\n",
       "    }\n",
       "</style>\n",
       "<table border=\"1\" class=\"dataframe\">\n",
       "  <thead>\n",
       "    <tr style=\"text-align: right;\">\n",
       "      <th></th>\n",
       "      <th>Time</th>\n",
       "      <th>V1</th>\n",
       "      <th>V2</th>\n",
       "      <th>V3</th>\n",
       "      <th>V4</th>\n",
       "      <th>V5</th>\n",
       "      <th>V6</th>\n",
       "      <th>V7</th>\n",
       "      <th>V8</th>\n",
       "      <th>V9</th>\n",
       "      <th>...</th>\n",
       "      <th>V20</th>\n",
       "      <th>V21</th>\n",
       "      <th>V22</th>\n",
       "      <th>V23</th>\n",
       "      <th>V24</th>\n",
       "      <th>V25</th>\n",
       "      <th>V26</th>\n",
       "      <th>V27</th>\n",
       "      <th>V28</th>\n",
       "      <th>Amount</th>\n",
       "    </tr>\n",
       "  </thead>\n",
       "  <tbody>\n",
       "    <tr>\n",
       "      <th>0</th>\n",
       "      <td>113050.0</td>\n",
       "      <td>0.114697</td>\n",
       "      <td>0.796303</td>\n",
       "      <td>-0.149553</td>\n",
       "      <td>-0.823011</td>\n",
       "      <td>0.878763</td>\n",
       "      <td>-0.553152</td>\n",
       "      <td>0.939259</td>\n",
       "      <td>-0.108502</td>\n",
       "      <td>0.111137</td>\n",
       "      <td>...</td>\n",
       "      <td>-0.042711</td>\n",
       "      <td>-0.335776</td>\n",
       "      <td>-0.807853</td>\n",
       "      <td>-0.055940</td>\n",
       "      <td>-1.025281</td>\n",
       "      <td>-0.369557</td>\n",
       "      <td>0.204653</td>\n",
       "      <td>0.242724</td>\n",
       "      <td>0.085713</td>\n",
       "      <td>0.89</td>\n",
       "    </tr>\n",
       "    <tr>\n",
       "      <th>1</th>\n",
       "      <td>26667.0</td>\n",
       "      <td>-0.039318</td>\n",
       "      <td>0.495784</td>\n",
       "      <td>-0.810884</td>\n",
       "      <td>0.546693</td>\n",
       "      <td>1.986257</td>\n",
       "      <td>4.386342</td>\n",
       "      <td>-1.344891</td>\n",
       "      <td>-1.743736</td>\n",
       "      <td>-0.563103</td>\n",
       "      <td>...</td>\n",
       "      <td>0.926255</td>\n",
       "      <td>-1.377003</td>\n",
       "      <td>-0.072200</td>\n",
       "      <td>-0.197573</td>\n",
       "      <td>1.014807</td>\n",
       "      <td>1.011293</td>\n",
       "      <td>-0.167684</td>\n",
       "      <td>0.113136</td>\n",
       "      <td>0.256836</td>\n",
       "      <td>85.00</td>\n",
       "    </tr>\n",
       "    <tr>\n",
       "      <th>2</th>\n",
       "      <td>159519.0</td>\n",
       "      <td>2.275706</td>\n",
       "      <td>-1.531508</td>\n",
       "      <td>-1.021969</td>\n",
       "      <td>-1.602152</td>\n",
       "      <td>-1.220329</td>\n",
       "      <td>-0.462376</td>\n",
       "      <td>-1.196485</td>\n",
       "      <td>-0.147058</td>\n",
       "      <td>-0.950224</td>\n",
       "      <td>...</td>\n",
       "      <td>-0.408289</td>\n",
       "      <td>-0.193271</td>\n",
       "      <td>-0.103533</td>\n",
       "      <td>0.150945</td>\n",
       "      <td>-0.811083</td>\n",
       "      <td>-0.197913</td>\n",
       "      <td>-0.128446</td>\n",
       "      <td>0.014197</td>\n",
       "      <td>-0.051289</td>\n",
       "      <td>42.70</td>\n",
       "    </tr>\n",
       "    <tr>\n",
       "      <th>3</th>\n",
       "      <td>137545.0</td>\n",
       "      <td>1.940137</td>\n",
       "      <td>-0.357671</td>\n",
       "      <td>-1.210551</td>\n",
       "      <td>0.382523</td>\n",
       "      <td>0.050823</td>\n",
       "      <td>-0.171322</td>\n",
       "      <td>-0.109124</td>\n",
       "      <td>-0.002115</td>\n",
       "      <td>0.869258</td>\n",
       "      <td>...</td>\n",
       "      <td>-0.199280</td>\n",
       "      <td>0.157994</td>\n",
       "      <td>0.650355</td>\n",
       "      <td>0.034206</td>\n",
       "      <td>0.739535</td>\n",
       "      <td>0.223605</td>\n",
       "      <td>-0.195509</td>\n",
       "      <td>-0.012791</td>\n",
       "      <td>-0.056841</td>\n",
       "      <td>29.99</td>\n",
       "    </tr>\n",
       "    <tr>\n",
       "      <th>4</th>\n",
       "      <td>63369.0</td>\n",
       "      <td>1.081395</td>\n",
       "      <td>-0.502615</td>\n",
       "      <td>1.075887</td>\n",
       "      <td>-0.543359</td>\n",
       "      <td>-1.472946</td>\n",
       "      <td>-1.065484</td>\n",
       "      <td>-0.443231</td>\n",
       "      <td>-0.143374</td>\n",
       "      <td>1.659826</td>\n",
       "      <td>...</td>\n",
       "      <td>0.059880</td>\n",
       "      <td>0.224157</td>\n",
       "      <td>0.821209</td>\n",
       "      <td>-0.137223</td>\n",
       "      <td>0.986259</td>\n",
       "      <td>0.563228</td>\n",
       "      <td>-0.574206</td>\n",
       "      <td>0.089673</td>\n",
       "      <td>0.052036</td>\n",
       "      <td>68.00</td>\n",
       "    </tr>\n",
       "  </tbody>\n",
       "</table>\n",
       "<p>5 rows × 30 columns</p>\n",
       "</div>"
      ],
      "text/plain": [
       "       Time        V1        V2        V3        V4        V5        V6  \\\n",
       "0  113050.0  0.114697  0.796303 -0.149553 -0.823011  0.878763 -0.553152   \n",
       "1   26667.0 -0.039318  0.495784 -0.810884  0.546693  1.986257  4.386342   \n",
       "2  159519.0  2.275706 -1.531508 -1.021969 -1.602152 -1.220329 -0.462376   \n",
       "3  137545.0  1.940137 -0.357671 -1.210551  0.382523  0.050823 -0.171322   \n",
       "4   63369.0  1.081395 -0.502615  1.075887 -0.543359 -1.472946 -1.065484   \n",
       "\n",
       "         V7        V8        V9  ...       V20       V21       V22       V23  \\\n",
       "0  0.939259 -0.108502  0.111137  ... -0.042711 -0.335776 -0.807853 -0.055940   \n",
       "1 -1.344891 -1.743736 -0.563103  ...  0.926255 -1.377003 -0.072200 -0.197573   \n",
       "2 -1.196485 -0.147058 -0.950224  ... -0.408289 -0.193271 -0.103533  0.150945   \n",
       "3 -0.109124 -0.002115  0.869258  ... -0.199280  0.157994  0.650355  0.034206   \n",
       "4 -0.443231 -0.143374  1.659826  ...  0.059880  0.224157  0.821209 -0.137223   \n",
       "\n",
       "        V24       V25       V26       V27       V28  Amount  \n",
       "0 -1.025281 -0.369557  0.204653  0.242724  0.085713    0.89  \n",
       "1  1.014807  1.011293 -0.167684  0.113136  0.256836   85.00  \n",
       "2 -0.811083 -0.197913 -0.128446  0.014197 -0.051289   42.70  \n",
       "3  0.739535  0.223605 -0.195509 -0.012791 -0.056841   29.99  \n",
       "4  0.986259  0.563228 -0.574206  0.089673  0.052036   68.00  \n",
       "\n",
       "[5 rows x 30 columns]"
      ]
     },
     "execution_count": 335,
     "metadata": {},
     "output_type": "execute_result"
    }
   ],
   "source": [
    "test= pd.read_csv(\"/sanj/Simpli learn/AI Capstone/Project 2-Finance-Datasets/Financial/test_data.csv\")\n",
    "test.head()"
   ]
  },
  {
   "cell_type": "code",
   "execution_count": 336,
   "metadata": {},
   "outputs": [
    {
     "data": {
      "text/plain": [
       "(56962, 30)"
      ]
     },
     "execution_count": 336,
     "metadata": {},
     "output_type": "execute_result"
    }
   ],
   "source": [
    "test.shape"
   ]
  },
  {
   "cell_type": "code",
   "execution_count": 337,
   "metadata": {},
   "outputs": [
    {
     "data": {
      "text/html": [
       "<div>\n",
       "<style scoped>\n",
       "    .dataframe tbody tr th:only-of-type {\n",
       "        vertical-align: middle;\n",
       "    }\n",
       "\n",
       "    .dataframe tbody tr th {\n",
       "        vertical-align: top;\n",
       "    }\n",
       "\n",
       "    .dataframe thead th {\n",
       "        text-align: right;\n",
       "    }\n",
       "</style>\n",
       "<table border=\"1\" class=\"dataframe\">\n",
       "  <thead>\n",
       "    <tr style=\"text-align: right;\">\n",
       "      <th></th>\n",
       "      <th>Time</th>\n",
       "      <th>V1</th>\n",
       "      <th>V2</th>\n",
       "      <th>V3</th>\n",
       "      <th>V4</th>\n",
       "      <th>V5</th>\n",
       "      <th>V6</th>\n",
       "      <th>V7</th>\n",
       "      <th>V8</th>\n",
       "      <th>V9</th>\n",
       "      <th>...</th>\n",
       "      <th>V21</th>\n",
       "      <th>V22</th>\n",
       "      <th>V23</th>\n",
       "      <th>V24</th>\n",
       "      <th>V25</th>\n",
       "      <th>V26</th>\n",
       "      <th>V27</th>\n",
       "      <th>V28</th>\n",
       "      <th>Amount</th>\n",
       "      <th>Class</th>\n",
       "    </tr>\n",
       "  </thead>\n",
       "  <tbody>\n",
       "    <tr>\n",
       "      <th>0</th>\n",
       "      <td>113050.0</td>\n",
       "      <td>0.114697</td>\n",
       "      <td>0.796303</td>\n",
       "      <td>-0.149553</td>\n",
       "      <td>-0.823011</td>\n",
       "      <td>0.878763</td>\n",
       "      <td>-0.553152</td>\n",
       "      <td>0.939259</td>\n",
       "      <td>-0.108502</td>\n",
       "      <td>0.111137</td>\n",
       "      <td>...</td>\n",
       "      <td>-0.335776</td>\n",
       "      <td>-0.807853</td>\n",
       "      <td>-0.055940</td>\n",
       "      <td>-1.025281</td>\n",
       "      <td>-0.369557</td>\n",
       "      <td>0.204653</td>\n",
       "      <td>0.242724</td>\n",
       "      <td>0.085713</td>\n",
       "      <td>0.89</td>\n",
       "      <td>0</td>\n",
       "    </tr>\n",
       "    <tr>\n",
       "      <th>1</th>\n",
       "      <td>26667.0</td>\n",
       "      <td>-0.039318</td>\n",
       "      <td>0.495784</td>\n",
       "      <td>-0.810884</td>\n",
       "      <td>0.546693</td>\n",
       "      <td>1.986257</td>\n",
       "      <td>4.386342</td>\n",
       "      <td>-1.344891</td>\n",
       "      <td>-1.743736</td>\n",
       "      <td>-0.563103</td>\n",
       "      <td>...</td>\n",
       "      <td>-1.377003</td>\n",
       "      <td>-0.072200</td>\n",
       "      <td>-0.197573</td>\n",
       "      <td>1.014807</td>\n",
       "      <td>1.011293</td>\n",
       "      <td>-0.167684</td>\n",
       "      <td>0.113136</td>\n",
       "      <td>0.256836</td>\n",
       "      <td>85.00</td>\n",
       "      <td>0</td>\n",
       "    </tr>\n",
       "    <tr>\n",
       "      <th>2</th>\n",
       "      <td>159519.0</td>\n",
       "      <td>2.275706</td>\n",
       "      <td>-1.531508</td>\n",
       "      <td>-1.021969</td>\n",
       "      <td>-1.602152</td>\n",
       "      <td>-1.220329</td>\n",
       "      <td>-0.462376</td>\n",
       "      <td>-1.196485</td>\n",
       "      <td>-0.147058</td>\n",
       "      <td>-0.950224</td>\n",
       "      <td>...</td>\n",
       "      <td>-0.193271</td>\n",
       "      <td>-0.103533</td>\n",
       "      <td>0.150945</td>\n",
       "      <td>-0.811083</td>\n",
       "      <td>-0.197913</td>\n",
       "      <td>-0.128446</td>\n",
       "      <td>0.014197</td>\n",
       "      <td>-0.051289</td>\n",
       "      <td>42.70</td>\n",
       "      <td>0</td>\n",
       "    </tr>\n",
       "    <tr>\n",
       "      <th>3</th>\n",
       "      <td>137545.0</td>\n",
       "      <td>1.940137</td>\n",
       "      <td>-0.357671</td>\n",
       "      <td>-1.210551</td>\n",
       "      <td>0.382523</td>\n",
       "      <td>0.050823</td>\n",
       "      <td>-0.171322</td>\n",
       "      <td>-0.109124</td>\n",
       "      <td>-0.002115</td>\n",
       "      <td>0.869258</td>\n",
       "      <td>...</td>\n",
       "      <td>0.157994</td>\n",
       "      <td>0.650355</td>\n",
       "      <td>0.034206</td>\n",
       "      <td>0.739535</td>\n",
       "      <td>0.223605</td>\n",
       "      <td>-0.195509</td>\n",
       "      <td>-0.012791</td>\n",
       "      <td>-0.056841</td>\n",
       "      <td>29.99</td>\n",
       "      <td>0</td>\n",
       "    </tr>\n",
       "    <tr>\n",
       "      <th>4</th>\n",
       "      <td>63369.0</td>\n",
       "      <td>1.081395</td>\n",
       "      <td>-0.502615</td>\n",
       "      <td>1.075887</td>\n",
       "      <td>-0.543359</td>\n",
       "      <td>-1.472946</td>\n",
       "      <td>-1.065484</td>\n",
       "      <td>-0.443231</td>\n",
       "      <td>-0.143374</td>\n",
       "      <td>1.659826</td>\n",
       "      <td>...</td>\n",
       "      <td>0.224157</td>\n",
       "      <td>0.821209</td>\n",
       "      <td>-0.137223</td>\n",
       "      <td>0.986259</td>\n",
       "      <td>0.563228</td>\n",
       "      <td>-0.574206</td>\n",
       "      <td>0.089673</td>\n",
       "      <td>0.052036</td>\n",
       "      <td>68.00</td>\n",
       "      <td>0</td>\n",
       "    </tr>\n",
       "  </tbody>\n",
       "</table>\n",
       "<p>5 rows × 31 columns</p>\n",
       "</div>"
      ],
      "text/plain": [
       "       Time        V1        V2        V3        V4        V5        V6  \\\n",
       "0  113050.0  0.114697  0.796303 -0.149553 -0.823011  0.878763 -0.553152   \n",
       "1   26667.0 -0.039318  0.495784 -0.810884  0.546693  1.986257  4.386342   \n",
       "2  159519.0  2.275706 -1.531508 -1.021969 -1.602152 -1.220329 -0.462376   \n",
       "3  137545.0  1.940137 -0.357671 -1.210551  0.382523  0.050823 -0.171322   \n",
       "4   63369.0  1.081395 -0.502615  1.075887 -0.543359 -1.472946 -1.065484   \n",
       "\n",
       "         V7        V8        V9  ...       V21       V22       V23       V24  \\\n",
       "0  0.939259 -0.108502  0.111137  ... -0.335776 -0.807853 -0.055940 -1.025281   \n",
       "1 -1.344891 -1.743736 -0.563103  ... -1.377003 -0.072200 -0.197573  1.014807   \n",
       "2 -1.196485 -0.147058 -0.950224  ... -0.193271 -0.103533  0.150945 -0.811083   \n",
       "3 -0.109124 -0.002115  0.869258  ...  0.157994  0.650355  0.034206  0.739535   \n",
       "4 -0.443231 -0.143374  1.659826  ...  0.224157  0.821209 -0.137223  0.986259   \n",
       "\n",
       "        V25       V26       V27       V28  Amount  Class  \n",
       "0 -0.369557  0.204653  0.242724  0.085713    0.89      0  \n",
       "1  1.011293 -0.167684  0.113136  0.256836   85.00      0  \n",
       "2 -0.197913 -0.128446  0.014197 -0.051289   42.70      0  \n",
       "3  0.223605 -0.195509 -0.012791 -0.056841   29.99      0  \n",
       "4  0.563228 -0.574206  0.089673  0.052036   68.00      0  \n",
       "\n",
       "[5 rows x 31 columns]"
      ]
     },
     "execution_count": 337,
     "metadata": {},
     "output_type": "execute_result"
    }
   ],
   "source": [
    "test_Hidden= pd.read_csv(\"/sanj/Simpli learn/AI Capstone/Project 2-Finance-Datasets/Financial/test_data_hidden.csv\")\n",
    "test_Hidden.head()"
   ]
  },
  {
   "cell_type": "code",
   "execution_count": 338,
   "metadata": {},
   "outputs": [
    {
     "data": {
      "text/plain": [
       "(56962, 31)"
      ]
     },
     "execution_count": 338,
     "metadata": {},
     "output_type": "execute_result"
    }
   ],
   "source": [
    "test_Hidden.shape"
   ]
  },
  {
   "cell_type": "markdown",
   "metadata": {},
   "source": [
    "## EDA"
   ]
  },
  {
   "cell_type": "code",
   "execution_count": 339,
   "metadata": {},
   "outputs": [
    {
     "data": {
      "text/plain": [
       "Time      0\n",
       "V1        0\n",
       "V2        0\n",
       "V3        0\n",
       "V4        0\n",
       "V5        0\n",
       "V6        0\n",
       "V7        0\n",
       "V8        0\n",
       "V9        0\n",
       "V10       0\n",
       "V11       0\n",
       "V12       0\n",
       "V13       0\n",
       "V14       0\n",
       "V15       0\n",
       "V16       0\n",
       "V17       0\n",
       "V18       0\n",
       "V19       0\n",
       "V20       0\n",
       "V21       0\n",
       "V22       0\n",
       "V23       0\n",
       "V24       0\n",
       "V25       0\n",
       "V26       0\n",
       "V27       0\n",
       "V28       0\n",
       "Amount    0\n",
       "Class     0\n",
       "dtype: int64"
      ]
     },
     "execution_count": 339,
     "metadata": {},
     "output_type": "execute_result"
    }
   ],
   "source": [
    "train.isna().sum()"
   ]
  },
  {
   "cell_type": "code",
   "execution_count": 7,
   "metadata": {},
   "outputs": [
    {
     "data": {
      "text/plain": [
       "Time      0\n",
       "V1        0\n",
       "V2        0\n",
       "V3        0\n",
       "V4        0\n",
       "V5        0\n",
       "V6        0\n",
       "V7        0\n",
       "V8        0\n",
       "V9        0\n",
       "V10       0\n",
       "V11       0\n",
       "V12       0\n",
       "V13       0\n",
       "V14       0\n",
       "V15       0\n",
       "V16       0\n",
       "V17       0\n",
       "V18       0\n",
       "V19       0\n",
       "V20       0\n",
       "V21       0\n",
       "V22       0\n",
       "V23       0\n",
       "V24       0\n",
       "V25       0\n",
       "V26       0\n",
       "V27       0\n",
       "V28       0\n",
       "Amount    0\n",
       "dtype: int64"
      ]
     },
     "execution_count": 7,
     "metadata": {},
     "output_type": "execute_result"
    }
   ],
   "source": [
    "test.isna().sum()"
   ]
  },
  {
   "cell_type": "code",
   "execution_count": 8,
   "metadata": {},
   "outputs": [
    {
     "data": {
      "text/plain": [
       "Time      0\n",
       "V1        0\n",
       "V2        0\n",
       "V3        0\n",
       "V4        0\n",
       "V5        0\n",
       "V6        0\n",
       "V7        0\n",
       "V8        0\n",
       "V9        0\n",
       "V10       0\n",
       "V11       0\n",
       "V12       0\n",
       "V13       0\n",
       "V14       0\n",
       "V15       0\n",
       "V16       0\n",
       "V17       0\n",
       "V18       0\n",
       "V19       0\n",
       "V20       0\n",
       "V21       0\n",
       "V22       0\n",
       "V23       0\n",
       "V24       0\n",
       "V25       0\n",
       "V26       0\n",
       "V27       0\n",
       "V28       0\n",
       "Amount    0\n",
       "Class     0\n",
       "dtype: int64"
      ]
     },
     "execution_count": 8,
     "metadata": {},
     "output_type": "execute_result"
    }
   ],
   "source": [
    "test_Hidden.isna().sum()"
   ]
  },
  {
   "cell_type": "markdown",
   "metadata": {},
   "source": [
    "### Check all the latent features(hidden features) and parameters with their mean and standard deviation. OBservation:Values are close to 0 centered (mean) with unit standard deviation"
   ]
  },
  {
   "cell_type": "code",
   "execution_count": 9,
   "metadata": {},
   "outputs": [
    {
     "data": {
      "text/html": [
       "<div>\n",
       "<style scoped>\n",
       "    .dataframe tbody tr th:only-of-type {\n",
       "        vertical-align: middle;\n",
       "    }\n",
       "\n",
       "    .dataframe tbody tr th {\n",
       "        vertical-align: top;\n",
       "    }\n",
       "\n",
       "    .dataframe thead th {\n",
       "        text-align: right;\n",
       "    }\n",
       "</style>\n",
       "<table border=\"1\" class=\"dataframe\">\n",
       "  <thead>\n",
       "    <tr style=\"text-align: right;\">\n",
       "      <th></th>\n",
       "      <th>Time</th>\n",
       "      <th>V1</th>\n",
       "      <th>V2</th>\n",
       "      <th>V3</th>\n",
       "      <th>V4</th>\n",
       "      <th>V5</th>\n",
       "      <th>V6</th>\n",
       "      <th>V7</th>\n",
       "      <th>V8</th>\n",
       "      <th>V9</th>\n",
       "      <th>...</th>\n",
       "      <th>V21</th>\n",
       "      <th>V22</th>\n",
       "      <th>V23</th>\n",
       "      <th>V24</th>\n",
       "      <th>V25</th>\n",
       "      <th>V26</th>\n",
       "      <th>V27</th>\n",
       "      <th>V28</th>\n",
       "      <th>Amount</th>\n",
       "      <th>Class</th>\n",
       "    </tr>\n",
       "  </thead>\n",
       "  <tbody>\n",
       "    <tr>\n",
       "      <th>count</th>\n",
       "      <td>56962.000000</td>\n",
       "      <td>56962.000000</td>\n",
       "      <td>56962.000000</td>\n",
       "      <td>56962.000000</td>\n",
       "      <td>56962.000000</td>\n",
       "      <td>56962.000000</td>\n",
       "      <td>56962.000000</td>\n",
       "      <td>56962.000000</td>\n",
       "      <td>56962.000000</td>\n",
       "      <td>56962.000000</td>\n",
       "      <td>...</td>\n",
       "      <td>56962.000000</td>\n",
       "      <td>56962.000000</td>\n",
       "      <td>56962.000000</td>\n",
       "      <td>56962.000000</td>\n",
       "      <td>56962.000000</td>\n",
       "      <td>56962.000000</td>\n",
       "      <td>56962.000000</td>\n",
       "      <td>56962.000000</td>\n",
       "      <td>56962.000000</td>\n",
       "      <td>56962.000000</td>\n",
       "    </tr>\n",
       "    <tr>\n",
       "      <th>mean</th>\n",
       "      <td>95057.882360</td>\n",
       "      <td>0.013286</td>\n",
       "      <td>0.006610</td>\n",
       "      <td>-0.004263</td>\n",
       "      <td>0.001496</td>\n",
       "      <td>-0.003508</td>\n",
       "      <td>-0.003079</td>\n",
       "      <td>0.000141</td>\n",
       "      <td>-0.006501</td>\n",
       "      <td>0.001564</td>\n",
       "      <td>...</td>\n",
       "      <td>-0.002253</td>\n",
       "      <td>-0.004938</td>\n",
       "      <td>0.004008</td>\n",
       "      <td>-0.001017</td>\n",
       "      <td>-0.000872</td>\n",
       "      <td>0.004513</td>\n",
       "      <td>0.001385</td>\n",
       "      <td>-0.001990</td>\n",
       "      <td>87.658797</td>\n",
       "      <td>0.001720</td>\n",
       "    </tr>\n",
       "    <tr>\n",
       "      <th>std</th>\n",
       "      <td>47438.688395</td>\n",
       "      <td>1.941231</td>\n",
       "      <td>1.611224</td>\n",
       "      <td>1.516853</td>\n",
       "      <td>1.419107</td>\n",
       "      <td>1.431731</td>\n",
       "      <td>1.359647</td>\n",
       "      <td>1.301800</td>\n",
       "      <td>1.201138</td>\n",
       "      <td>1.103688</td>\n",
       "      <td>...</td>\n",
       "      <td>0.735871</td>\n",
       "      <td>0.730301</td>\n",
       "      <td>0.621623</td>\n",
       "      <td>0.604191</td>\n",
       "      <td>0.521003</td>\n",
       "      <td>0.481857</td>\n",
       "      <td>0.416750</td>\n",
       "      <td>0.325640</td>\n",
       "      <td>258.042879</td>\n",
       "      <td>0.041443</td>\n",
       "    </tr>\n",
       "    <tr>\n",
       "      <th>min</th>\n",
       "      <td>2.000000</td>\n",
       "      <td>-36.510583</td>\n",
       "      <td>-47.429676</td>\n",
       "      <td>-48.325589</td>\n",
       "      <td>-5.560118</td>\n",
       "      <td>-113.743307</td>\n",
       "      <td>-20.054615</td>\n",
       "      <td>-28.215112</td>\n",
       "      <td>-41.484823</td>\n",
       "      <td>-9.481456</td>\n",
       "      <td>...</td>\n",
       "      <td>-21.620120</td>\n",
       "      <td>-8.593642</td>\n",
       "      <td>-32.828995</td>\n",
       "      <td>-2.822684</td>\n",
       "      <td>-8.696627</td>\n",
       "      <td>-1.778061</td>\n",
       "      <td>-8.878665</td>\n",
       "      <td>-15.430084</td>\n",
       "      <td>0.000000</td>\n",
       "      <td>0.000000</td>\n",
       "    </tr>\n",
       "    <tr>\n",
       "      <th>25%</th>\n",
       "      <td>54286.250000</td>\n",
       "      <td>-0.908591</td>\n",
       "      <td>-0.600208</td>\n",
       "      <td>-0.893961</td>\n",
       "      <td>-0.847617</td>\n",
       "      <td>-0.694059</td>\n",
       "      <td>-0.770145</td>\n",
       "      <td>-0.551096</td>\n",
       "      <td>-0.211190</td>\n",
       "      <td>-0.642072</td>\n",
       "      <td>...</td>\n",
       "      <td>-0.230210</td>\n",
       "      <td>-0.549030</td>\n",
       "      <td>-0.160179</td>\n",
       "      <td>-0.356599</td>\n",
       "      <td>-0.315738</td>\n",
       "      <td>-0.322766</td>\n",
       "      <td>-0.070204</td>\n",
       "      <td>-0.052351</td>\n",
       "      <td>5.615000</td>\n",
       "      <td>0.000000</td>\n",
       "    </tr>\n",
       "    <tr>\n",
       "      <th>50%</th>\n",
       "      <td>85226.500000</td>\n",
       "      <td>0.036251</td>\n",
       "      <td>0.061840</td>\n",
       "      <td>0.170910</td>\n",
       "      <td>-0.022094</td>\n",
       "      <td>-0.051828</td>\n",
       "      <td>-0.278939</td>\n",
       "      <td>0.039155</td>\n",
       "      <td>0.019903</td>\n",
       "      <td>-0.052607</td>\n",
       "      <td>...</td>\n",
       "      <td>-0.032379</td>\n",
       "      <td>-0.000329</td>\n",
       "      <td>-0.009334</td>\n",
       "      <td>0.040045</td>\n",
       "      <td>0.018074</td>\n",
       "      <td>-0.047859</td>\n",
       "      <td>0.001451</td>\n",
       "      <td>0.011354</td>\n",
       "      <td>21.900000</td>\n",
       "      <td>0.000000</td>\n",
       "    </tr>\n",
       "    <tr>\n",
       "      <th>75%</th>\n",
       "      <td>139235.000000</td>\n",
       "      <td>1.319727</td>\n",
       "      <td>0.801163</td>\n",
       "      <td>1.016897</td>\n",
       "      <td>0.738688</td>\n",
       "      <td>0.615454</td>\n",
       "      <td>0.392801</td>\n",
       "      <td>0.569769</td>\n",
       "      <td>0.324905</td>\n",
       "      <td>0.599634</td>\n",
       "      <td>...</td>\n",
       "      <td>0.184809</td>\n",
       "      <td>0.524484</td>\n",
       "      <td>0.149985</td>\n",
       "      <td>0.437657</td>\n",
       "      <td>0.348895</td>\n",
       "      <td>0.245286</td>\n",
       "      <td>0.090737</td>\n",
       "      <td>0.077483</td>\n",
       "      <td>77.500000</td>\n",
       "      <td>0.000000</td>\n",
       "    </tr>\n",
       "    <tr>\n",
       "      <th>max</th>\n",
       "      <td>172785.000000</td>\n",
       "      <td>2.446505</td>\n",
       "      <td>18.902453</td>\n",
       "      <td>3.985446</td>\n",
       "      <td>15.304184</td>\n",
       "      <td>29.016124</td>\n",
       "      <td>73.301626</td>\n",
       "      <td>120.589494</td>\n",
       "      <td>18.282168</td>\n",
       "      <td>10.370658</td>\n",
       "      <td>...</td>\n",
       "      <td>22.614889</td>\n",
       "      <td>6.790452</td>\n",
       "      <td>20.803344</td>\n",
       "      <td>4.584549</td>\n",
       "      <td>7.519589</td>\n",
       "      <td>3.517346</td>\n",
       "      <td>31.612198</td>\n",
       "      <td>22.620072</td>\n",
       "      <td>25691.160000</td>\n",
       "      <td>1.000000</td>\n",
       "    </tr>\n",
       "  </tbody>\n",
       "</table>\n",
       "<p>8 rows × 31 columns</p>\n",
       "</div>"
      ],
      "text/plain": [
       "                Time            V1            V2            V3            V4  \\\n",
       "count   56962.000000  56962.000000  56962.000000  56962.000000  56962.000000   \n",
       "mean    95057.882360      0.013286      0.006610     -0.004263      0.001496   \n",
       "std     47438.688395      1.941231      1.611224      1.516853      1.419107   \n",
       "min         2.000000    -36.510583    -47.429676    -48.325589     -5.560118   \n",
       "25%     54286.250000     -0.908591     -0.600208     -0.893961     -0.847617   \n",
       "50%     85226.500000      0.036251      0.061840      0.170910     -0.022094   \n",
       "75%    139235.000000      1.319727      0.801163      1.016897      0.738688   \n",
       "max    172785.000000      2.446505     18.902453      3.985446     15.304184   \n",
       "\n",
       "                 V5            V6            V7            V8            V9  \\\n",
       "count  56962.000000  56962.000000  56962.000000  56962.000000  56962.000000   \n",
       "mean      -0.003508     -0.003079      0.000141     -0.006501      0.001564   \n",
       "std        1.431731      1.359647      1.301800      1.201138      1.103688   \n",
       "min     -113.743307    -20.054615    -28.215112    -41.484823     -9.481456   \n",
       "25%       -0.694059     -0.770145     -0.551096     -0.211190     -0.642072   \n",
       "50%       -0.051828     -0.278939      0.039155      0.019903     -0.052607   \n",
       "75%        0.615454      0.392801      0.569769      0.324905      0.599634   \n",
       "max       29.016124     73.301626    120.589494     18.282168     10.370658   \n",
       "\n",
       "       ...           V21           V22           V23           V24  \\\n",
       "count  ...  56962.000000  56962.000000  56962.000000  56962.000000   \n",
       "mean   ...     -0.002253     -0.004938      0.004008     -0.001017   \n",
       "std    ...      0.735871      0.730301      0.621623      0.604191   \n",
       "min    ...    -21.620120     -8.593642    -32.828995     -2.822684   \n",
       "25%    ...     -0.230210     -0.549030     -0.160179     -0.356599   \n",
       "50%    ...     -0.032379     -0.000329     -0.009334      0.040045   \n",
       "75%    ...      0.184809      0.524484      0.149985      0.437657   \n",
       "max    ...     22.614889      6.790452     20.803344      4.584549   \n",
       "\n",
       "                V25           V26           V27           V28        Amount  \\\n",
       "count  56962.000000  56962.000000  56962.000000  56962.000000  56962.000000   \n",
       "mean      -0.000872      0.004513      0.001385     -0.001990     87.658797   \n",
       "std        0.521003      0.481857      0.416750      0.325640    258.042879   \n",
       "min       -8.696627     -1.778061     -8.878665    -15.430084      0.000000   \n",
       "25%       -0.315738     -0.322766     -0.070204     -0.052351      5.615000   \n",
       "50%        0.018074     -0.047859      0.001451      0.011354     21.900000   \n",
       "75%        0.348895      0.245286      0.090737      0.077483     77.500000   \n",
       "max        7.519589      3.517346     31.612198     22.620072  25691.160000   \n",
       "\n",
       "              Class  \n",
       "count  56962.000000  \n",
       "mean       0.001720  \n",
       "std        0.041443  \n",
       "min        0.000000  \n",
       "25%        0.000000  \n",
       "50%        0.000000  \n",
       "75%        0.000000  \n",
       "max        1.000000  \n",
       "\n",
       "[8 rows x 31 columns]"
      ]
     },
     "execution_count": 9,
     "metadata": {},
     "output_type": "execute_result"
    }
   ],
   "source": [
    "test_Hidden.describe()"
   ]
  },
  {
   "cell_type": "code",
   "execution_count": 10,
   "metadata": {},
   "outputs": [
    {
     "data": {
      "text/html": [
       "<div>\n",
       "<style scoped>\n",
       "    .dataframe tbody tr th:only-of-type {\n",
       "        vertical-align: middle;\n",
       "    }\n",
       "\n",
       "    .dataframe tbody tr th {\n",
       "        vertical-align: top;\n",
       "    }\n",
       "\n",
       "    .dataframe thead th {\n",
       "        text-align: right;\n",
       "    }\n",
       "</style>\n",
       "<table border=\"1\" class=\"dataframe\">\n",
       "  <thead>\n",
       "    <tr style=\"text-align: right;\">\n",
       "      <th></th>\n",
       "      <th>Time</th>\n",
       "      <th>V1</th>\n",
       "      <th>V2</th>\n",
       "      <th>V3</th>\n",
       "      <th>V4</th>\n",
       "      <th>V5</th>\n",
       "      <th>V6</th>\n",
       "      <th>V7</th>\n",
       "      <th>V8</th>\n",
       "      <th>V9</th>\n",
       "      <th>...</th>\n",
       "      <th>V20</th>\n",
       "      <th>V21</th>\n",
       "      <th>V22</th>\n",
       "      <th>V23</th>\n",
       "      <th>V24</th>\n",
       "      <th>V25</th>\n",
       "      <th>V26</th>\n",
       "      <th>V27</th>\n",
       "      <th>V28</th>\n",
       "      <th>Amount</th>\n",
       "    </tr>\n",
       "  </thead>\n",
       "  <tbody>\n",
       "    <tr>\n",
       "      <th>count</th>\n",
       "      <td>56962.000000</td>\n",
       "      <td>56962.000000</td>\n",
       "      <td>56962.000000</td>\n",
       "      <td>56962.000000</td>\n",
       "      <td>56962.000000</td>\n",
       "      <td>56962.000000</td>\n",
       "      <td>56962.000000</td>\n",
       "      <td>56962.000000</td>\n",
       "      <td>56962.000000</td>\n",
       "      <td>56962.000000</td>\n",
       "      <td>...</td>\n",
       "      <td>56962.000000</td>\n",
       "      <td>56962.000000</td>\n",
       "      <td>56962.000000</td>\n",
       "      <td>56962.000000</td>\n",
       "      <td>56962.000000</td>\n",
       "      <td>56962.000000</td>\n",
       "      <td>56962.000000</td>\n",
       "      <td>56962.000000</td>\n",
       "      <td>56962.000000</td>\n",
       "      <td>56962.000000</td>\n",
       "    </tr>\n",
       "    <tr>\n",
       "      <th>mean</th>\n",
       "      <td>95057.882360</td>\n",
       "      <td>0.013286</td>\n",
       "      <td>0.006610</td>\n",
       "      <td>-0.004263</td>\n",
       "      <td>0.001496</td>\n",
       "      <td>-0.003508</td>\n",
       "      <td>-0.003079</td>\n",
       "      <td>0.000141</td>\n",
       "      <td>-0.006501</td>\n",
       "      <td>0.001564</td>\n",
       "      <td>...</td>\n",
       "      <td>-0.002685</td>\n",
       "      <td>-0.002253</td>\n",
       "      <td>-0.004938</td>\n",
       "      <td>0.004008</td>\n",
       "      <td>-0.001017</td>\n",
       "      <td>-0.000872</td>\n",
       "      <td>0.004513</td>\n",
       "      <td>0.001385</td>\n",
       "      <td>-0.001990</td>\n",
       "      <td>87.658797</td>\n",
       "    </tr>\n",
       "    <tr>\n",
       "      <th>std</th>\n",
       "      <td>47438.688395</td>\n",
       "      <td>1.941231</td>\n",
       "      <td>1.611224</td>\n",
       "      <td>1.516853</td>\n",
       "      <td>1.419107</td>\n",
       "      <td>1.431731</td>\n",
       "      <td>1.359647</td>\n",
       "      <td>1.301800</td>\n",
       "      <td>1.201138</td>\n",
       "      <td>1.103688</td>\n",
       "      <td>...</td>\n",
       "      <td>0.764450</td>\n",
       "      <td>0.735871</td>\n",
       "      <td>0.730301</td>\n",
       "      <td>0.621623</td>\n",
       "      <td>0.604191</td>\n",
       "      <td>0.521003</td>\n",
       "      <td>0.481857</td>\n",
       "      <td>0.416750</td>\n",
       "      <td>0.325640</td>\n",
       "      <td>258.042879</td>\n",
       "    </tr>\n",
       "    <tr>\n",
       "      <th>min</th>\n",
       "      <td>2.000000</td>\n",
       "      <td>-36.510583</td>\n",
       "      <td>-47.429676</td>\n",
       "      <td>-48.325589</td>\n",
       "      <td>-5.560118</td>\n",
       "      <td>-113.743307</td>\n",
       "      <td>-20.054615</td>\n",
       "      <td>-28.215112</td>\n",
       "      <td>-41.484823</td>\n",
       "      <td>-9.481456</td>\n",
       "      <td>...</td>\n",
       "      <td>-54.497720</td>\n",
       "      <td>-21.620120</td>\n",
       "      <td>-8.593642</td>\n",
       "      <td>-32.828995</td>\n",
       "      <td>-2.822684</td>\n",
       "      <td>-8.696627</td>\n",
       "      <td>-1.778061</td>\n",
       "      <td>-8.878665</td>\n",
       "      <td>-15.430084</td>\n",
       "      <td>0.000000</td>\n",
       "    </tr>\n",
       "    <tr>\n",
       "      <th>25%</th>\n",
       "      <td>54286.250000</td>\n",
       "      <td>-0.908591</td>\n",
       "      <td>-0.600208</td>\n",
       "      <td>-0.893961</td>\n",
       "      <td>-0.847617</td>\n",
       "      <td>-0.694059</td>\n",
       "      <td>-0.770145</td>\n",
       "      <td>-0.551096</td>\n",
       "      <td>-0.211190</td>\n",
       "      <td>-0.642072</td>\n",
       "      <td>...</td>\n",
       "      <td>-0.211598</td>\n",
       "      <td>-0.230210</td>\n",
       "      <td>-0.549030</td>\n",
       "      <td>-0.160179</td>\n",
       "      <td>-0.356599</td>\n",
       "      <td>-0.315738</td>\n",
       "      <td>-0.322766</td>\n",
       "      <td>-0.070204</td>\n",
       "      <td>-0.052351</td>\n",
       "      <td>5.615000</td>\n",
       "    </tr>\n",
       "    <tr>\n",
       "      <th>50%</th>\n",
       "      <td>85226.500000</td>\n",
       "      <td>0.036251</td>\n",
       "      <td>0.061840</td>\n",
       "      <td>0.170910</td>\n",
       "      <td>-0.022094</td>\n",
       "      <td>-0.051828</td>\n",
       "      <td>-0.278939</td>\n",
       "      <td>0.039155</td>\n",
       "      <td>0.019903</td>\n",
       "      <td>-0.052607</td>\n",
       "      <td>...</td>\n",
       "      <td>-0.061739</td>\n",
       "      <td>-0.032379</td>\n",
       "      <td>-0.000329</td>\n",
       "      <td>-0.009334</td>\n",
       "      <td>0.040045</td>\n",
       "      <td>0.018074</td>\n",
       "      <td>-0.047859</td>\n",
       "      <td>0.001451</td>\n",
       "      <td>0.011354</td>\n",
       "      <td>21.900000</td>\n",
       "    </tr>\n",
       "    <tr>\n",
       "      <th>75%</th>\n",
       "      <td>139235.000000</td>\n",
       "      <td>1.319727</td>\n",
       "      <td>0.801163</td>\n",
       "      <td>1.016897</td>\n",
       "      <td>0.738688</td>\n",
       "      <td>0.615454</td>\n",
       "      <td>0.392801</td>\n",
       "      <td>0.569769</td>\n",
       "      <td>0.324905</td>\n",
       "      <td>0.599634</td>\n",
       "      <td>...</td>\n",
       "      <td>0.131241</td>\n",
       "      <td>0.184809</td>\n",
       "      <td>0.524484</td>\n",
       "      <td>0.149985</td>\n",
       "      <td>0.437657</td>\n",
       "      <td>0.348895</td>\n",
       "      <td>0.245286</td>\n",
       "      <td>0.090737</td>\n",
       "      <td>0.077483</td>\n",
       "      <td>77.500000</td>\n",
       "    </tr>\n",
       "    <tr>\n",
       "      <th>max</th>\n",
       "      <td>172785.000000</td>\n",
       "      <td>2.446505</td>\n",
       "      <td>18.902453</td>\n",
       "      <td>3.985446</td>\n",
       "      <td>15.304184</td>\n",
       "      <td>29.016124</td>\n",
       "      <td>73.301626</td>\n",
       "      <td>120.589494</td>\n",
       "      <td>18.282168</td>\n",
       "      <td>10.370658</td>\n",
       "      <td>...</td>\n",
       "      <td>19.746453</td>\n",
       "      <td>22.614889</td>\n",
       "      <td>6.790452</td>\n",
       "      <td>20.803344</td>\n",
       "      <td>4.584549</td>\n",
       "      <td>7.519589</td>\n",
       "      <td>3.517346</td>\n",
       "      <td>31.612198</td>\n",
       "      <td>22.620072</td>\n",
       "      <td>25691.160000</td>\n",
       "    </tr>\n",
       "  </tbody>\n",
       "</table>\n",
       "<p>8 rows × 30 columns</p>\n",
       "</div>"
      ],
      "text/plain": [
       "                Time            V1            V2            V3            V4  \\\n",
       "count   56962.000000  56962.000000  56962.000000  56962.000000  56962.000000   \n",
       "mean    95057.882360      0.013286      0.006610     -0.004263      0.001496   \n",
       "std     47438.688395      1.941231      1.611224      1.516853      1.419107   \n",
       "min         2.000000    -36.510583    -47.429676    -48.325589     -5.560118   \n",
       "25%     54286.250000     -0.908591     -0.600208     -0.893961     -0.847617   \n",
       "50%     85226.500000      0.036251      0.061840      0.170910     -0.022094   \n",
       "75%    139235.000000      1.319727      0.801163      1.016897      0.738688   \n",
       "max    172785.000000      2.446505     18.902453      3.985446     15.304184   \n",
       "\n",
       "                 V5            V6            V7            V8            V9  \\\n",
       "count  56962.000000  56962.000000  56962.000000  56962.000000  56962.000000   \n",
       "mean      -0.003508     -0.003079      0.000141     -0.006501      0.001564   \n",
       "std        1.431731      1.359647      1.301800      1.201138      1.103688   \n",
       "min     -113.743307    -20.054615    -28.215112    -41.484823     -9.481456   \n",
       "25%       -0.694059     -0.770145     -0.551096     -0.211190     -0.642072   \n",
       "50%       -0.051828     -0.278939      0.039155      0.019903     -0.052607   \n",
       "75%        0.615454      0.392801      0.569769      0.324905      0.599634   \n",
       "max       29.016124     73.301626    120.589494     18.282168     10.370658   \n",
       "\n",
       "       ...           V20           V21           V22           V23  \\\n",
       "count  ...  56962.000000  56962.000000  56962.000000  56962.000000   \n",
       "mean   ...     -0.002685     -0.002253     -0.004938      0.004008   \n",
       "std    ...      0.764450      0.735871      0.730301      0.621623   \n",
       "min    ...    -54.497720    -21.620120     -8.593642    -32.828995   \n",
       "25%    ...     -0.211598     -0.230210     -0.549030     -0.160179   \n",
       "50%    ...     -0.061739     -0.032379     -0.000329     -0.009334   \n",
       "75%    ...      0.131241      0.184809      0.524484      0.149985   \n",
       "max    ...     19.746453     22.614889      6.790452     20.803344   \n",
       "\n",
       "                V24           V25           V26           V27           V28  \\\n",
       "count  56962.000000  56962.000000  56962.000000  56962.000000  56962.000000   \n",
       "mean      -0.001017     -0.000872      0.004513      0.001385     -0.001990   \n",
       "std        0.604191      0.521003      0.481857      0.416750      0.325640   \n",
       "min       -2.822684     -8.696627     -1.778061     -8.878665    -15.430084   \n",
       "25%       -0.356599     -0.315738     -0.322766     -0.070204     -0.052351   \n",
       "50%        0.040045      0.018074     -0.047859      0.001451      0.011354   \n",
       "75%        0.437657      0.348895      0.245286      0.090737      0.077483   \n",
       "max        4.584549      7.519589      3.517346     31.612198     22.620072   \n",
       "\n",
       "             Amount  \n",
       "count  56962.000000  \n",
       "mean      87.658797  \n",
       "std      258.042879  \n",
       "min        0.000000  \n",
       "25%        5.615000  \n",
       "50%       21.900000  \n",
       "75%       77.500000  \n",
       "max    25691.160000  \n",
       "\n",
       "[8 rows x 30 columns]"
      ]
     },
     "execution_count": 10,
     "metadata": {},
     "output_type": "execute_result"
    }
   ],
   "source": [
    "test.describe()"
   ]
  },
  {
   "cell_type": "code",
   "execution_count": 11,
   "metadata": {},
   "outputs": [
    {
     "data": {
      "text/html": [
       "<div>\n",
       "<style scoped>\n",
       "    .dataframe tbody tr th:only-of-type {\n",
       "        vertical-align: middle;\n",
       "    }\n",
       "\n",
       "    .dataframe tbody tr th {\n",
       "        vertical-align: top;\n",
       "    }\n",
       "\n",
       "    .dataframe thead th {\n",
       "        text-align: right;\n",
       "    }\n",
       "</style>\n",
       "<table border=\"1\" class=\"dataframe\">\n",
       "  <thead>\n",
       "    <tr style=\"text-align: right;\">\n",
       "      <th></th>\n",
       "      <th>Time</th>\n",
       "      <th>V1</th>\n",
       "      <th>V2</th>\n",
       "      <th>V3</th>\n",
       "      <th>V4</th>\n",
       "      <th>V5</th>\n",
       "      <th>V6</th>\n",
       "      <th>V7</th>\n",
       "      <th>V8</th>\n",
       "      <th>V9</th>\n",
       "      <th>...</th>\n",
       "      <th>V21</th>\n",
       "      <th>V22</th>\n",
       "      <th>V23</th>\n",
       "      <th>V24</th>\n",
       "      <th>V25</th>\n",
       "      <th>V26</th>\n",
       "      <th>V27</th>\n",
       "      <th>V28</th>\n",
       "      <th>Amount</th>\n",
       "      <th>Class</th>\n",
       "    </tr>\n",
       "  </thead>\n",
       "  <tbody>\n",
       "    <tr>\n",
       "      <th>count</th>\n",
       "      <td>227845.000000</td>\n",
       "      <td>227845.000000</td>\n",
       "      <td>227845.000000</td>\n",
       "      <td>227845.000000</td>\n",
       "      <td>227845.000000</td>\n",
       "      <td>227845.000000</td>\n",
       "      <td>227845.000000</td>\n",
       "      <td>227845.000000</td>\n",
       "      <td>227845.000000</td>\n",
       "      <td>227845.000000</td>\n",
       "      <td>...</td>\n",
       "      <td>227845.000000</td>\n",
       "      <td>227845.000000</td>\n",
       "      <td>227845.000000</td>\n",
       "      <td>227845.000000</td>\n",
       "      <td>227845.000000</td>\n",
       "      <td>227845.000000</td>\n",
       "      <td>227845.000000</td>\n",
       "      <td>227845.000000</td>\n",
       "      <td>227845.000000</td>\n",
       "      <td>227845.000000</td>\n",
       "    </tr>\n",
       "    <tr>\n",
       "      <th>mean</th>\n",
       "      <td>94752.853076</td>\n",
       "      <td>-0.003321</td>\n",
       "      <td>-0.001652</td>\n",
       "      <td>0.001066</td>\n",
       "      <td>-0.000374</td>\n",
       "      <td>0.000877</td>\n",
       "      <td>0.000770</td>\n",
       "      <td>-0.000035</td>\n",
       "      <td>0.001625</td>\n",
       "      <td>-0.000391</td>\n",
       "      <td>...</td>\n",
       "      <td>0.000563</td>\n",
       "      <td>0.001234</td>\n",
       "      <td>-0.001002</td>\n",
       "      <td>0.000254</td>\n",
       "      <td>0.000218</td>\n",
       "      <td>-0.001128</td>\n",
       "      <td>-0.000346</td>\n",
       "      <td>0.000498</td>\n",
       "      <td>88.522327</td>\n",
       "      <td>0.001729</td>\n",
       "    </tr>\n",
       "    <tr>\n",
       "      <th>std</th>\n",
       "      <td>47500.410602</td>\n",
       "      <td>1.963028</td>\n",
       "      <td>1.661178</td>\n",
       "      <td>1.516107</td>\n",
       "      <td>1.415061</td>\n",
       "      <td>1.367074</td>\n",
       "      <td>1.325341</td>\n",
       "      <td>1.220384</td>\n",
       "      <td>1.192648</td>\n",
       "      <td>1.097367</td>\n",
       "      <td>...</td>\n",
       "      <td>0.734187</td>\n",
       "      <td>0.724544</td>\n",
       "      <td>0.625165</td>\n",
       "      <td>0.606012</td>\n",
       "      <td>0.521348</td>\n",
       "      <td>0.482314</td>\n",
       "      <td>0.400286</td>\n",
       "      <td>0.331184</td>\n",
       "      <td>248.100141</td>\n",
       "      <td>0.041548</td>\n",
       "    </tr>\n",
       "    <tr>\n",
       "      <th>min</th>\n",
       "      <td>0.000000</td>\n",
       "      <td>-56.407510</td>\n",
       "      <td>-72.715728</td>\n",
       "      <td>-32.965346</td>\n",
       "      <td>-5.683171</td>\n",
       "      <td>-42.147898</td>\n",
       "      <td>-26.160506</td>\n",
       "      <td>-43.557242</td>\n",
       "      <td>-73.216718</td>\n",
       "      <td>-13.434066</td>\n",
       "      <td>...</td>\n",
       "      <td>-34.830382</td>\n",
       "      <td>-10.933144</td>\n",
       "      <td>-44.807735</td>\n",
       "      <td>-2.836627</td>\n",
       "      <td>-10.295397</td>\n",
       "      <td>-2.604551</td>\n",
       "      <td>-22.565679</td>\n",
       "      <td>-11.710896</td>\n",
       "      <td>0.000000</td>\n",
       "      <td>0.000000</td>\n",
       "    </tr>\n",
       "    <tr>\n",
       "      <th>25%</th>\n",
       "      <td>54182.000000</td>\n",
       "      <td>-0.922851</td>\n",
       "      <td>-0.598040</td>\n",
       "      <td>-0.889246</td>\n",
       "      <td>-0.848884</td>\n",
       "      <td>-0.690811</td>\n",
       "      <td>-0.767803</td>\n",
       "      <td>-0.554761</td>\n",
       "      <td>-0.207838</td>\n",
       "      <td>-0.643365</td>\n",
       "      <td>...</td>\n",
       "      <td>-0.228031</td>\n",
       "      <td>-0.540792</td>\n",
       "      <td>-0.162264</td>\n",
       "      <td>-0.354099</td>\n",
       "      <td>-0.317450</td>\n",
       "      <td>-0.327910</td>\n",
       "      <td>-0.070986</td>\n",
       "      <td>-0.053117</td>\n",
       "      <td>5.590000</td>\n",
       "      <td>0.000000</td>\n",
       "    </tr>\n",
       "    <tr>\n",
       "      <th>50%</th>\n",
       "      <td>84607.000000</td>\n",
       "      <td>0.012663</td>\n",
       "      <td>0.066665</td>\n",
       "      <td>0.182170</td>\n",
       "      <td>-0.019309</td>\n",
       "      <td>-0.055243</td>\n",
       "      <td>-0.273025</td>\n",
       "      <td>0.040409</td>\n",
       "      <td>0.022928</td>\n",
       "      <td>-0.050932</td>\n",
       "      <td>...</td>\n",
       "      <td>-0.028807</td>\n",
       "      <td>0.008697</td>\n",
       "      <td>-0.011614</td>\n",
       "      <td>0.041212</td>\n",
       "      <td>0.016221</td>\n",
       "      <td>-0.053257</td>\n",
       "      <td>0.001315</td>\n",
       "      <td>0.011216</td>\n",
       "      <td>22.000000</td>\n",
       "      <td>0.000000</td>\n",
       "    </tr>\n",
       "    <tr>\n",
       "      <th>75%</th>\n",
       "      <td>139340.000000</td>\n",
       "      <td>1.314821</td>\n",
       "      <td>0.804401</td>\n",
       "      <td>1.029449</td>\n",
       "      <td>0.744822</td>\n",
       "      <td>0.610852</td>\n",
       "      <td>0.400298</td>\n",
       "      <td>0.570631</td>\n",
       "      <td>0.327854</td>\n",
       "      <td>0.596671</td>\n",
       "      <td>...</td>\n",
       "      <td>0.186852</td>\n",
       "      <td>0.529535</td>\n",
       "      <td>0.147067</td>\n",
       "      <td>0.440051</td>\n",
       "      <td>0.351214</td>\n",
       "      <td>0.239885</td>\n",
       "      <td>0.091105</td>\n",
       "      <td>0.078458</td>\n",
       "      <td>77.070000</td>\n",
       "      <td>0.000000</td>\n",
       "    </tr>\n",
       "    <tr>\n",
       "      <th>max</th>\n",
       "      <td>172792.000000</td>\n",
       "      <td>2.454930</td>\n",
       "      <td>22.057729</td>\n",
       "      <td>9.382558</td>\n",
       "      <td>16.875344</td>\n",
       "      <td>34.801666</td>\n",
       "      <td>22.529298</td>\n",
       "      <td>36.877368</td>\n",
       "      <td>20.007208</td>\n",
       "      <td>15.594995</td>\n",
       "      <td>...</td>\n",
       "      <td>27.202839</td>\n",
       "      <td>10.503090</td>\n",
       "      <td>22.528412</td>\n",
       "      <td>4.022866</td>\n",
       "      <td>6.070850</td>\n",
       "      <td>3.463246</td>\n",
       "      <td>12.152401</td>\n",
       "      <td>33.847808</td>\n",
       "      <td>19656.530000</td>\n",
       "      <td>1.000000</td>\n",
       "    </tr>\n",
       "  </tbody>\n",
       "</table>\n",
       "<p>8 rows × 31 columns</p>\n",
       "</div>"
      ],
      "text/plain": [
       "                Time             V1             V2             V3  \\\n",
       "count  227845.000000  227845.000000  227845.000000  227845.000000   \n",
       "mean    94752.853076      -0.003321      -0.001652       0.001066   \n",
       "std     47500.410602       1.963028       1.661178       1.516107   \n",
       "min         0.000000     -56.407510     -72.715728     -32.965346   \n",
       "25%     54182.000000      -0.922851      -0.598040      -0.889246   \n",
       "50%     84607.000000       0.012663       0.066665       0.182170   \n",
       "75%    139340.000000       1.314821       0.804401       1.029449   \n",
       "max    172792.000000       2.454930      22.057729       9.382558   \n",
       "\n",
       "                  V4             V5             V6             V7  \\\n",
       "count  227845.000000  227845.000000  227845.000000  227845.000000   \n",
       "mean       -0.000374       0.000877       0.000770      -0.000035   \n",
       "std         1.415061       1.367074       1.325341       1.220384   \n",
       "min        -5.683171     -42.147898     -26.160506     -43.557242   \n",
       "25%        -0.848884      -0.690811      -0.767803      -0.554761   \n",
       "50%        -0.019309      -0.055243      -0.273025       0.040409   \n",
       "75%         0.744822       0.610852       0.400298       0.570631   \n",
       "max        16.875344      34.801666      22.529298      36.877368   \n",
       "\n",
       "                  V8             V9  ...            V21            V22  \\\n",
       "count  227845.000000  227845.000000  ...  227845.000000  227845.000000   \n",
       "mean        0.001625      -0.000391  ...       0.000563       0.001234   \n",
       "std         1.192648       1.097367  ...       0.734187       0.724544   \n",
       "min       -73.216718     -13.434066  ...     -34.830382     -10.933144   \n",
       "25%        -0.207838      -0.643365  ...      -0.228031      -0.540792   \n",
       "50%         0.022928      -0.050932  ...      -0.028807       0.008697   \n",
       "75%         0.327854       0.596671  ...       0.186852       0.529535   \n",
       "max        20.007208      15.594995  ...      27.202839      10.503090   \n",
       "\n",
       "                 V23            V24            V25            V26  \\\n",
       "count  227845.000000  227845.000000  227845.000000  227845.000000   \n",
       "mean       -0.001002       0.000254       0.000218      -0.001128   \n",
       "std         0.625165       0.606012       0.521348       0.482314   \n",
       "min       -44.807735      -2.836627     -10.295397      -2.604551   \n",
       "25%        -0.162264      -0.354099      -0.317450      -0.327910   \n",
       "50%        -0.011614       0.041212       0.016221      -0.053257   \n",
       "75%         0.147067       0.440051       0.351214       0.239885   \n",
       "max        22.528412       4.022866       6.070850       3.463246   \n",
       "\n",
       "                 V27            V28         Amount          Class  \n",
       "count  227845.000000  227845.000000  227845.000000  227845.000000  \n",
       "mean       -0.000346       0.000498      88.522327       0.001729  \n",
       "std         0.400286       0.331184     248.100141       0.041548  \n",
       "min       -22.565679     -11.710896       0.000000       0.000000  \n",
       "25%        -0.070986      -0.053117       5.590000       0.000000  \n",
       "50%         0.001315       0.011216      22.000000       0.000000  \n",
       "75%         0.091105       0.078458      77.070000       0.000000  \n",
       "max        12.152401      33.847808   19656.530000       1.000000  \n",
       "\n",
       "[8 rows x 31 columns]"
      ]
     },
     "execution_count": 11,
     "metadata": {},
     "output_type": "execute_result"
    }
   ],
   "source": [
    "train.describe()"
   ]
  },
  {
   "cell_type": "code",
   "execution_count": 340,
   "metadata": {},
   "outputs": [],
   "source": [
    "# Let's convert the time from seconds to hours to ease the interpretation.\n",
    "train.loc[:,'Time'] = train.Time / 3600\n",
    "test_Hidden.loc[:,'Time'] = test_Hidden.Time / 3600\n",
    "test.loc[:,'Time'] = test.Time / 3600"
   ]
  },
  {
   "cell_type": "code",
   "execution_count": 13,
   "metadata": {},
   "outputs": [
    {
     "data": {
      "text/plain": [
       "0    227451\n",
       "1       394\n",
       "Name: Class, dtype: int64"
      ]
     },
     "execution_count": 13,
     "metadata": {},
     "output_type": "execute_result"
    }
   ],
   "source": [
    "train['Class'].value_counts()\n",
    "#It’s a class Imbalance problem."
   ]
  },
  {
   "cell_type": "code",
   "execution_count": 14,
   "metadata": {},
   "outputs": [
    {
     "data": {
      "text/plain": [
       "0    56864\n",
       "1       98\n",
       "Name: Class, dtype: int64"
      ]
     },
     "execution_count": 14,
     "metadata": {},
     "output_type": "execute_result"
    }
   ],
   "source": [
    "test_Hidden['Class'].value_counts()"
   ]
  },
  {
   "cell_type": "code",
   "execution_count": 15,
   "metadata": {},
   "outputs": [
    {
     "data": {
      "text/plain": [
       "<seaborn.axisgrid.FacetGrid at 0x1d874ffa7c8>"
      ]
     },
     "execution_count": 15,
     "metadata": {},
     "output_type": "execute_result"
    },
    {
     "data": {
      "image/png": "[encoded data removed]",
      "text/plain": [
       "<Figure size 360x360 with 1 Axes>"
      ]
     },
     "metadata": {
      "needs_background": "light"
     },
     "output_type": "display_data"
    }
   ],
   "source": [
    "sns.displot(train['Class'],kde=False)"
   ]
  },
  {
   "cell_type": "code",
   "execution_count": 16,
   "metadata": {},
   "outputs": [
    {
     "data": {
      "image/png": "[encoded data removed]",
      "text/plain": [
       "<Figure size 288x144 with 1 Axes>"
      ]
     },
     "metadata": {
      "needs_background": "light"
     },
     "output_type": "display_data"
    },
    {
     "data": {
      "image/png": "[encoded data removed]",
      "text/plain": [
       "<Figure size 360x360 with 1 Axes>"
      ]
     },
     "metadata": {
      "needs_background": "light"
     },
     "output_type": "display_data"
    }
   ],
   "source": [
    "#Here we are finding if the data is skewed as if there is any skewed data it willbe great impact on the prediction.There are high chances that the model will be overfitting.It affects the regression intercept, coefficients associated with the model.\n",
    "\n",
    "amount_val = train['Amount'].values\n",
    "time_val = train['Time'].values\n",
    "\n",
    "sns.displot(amount_val, color='r',kde=True,height=2, aspect=2)\n",
    "\n",
    "sns.displot(time_val, color='b',kde=True)\n",
    "plt.show()"
   ]
  },
  {
   "cell_type": "markdown",
   "metadata": {},
   "source": [
    "Obs: By seeing the distributions we can have an idea how skewed are these features."
   ]
  },
  {
   "cell_type": "markdown",
   "metadata": {},
   "source": [
    "#determine index for continuos variables num_feats=train.dtypes[train.dtypes!='object'].index #calculate skew and sort skew_feats=train[num_feats].skew().sort_values(ascending=False) skewness=pd.DataFrame({'Skew':skew_feats}) skewness We can see from below that how all the features are skewed and how much"
   ]
  },
  {
   "cell_type": "code",
   "execution_count": 341,
   "metadata": {},
   "outputs": [],
   "source": [
    "X= train.drop('Class',axis=1)\n",
    "y= train.Class"
   ]
  },
  {
   "cell_type": "code",
   "execution_count": 188,
   "metadata": {},
   "outputs": [
    {
     "name": "stdout",
     "output_type": "stream",
     "text": [
      "[(0, 227451), (1, 227451)]\n"
     ]
    }
   ],
   "source": [
    "#Adjusting the imbalance dataset using SMOTE,Since our classes are highly skewed we should make them equivalent in order to have a normal distribution of the classes. \n",
    "#Synthetic data are created only for the training set without affecting the validation set and test set.\n",
    "X_resampled, y_resampled = SMOTE().fit_resample(X, y)\n",
    "print(sorted(Counter(y_resampled).items()))"
   ]
  },
  {
   "cell_type": "code",
   "execution_count": 189,
   "metadata": {},
   "outputs": [],
   "source": [
    "y_resampled=pd.DataFrame(y_resampled)"
   ]
  },
  {
   "cell_type": "code",
   "execution_count": 190,
   "metadata": {},
   "outputs": [
    {
     "data": {
      "text/html": [
       "<div>\n",
       "<style scoped>\n",
       "    .dataframe tbody tr th:only-of-type {\n",
       "        vertical-align: middle;\n",
       "    }\n",
       "\n",
       "    .dataframe tbody tr th {\n",
       "        vertical-align: top;\n",
       "    }\n",
       "\n",
       "    .dataframe thead th {\n",
       "        text-align: right;\n",
       "    }\n",
       "</style>\n",
       "<table border=\"1\" class=\"dataframe\">\n",
       "  <thead>\n",
       "    <tr style=\"text-align: right;\">\n",
       "      <th></th>\n",
       "      <th>Time</th>\n",
       "      <th>Class</th>\n",
       "      <th>Amount</th>\n",
       "    </tr>\n",
       "  </thead>\n",
       "  <tbody>\n",
       "    <tr>\n",
       "      <th>Time</th>\n",
       "      <td>1.000000</td>\n",
       "      <td>-0.158734</td>\n",
       "      <td>0.008782</td>\n",
       "    </tr>\n",
       "    <tr>\n",
       "      <th>Class</th>\n",
       "      <td>-0.158734</td>\n",
       "      <td>1.000000</td>\n",
       "      <td>0.072790</td>\n",
       "    </tr>\n",
       "    <tr>\n",
       "      <th>Amount</th>\n",
       "      <td>0.008782</td>\n",
       "      <td>0.072790</td>\n",
       "      <td>1.000000</td>\n",
       "    </tr>\n",
       "  </tbody>\n",
       "</table>\n",
       "</div>"
      ],
      "text/plain": [
       "            Time     Class    Amount\n",
       "Time    1.000000 -0.158734  0.008782\n",
       "Class  -0.158734  1.000000  0.072790\n",
       "Amount  0.008782  0.072790  1.000000"
      ]
     },
     "execution_count": 190,
     "metadata": {},
     "output_type": "execute_result"
    }
   ],
   "source": [
    "train_new=X_resampled.join(y_resampled,lsuffix=\"_left\")\n",
    "#Finding if there is any connection(Correlation) between Time, Amount, and the transaction being fraudulent(Class).\n",
    "train_new[['Time','Class','Amount']].corr()\n"
   ]
  },
  {
   "cell_type": "code",
   "execution_count": 21,
   "metadata": {},
   "outputs": [
    {
     "data": {
      "text/html": [
       "<div>\n",
       "<style scoped>\n",
       "    .dataframe tbody tr th:only-of-type {\n",
       "        vertical-align: middle;\n",
       "    }\n",
       "\n",
       "    .dataframe tbody tr th {\n",
       "        vertical-align: top;\n",
       "    }\n",
       "\n",
       "    .dataframe thead th {\n",
       "        text-align: right;\n",
       "    }\n",
       "</style>\n",
       "<table border=\"1\" class=\"dataframe\">\n",
       "  <thead>\n",
       "    <tr style=\"text-align: right;\">\n",
       "      <th></th>\n",
       "      <th>Time</th>\n",
       "      <th>V1</th>\n",
       "      <th>V2</th>\n",
       "      <th>V3</th>\n",
       "      <th>V4</th>\n",
       "      <th>V5</th>\n",
       "      <th>V6</th>\n",
       "      <th>V7</th>\n",
       "      <th>V8</th>\n",
       "      <th>V9</th>\n",
       "      <th>...</th>\n",
       "      <th>V21</th>\n",
       "      <th>V22</th>\n",
       "      <th>V23</th>\n",
       "      <th>V24</th>\n",
       "      <th>V25</th>\n",
       "      <th>V26</th>\n",
       "      <th>V27</th>\n",
       "      <th>V28</th>\n",
       "      <th>Amount</th>\n",
       "      <th>Class</th>\n",
       "    </tr>\n",
       "  </thead>\n",
       "  <tbody>\n",
       "    <tr>\n",
       "      <th>0</th>\n",
       "      <td>10.654167</td>\n",
       "      <td>1.043949</td>\n",
       "      <td>0.318555</td>\n",
       "      <td>1.045810</td>\n",
       "      <td>2.805989</td>\n",
       "      <td>-0.561113</td>\n",
       "      <td>-0.367956</td>\n",
       "      <td>0.032736</td>\n",
       "      <td>-0.042333</td>\n",
       "      <td>-0.322674</td>\n",
       "      <td>...</td>\n",
       "      <td>-0.240105</td>\n",
       "      <td>-0.680315</td>\n",
       "      <td>0.085328</td>\n",
       "      <td>0.684812</td>\n",
       "      <td>0.318620</td>\n",
       "      <td>-0.204963</td>\n",
       "      <td>0.001662</td>\n",
       "      <td>0.037894</td>\n",
       "      <td>49.67</td>\n",
       "      <td>0</td>\n",
       "    </tr>\n",
       "    <tr>\n",
       "      <th>1</th>\n",
       "      <td>6.265278</td>\n",
       "      <td>-1.665159</td>\n",
       "      <td>0.808440</td>\n",
       "      <td>1.805627</td>\n",
       "      <td>1.903416</td>\n",
       "      <td>-0.821627</td>\n",
       "      <td>0.934790</td>\n",
       "      <td>-0.824802</td>\n",
       "      <td>0.975890</td>\n",
       "      <td>1.747469</td>\n",
       "      <td>...</td>\n",
       "      <td>-0.335332</td>\n",
       "      <td>-0.510994</td>\n",
       "      <td>0.035839</td>\n",
       "      <td>0.147565</td>\n",
       "      <td>-0.529358</td>\n",
       "      <td>-0.566950</td>\n",
       "      <td>-0.595998</td>\n",
       "      <td>-0.220086</td>\n",
       "      <td>16.94</td>\n",
       "      <td>0</td>\n",
       "    </tr>\n",
       "    <tr>\n",
       "      <th>2</th>\n",
       "      <td>0.675278</td>\n",
       "      <td>-0.324096</td>\n",
       "      <td>0.601836</td>\n",
       "      <td>0.865329</td>\n",
       "      <td>-2.138000</td>\n",
       "      <td>0.294663</td>\n",
       "      <td>-1.251553</td>\n",
       "      <td>1.072114</td>\n",
       "      <td>-0.334896</td>\n",
       "      <td>1.071268</td>\n",
       "      <td>...</td>\n",
       "      <td>0.012220</td>\n",
       "      <td>0.352856</td>\n",
       "      <td>-0.341505</td>\n",
       "      <td>-0.145791</td>\n",
       "      <td>0.094194</td>\n",
       "      <td>-0.804026</td>\n",
       "      <td>0.229428</td>\n",
       "      <td>-0.021623</td>\n",
       "      <td>1.00</td>\n",
       "      <td>0</td>\n",
       "    </tr>\n",
       "    <tr>\n",
       "      <th>3</th>\n",
       "      <td>24.103611</td>\n",
       "      <td>-0.258270</td>\n",
       "      <td>1.217501</td>\n",
       "      <td>-0.585348</td>\n",
       "      <td>-0.875347</td>\n",
       "      <td>1.222481</td>\n",
       "      <td>-0.311027</td>\n",
       "      <td>1.073860</td>\n",
       "      <td>-0.161408</td>\n",
       "      <td>0.200665</td>\n",
       "      <td>...</td>\n",
       "      <td>-0.424626</td>\n",
       "      <td>-0.781158</td>\n",
       "      <td>0.019316</td>\n",
       "      <td>0.178614</td>\n",
       "      <td>-0.315616</td>\n",
       "      <td>0.096665</td>\n",
       "      <td>0.269740</td>\n",
       "      <td>-0.020635</td>\n",
       "      <td>10.78</td>\n",
       "      <td>0</td>\n",
       "    </tr>\n",
       "    <tr>\n",
       "      <th>4</th>\n",
       "      <td>35.333889</td>\n",
       "      <td>2.142162</td>\n",
       "      <td>-0.494988</td>\n",
       "      <td>-1.936511</td>\n",
       "      <td>-0.818288</td>\n",
       "      <td>-0.025213</td>\n",
       "      <td>-1.027245</td>\n",
       "      <td>-0.151627</td>\n",
       "      <td>-0.305750</td>\n",
       "      <td>-0.869482</td>\n",
       "      <td>...</td>\n",
       "      <td>0.010115</td>\n",
       "      <td>0.021722</td>\n",
       "      <td>0.079463</td>\n",
       "      <td>-0.480899</td>\n",
       "      <td>0.023846</td>\n",
       "      <td>-0.279076</td>\n",
       "      <td>-0.030121</td>\n",
       "      <td>-0.043888</td>\n",
       "      <td>39.96</td>\n",
       "      <td>0</td>\n",
       "    </tr>\n",
       "  </tbody>\n",
       "</table>\n",
       "<p>5 rows × 31 columns</p>\n",
       "</div>"
      ],
      "text/plain": [
       "        Time        V1        V2        V3        V4        V5        V6  \\\n",
       "0  10.654167  1.043949  0.318555  1.045810  2.805989 -0.561113 -0.367956   \n",
       "1   6.265278 -1.665159  0.808440  1.805627  1.903416 -0.821627  0.934790   \n",
       "2   0.675278 -0.324096  0.601836  0.865329 -2.138000  0.294663 -1.251553   \n",
       "3  24.103611 -0.258270  1.217501 -0.585348 -0.875347  1.222481 -0.311027   \n",
       "4  35.333889  2.142162 -0.494988 -1.936511 -0.818288 -0.025213 -1.027245   \n",
       "\n",
       "         V7        V8        V9  ...       V21       V22       V23       V24  \\\n",
       "0  0.032736 -0.042333 -0.322674  ... -0.240105 -0.680315  0.085328  0.684812   \n",
       "1 -0.824802  0.975890  1.747469  ... -0.335332 -0.510994  0.035839  0.147565   \n",
       "2  1.072114 -0.334896  1.071268  ...  0.012220  0.352856 -0.341505 -0.145791   \n",
       "3  1.073860 -0.161408  0.200665  ... -0.424626 -0.781158  0.019316  0.178614   \n",
       "4 -0.151627 -0.305750 -0.869482  ...  0.010115  0.021722  0.079463 -0.480899   \n",
       "\n",
       "        V25       V26       V27       V28  Amount  Class  \n",
       "0  0.318620 -0.204963  0.001662  0.037894   49.67      0  \n",
       "1 -0.529358 -0.566950 -0.595998 -0.220086   16.94      0  \n",
       "2  0.094194 -0.804026  0.229428 -0.021623    1.00      0  \n",
       "3 -0.315616  0.096665  0.269740 -0.020635   10.78      0  \n",
       "4  0.023846 -0.279076 -0.030121 -0.043888   39.96      0  \n",
       "\n",
       "[5 rows x 31 columns]"
      ]
     },
     "execution_count": 21,
     "metadata": {},
     "output_type": "execute_result"
    }
   ],
   "source": [
    "train_new.head()"
   ]
  },
  {
   "cell_type": "code",
   "execution_count": 22,
   "metadata": {},
   "outputs": [
    {
     "data": {
      "text/plain": [
       "(454902, 31)"
      ]
     },
     "execution_count": 22,
     "metadata": {},
     "output_type": "execute_result"
    }
   ],
   "source": [
    "train_new.shape"
   ]
  },
  {
   "cell_type": "code",
   "execution_count": 23,
   "metadata": {},
   "outputs": [
    {
     "data": {
      "text/plain": [
       "Time  Time      1.000000\n",
       "V16   V17       0.954646\n",
       "V17   V18       0.940009\n",
       "V11   V12       0.906523\n",
       "V16   V18       0.906238\n",
       "                  ...   \n",
       "V14   V23       0.000848\n",
       "V23   V26       0.000801\n",
       "V1    V21       0.000419\n",
       "V23   Class     0.000260\n",
       "V17   Amount    0.000037\n",
       "Length: 466, dtype: float64"
      ]
     },
     "execution_count": 23,
     "metadata": {},
     "output_type": "execute_result"
    }
   ],
   "source": [
    "corr = train_new.corr() \n",
    "c1 = corr.abs().unstack().drop_duplicates()\n",
    "c1.sort_values(ascending = False)\n",
    "#Here v4 and V11 are large positive value (near to 1.0) indicates a strong positive correlation, notice how the higher these values are, the more likely the end result will be a fraud transaction.\n",
    "#Here v12 and v14 are large negative value (near to -1.0) indicates a strong negative correlation, notice how the lower these values are, the more likely the end result will be a fraud transaction"
   ]
  },
  {
   "cell_type": "code",
   "execution_count": 24,
   "metadata": {},
   "outputs": [
    {
     "data": {
      "text/plain": [
       "<AxesSubplot:>"
      ]
     },
     "execution_count": 24,
     "metadata": {},
     "output_type": "execute_result"
    },
    {
     "data": {
      "image/png": "[encoded data removed]",
      "text/plain": [
       "<Figure size 1224x1224 with 2 Axes>"
      ]
     },
     "metadata": {
      "needs_background": "light"
     },
     "output_type": "display_data"
    }
   ],
   "source": [
    "## draw a heatmap for correlation\n",
    "plt.figure(figsize=(17,17))\n",
    "sns.heatmap(train_new.corr(),annot=True)\n",
    "# correlation matrix is taken for the balanced data as imbalance will affect the correlation"
   ]
  },
  {
   "cell_type": "code",
   "execution_count": 342,
   "metadata": {},
   "outputs": [],
   "source": [
    "X_test_Hidden= test_Hidden.drop('Class',axis=1)\n",
    "y_test_Hidden= test_Hidden.Class"
   ]
  },
  {
   "cell_type": "code",
   "execution_count": 192,
   "metadata": {},
   "outputs": [],
   "source": [
    "X_train= train_new.drop('Class',axis=1)\n",
    "y_train= train_new.Class"
   ]
  },
  {
   "cell_type": "markdown",
   "metadata": {},
   "source": [
    "compare_plot(X, y, X_resampled, y_resampled, method='SMOTE')"
   ]
  },
  {
   "cell_type": "markdown",
   "metadata": {},
   "source": [
    "## Modeling using balanced data "
   ]
  },
  {
   "cell_type": "code",
   "execution_count": 27,
   "metadata": {},
   "outputs": [
    {
     "name": "stderr",
     "output_type": "stream",
     "text": [
      "C:\\Users\\sanja\\Anaconda3\\envs\\Env_tensor_flow\\lib\\site-packages\\sklearn\\linear_model\\_logistic.py:764: ConvergenceWarning: lbfgs failed to converge (status=1):\n",
      "STOP: TOTAL NO. of ITERATIONS REACHED LIMIT.\n",
      "\n",
      "Increase the number of iterations (max_iter) or scale the data as shown in:\n",
      "    https://scikit-learn.org/stable/modules/preprocessing.html\n",
      "Please also refer to the documentation for alternative solver options:\n",
      "    https://scikit-learn.org/stable/modules/linear_model.html#logistic-regression\n",
      "  extra_warning_msg=_LOGISTIC_SOLVER_CONVERGENCE_MSG)\n"
     ]
    },
    {
     "data": {
      "text/plain": [
       "LogisticRegression()"
      ]
     },
     "execution_count": 27,
     "metadata": {},
     "output_type": "execute_result"
    }
   ],
   "source": [
    "#LOgistic regression modelling using SMOTE-Balanced data\n",
    "lr= LogisticRegression()\n",
    "#Train the model using the training sets\n",
    "lr.fit(X_train,y_train)"
   ]
  },
  {
   "cell_type": "code",
   "execution_count": 28,
   "metadata": {},
   "outputs": [
    {
     "name": "stdout",
     "output_type": "stream",
     "text": [
      "Mean Absolute Error_LR: 0.021435342860152383\n",
      "Accuracy_Score_LR : 0.9785646571398476\n",
      "f1_score_test_hidden_LR      :  0.5563120859867007\n",
      "precision_score_test_hidden_LR:  0.5330968494189073\n",
      "recall_score_test_hidden_LR   :  0.928144882742067\n",
      "confusion matrix_LR: [[55655  1209]\n",
      " [   12    86]]\n",
      "ROC_curve_LR: (array([0.        , 0.02126125, 1.        ]), array([0.        , 0.87755102, 1.        ]), array([2, 1, 0], dtype=int64))\n"
     ]
    }
   ],
   "source": [
    "#Predict the response for test dataset\n",
    "y_predictions = lr.predict(X_test_Hidden)\n",
    "\n",
    "print(\"Mean Absolute Error_LR:\", mean_absolute_error(y_test_Hidden, y_predictions))\n",
    "print(\"Accuracy_Score_LR :\",accuracy_score(y_test_Hidden, y_predictions))\n",
    "print(\"f1_score_test_hidden_LR      : \", f1_score(y_test_Hidden, y_predictions, average=\"macro\"))\n",
    "print(\"precision_score_test_hidden_LR: \", precision_score(y_test_Hidden, y_predictions, average=\"macro\"))\n",
    "print(\"recall_score_test_hidden_LR   : \", recall_score(y_test_Hidden, y_predictions, average=\"macro\"))\n",
    "print(\"confusion matrix_LR:\",confusion_matrix(y_test_Hidden, y_predictions))\n",
    "print(\"ROC_curve_LR:\",roc_curve(y_test_Hidden, y_predictions))"
   ]
  },
  {
   "cell_type": "code",
   "execution_count": 29,
   "metadata": {},
   "outputs": [],
   "source": [
    "#Scaling the train dataset \n",
    "scaler=StandardScaler()\n",
    "#scaler.fit(X_train)\n",
    "X_train_scaled=scaler.fit_transform(X_train)"
   ]
  },
  {
   "cell_type": "code",
   "execution_count": 30,
   "metadata": {},
   "outputs": [
    {
     "data": {
      "text/plain": [
       "SVC()"
      ]
     },
     "execution_count": 30,
     "metadata": {},
     "output_type": "execute_result"
    }
   ],
   "source": [
    "#Create a svm Classifier\n",
    "clf =svm.SVC()\n",
    "\n",
    "#Train the model using the training sets\n",
    "clf.fit(X_train_scaled,y_train)"
   ]
  },
  {
   "cell_type": "code",
   "execution_count": 31,
   "metadata": {},
   "outputs": [],
   "source": [
    "#Scaling the test dataset\n",
    "scaler=StandardScaler()\n",
    "X_test_Hidden_scaled=scaler.fit_transform(X_test_Hidden)"
   ]
  },
  {
   "cell_type": "code",
   "execution_count": 32,
   "metadata": {},
   "outputs": [],
   "source": [
    "#Predict the response for test dataset\n",
    "y_pred_SVM = clf.predict(X_test_Hidden_scaled)"
   ]
  },
  {
   "cell_type": "code",
   "execution_count": 33,
   "metadata": {},
   "outputs": [
    {
     "name": "stdout",
     "output_type": "stream",
     "text": [
      "Accuracy_Score_SVM : 0.591025596011376\n",
      "f1_score_test_hidden_SVM     :  0.3718351015744261\n",
      "precision_score_test_hidden_SVM:  0.4988751570342074\n",
      "recall_score_test_hidden_SVM  :  0.34186131895076544\n",
      "confusion matrix_SVM: [[33657 23207]\n",
      " [   89     9]]\n",
      "ROC_curve_SVM: (array([0.       , 0.4081141, 1.       ]), array([0.        , 0.09183673, 1.        ]), array([2, 1, 0], dtype=int64))\n"
     ]
    }
   ],
   "source": [
    "print(\"Accuracy_Score_SVM :\",accuracy_score(y_pred_SVM,y_test_Hidden))\n",
    "print(\"f1_score_test_hidden_SVM     : \", f1_score(y_test_Hidden,  y_pred_SVM, average=\"macro\"))\n",
    "print(\"precision_score_test_hidden_SVM: \", precision_score(y_test_Hidden,  y_pred_SVM, average=\"macro\"))\n",
    "print(\"recall_score_test_hidden_SVM  : \", recall_score(y_test_Hidden,  y_pred_SVM, average=\"macro\"))\n",
    "print(\"confusion matrix_SVM:\",confusion_matrix(y_test_Hidden, y_pred_SVM))\n",
    "print(\"ROC_curve_SVM:\",roc_curve(y_test_Hidden, y_pred_SVM))"
   ]
  },
  {
   "cell_type": "markdown",
   "metadata": {},
   "source": [
    "#normalize your data if you're using Gaussian naive Bayes,t-tests, ANOVAs, linear regression, linear discriminant analysis (LDA).\n",
    "#for Box-Cox Transformation\n",
    "from scipy import stats\n",
    "X_train_normalized = stats.boxcox(X_train)"
   ]
  },
  {
   "cell_type": "code",
   "execution_count": 34,
   "metadata": {},
   "outputs": [],
   "source": [
    "#Create a Navie Bayes Classifier\n",
    "gnb = GaussianNB()\n",
    "#Train the model using the training sets and predict the response for test dataset\n",
    "y_pred_NB= gnb.fit(X_train,y_train).predict(X_test_Hidden)"
   ]
  },
  {
   "cell_type": "code",
   "execution_count": 35,
   "metadata": {},
   "outputs": [
    {
     "name": "stdout",
     "output_type": "stream",
     "text": [
      "Accuracy_Score_NB : 0.9743688774972789\n",
      "f1_score_test_hidden_NB    :  0.5428825023437267\n",
      "precision_score_test_hidden_NB:  0.5261188712732734\n",
      "recall_score_test_hidden_NB  :  0.8954838899544061\n",
      "confusion matrix_NB: [[55422  1442]\n",
      " [   18    80]]\n",
      "ROC_curve_NB: (array([0.        , 0.02535875, 1.        ]), array([0.        , 0.81632653, 1.        ]), array([2, 1, 0], dtype=int64))\n"
     ]
    }
   ],
   "source": [
    "print(\"Accuracy_Score_NB :\",accuracy_score(y_pred_NB,y_test_Hidden))\n",
    "print(\"f1_score_test_hidden_NB    : \", f1_score(y_test_Hidden,  y_pred_NB, average=\"macro\"))\n",
    "print(\"precision_score_test_hidden_NB: \", precision_score(y_test_Hidden,  y_pred_NB, average=\"macro\"))\n",
    "print(\"recall_score_test_hidden_NB  : \", recall_score(y_test_Hidden,  y_pred_NB, average=\"macro\"))\n",
    "print(\"confusion matrix_NB:\",confusion_matrix(y_test_Hidden,  y_pred_NB))\n",
    "print(\"ROC_curve_NB:\",roc_curve(y_test_Hidden,  y_pred_NB))"
   ]
  },
  {
   "cell_type": "markdown",
   "metadata": {},
   "source": [
    "## After performing SVM, Naive Bayes, LogisticRegression with balancing the class using SMOTE. The best performing model is LogisticRegression with 0.55 F1_score"
   ]
  },
  {
   "cell_type": "markdown",
   "metadata": {},
   "source": [
    "#### Week2:\n",
    "Try out models like Naive Bayes, Logistic Regression or SVM. Find out which one performs the best\n",
    "Use different Tree-based classifiers like Random Forest and XGBoost. \n",
    "       a.    Remember Tree-based classifiers work on two ideologies: Bagging or Boosting\n",
    "       b.    Tree-based classifiers have fine-tuning parameters which takes care of the imbalanced class. Random-Forest and XGBboost.\n",
    "Compare the results of 1 with 2 and check if there is any incremental gain."
   ]
  },
  {
   "cell_type": "markdown",
   "metadata": {},
   "source": [
    "### Modelling using imbalance data"
   ]
  },
  {
   "cell_type": "code",
   "execution_count": 36,
   "metadata": {},
   "outputs": [
    {
     "name": "stderr",
     "output_type": "stream",
     "text": [
      "C:\\Users\\sanja\\Anaconda3\\envs\\Env_tensor_flow\\lib\\site-packages\\sklearn\\linear_model\\_logistic.py:764: ConvergenceWarning: lbfgs failed to converge (status=1):\n",
      "STOP: TOTAL NO. of ITERATIONS REACHED LIMIT.\n",
      "\n",
      "Increase the number of iterations (max_iter) or scale the data as shown in:\n",
      "    https://scikit-learn.org/stable/modules/preprocessing.html\n",
      "Please also refer to the documentation for alternative solver options:\n",
      "    https://scikit-learn.org/stable/modules/linear_model.html#logistic-regression\n",
      "  extra_warning_msg=_LOGISTIC_SOLVER_CONVERGENCE_MSG)\n"
     ]
    },
    {
     "data": {
      "text/plain": [
       "LogisticRegression()"
      ]
     },
     "execution_count": 36,
     "metadata": {},
     "output_type": "execute_result"
    }
   ],
   "source": [
    "#Logistic regression modelling using Imbalanced data\n",
    "lr1= LogisticRegression()\n",
    "lr1.fit(X,y)"
   ]
  },
  {
   "cell_type": "code",
   "execution_count": 37,
   "metadata": {},
   "outputs": [
    {
     "name": "stdout",
     "output_type": "stream",
     "text": [
      "Mean Absolute Error_LR: 0.0008075559144692953\n",
      "Accuracy_Score_LR : 0.9991924440855307\n",
      "f1_score_test_hidden_LR      :  0.8660768755203079\n",
      "precision_score_test_hidden_LR:  0.925368053681582\n",
      "recall_score_test_hidden_LR   :  0.821331849425195\n",
      "confusion matrix_LR: [[56853    11]\n",
      " [   35    63]]\n"
     ]
    }
   ],
   "source": [
    "#Predict the response for test dataset\n",
    "y_predictions_lr = lr1.predict(X_test_Hidden)\n",
    "\n",
    "print(\"Mean Absolute Error_LR:\", mean_absolute_error(y_predictions_lr,y_test_Hidden))\n",
    "print(\"Accuracy_Score_LR :\",accuracy_score(y_predictions_lr,y_test_Hidden))\n",
    "print(\"f1_score_test_hidden_LR      : \", f1_score(y_test_Hidden, y_predictions_lr, average=\"macro\"))\n",
    "print(\"precision_score_test_hidden_LR: \", precision_score(y_test_Hidden, y_predictions_lr, average=\"macro\"))\n",
    "print(\"recall_score_test_hidden_LR   : \", recall_score(y_test_Hidden, y_predictions_lr, average=\"macro\"))\n",
    "print(\"confusion matrix_LR:\",confusion_matrix(y_test_Hidden, y_predictions_lr))"
   ]
  },
  {
   "cell_type": "code",
   "execution_count": 38,
   "metadata": {},
   "outputs": [],
   "source": [
    "#Train the model using the training sets and predict the response for test dataset using Navie Bayes CLassifier\n",
    "gnb = GaussianNB()\n",
    "y_pred_NB1= gnb.fit(X,y).predict(X_test_Hidden)"
   ]
  },
  {
   "cell_type": "code",
   "execution_count": 39,
   "metadata": {},
   "outputs": [
    {
     "name": "stdout",
     "output_type": "stream",
     "text": [
      "Accuracy_Score_NB : 0.9778624346055265\n",
      "f1_score_test_hidden_NB      :  0.5506940864249563\n",
      "precision_score_test_hidden_NB:  0.5300725589076771\n",
      "recall_score_test_hidden_NB  :  0.8972336789245805\n",
      "confusion matrix_NB: [[55621  1243]\n",
      " [   18    80]]\n"
     ]
    }
   ],
   "source": [
    "print(\"Accuracy_Score_NB :\",accuracy_score(y_pred_NB1,y_test_Hidden))\n",
    "print(\"f1_score_test_hidden_NB      : \", f1_score(y_test_Hidden, y_pred_NB1, average=\"macro\"))\n",
    "print(\"precision_score_test_hidden_NB: \", precision_score(y_test_Hidden, y_pred_NB1, average=\"macro\"))\n",
    "print(\"recall_score_test_hidden_NB  : \", recall_score(y_test_Hidden, y_pred_NB1, average=\"macro\"))\n",
    "print(\"confusion matrix_NB:\",confusion_matrix(y_test_Hidden, y_pred_NB1))"
   ]
  },
  {
   "cell_type": "markdown",
   "metadata": {},
   "source": [
    "# ENSEMBLE LEARNING"
   ]
  },
  {
   "cell_type": "code",
   "execution_count": 40,
   "metadata": {},
   "outputs": [],
   "source": [
    "#Random Forest Classifier \n",
    "classifier=RandomForestClassifier()"
   ]
  },
  {
   "cell_type": "code",
   "execution_count": 41,
   "metadata": {},
   "outputs": [],
   "source": [
    "#Train the model using the training sets\n",
    "classifier.fit(X,y)\n",
    "#Predict the response for test dataset\n",
    "y_pred_rf = classifier.predict(X_test_Hidden)"
   ]
  },
  {
   "cell_type": "code",
   "execution_count": 42,
   "metadata": {},
   "outputs": [
    {
     "name": "stdout",
     "output_type": "stream",
     "text": [
      "Accuracy_Score_RF : 0.9994557775359011\n",
      "f1_score_test_hidden_RF      :  0.9092204650036091\n",
      "precision_score_test_hidden_RF:  0.9792059615251714\n",
      "recall_score_test_hidden_RF  :  0.8571164784146635\n",
      "confusion matrix_RF: [[56861     3]\n",
      " [   28    70]]\n"
     ]
    }
   ],
   "source": [
    "print(\"Accuracy_Score_RF :\",accuracy_score(y_pred_rf,y_test_Hidden))\n",
    "print(\"f1_score_test_hidden_RF      : \", f1_score(y_test_Hidden, y_pred_rf, average=\"macro\"))\n",
    "print(\"precision_score_test_hidden_RF: \", precision_score(y_test_Hidden, y_pred_rf, average=\"macro\"))\n",
    "print(\"recall_score_test_hidden_RF  : \", recall_score(y_test_Hidden, y_pred_rf, average=\"macro\"))\n",
    "print(\"confusion matrix_RF:\",confusion_matrix(y_test_Hidden, y_pred_rf))"
   ]
  },
  {
   "cell_type": "code",
   "execution_count": 43,
   "metadata": {},
   "outputs": [],
   "source": [
    "#XG Boost Classifier\n",
    "xb = xgb.XGBClassifier(learning_rate=0.001, max_depth=1, n_estimators=1, scale_pos_weight=99.827, n_jobs=5)"
   ]
  },
  {
   "cell_type": "code",
   "execution_count": 44,
   "metadata": {},
   "outputs": [
    {
     "data": {
      "text/plain": [
       "XGBClassifier(learning_rate=0.001, max_depth=1, n_estimators=1, n_jobs=5,\n",
       "              scale_pos_weight=99.827)"
      ]
     },
     "execution_count": 44,
     "metadata": {},
     "output_type": "execute_result"
    }
   ],
   "source": [
    "#Train the model using the training sets\n",
    "xb.fit(X , y,eval_metric='logloss',verbose=True)"
   ]
  },
  {
   "cell_type": "code",
   "execution_count": 45,
   "metadata": {},
   "outputs": [
    {
     "name": "stdout",
     "output_type": "stream",
     "text": [
      "Accuracy_Score_XGB : 0.9961377760612338\n",
      "f1_score_XGB       :  0.7064780552080703\n",
      "recall_score_XGB  :  0.896200601793897\n",
      "precision_score_XGB:  0.6401113531586698\n",
      "confusion matrix_XGB: [[56664   200]\n",
      " [   20    78]]\n"
     ]
    }
   ],
   "source": [
    "#Predict the response for test dataset\n",
    "xgb_predict=xb.predict(X_test_Hidden)\n",
    "\n",
    "#cm_xgb = confusion_matrix(xgb_predict,y_test_Hidden.sample(n = 56962))\n",
    "#sns.heatmap(cm_xgb,annot=True)\n",
    "print(\"Accuracy_Score_XGB :\",accuracy_score(xgb_predict,y_test_Hidden))\n",
    "print(\"f1_score_XGB       : \", f1_score(y_test_Hidden, xgb_predict, average=\"macro\"))\n",
    "print(\"recall_score_XGB  : \", recall_score(y_test_Hidden, xgb_predict, average=\"macro\"))\n",
    "print(\"precision_score_XGB: \", precision_score(y_test_Hidden, xgb_predict, average=\"macro\"))\n",
    "print(\"confusion matrix_XGB:\",confusion_matrix(y_test_Hidden, xgb_predict))"
   ]
  },
  {
   "cell_type": "code",
   "execution_count": 46,
   "metadata": {},
   "outputs": [],
   "source": [
    "#Random Forest Classifier \n",
    "clf=RandomForestClassifier()"
   ]
  },
  {
   "cell_type": "code",
   "execution_count": 47,
   "metadata": {},
   "outputs": [],
   "source": [
    "#Train the model using the training sets\n",
    "clf.fit(X,y)\n",
    "#Predict the response for test dataset\n",
    "y_pred_rf_test = clf.predict(test)"
   ]
  },
  {
   "cell_type": "code",
   "execution_count": 48,
   "metadata": {},
   "outputs": [
    {
     "name": "stdout",
     "output_type": "stream",
     "text": [
      "Accuracy_Score_RF : 0.999420666409185\n",
      "f1_score_test_hidden_RF      :  0.9033637208102937\n",
      "precision_score_test_hidden_RF:  0.9723478574113444\n",
      "recall_score_test_hidden_RF  :  0.8520056446889392\n",
      "confusion matrix_RF: [[56860     4]\n",
      " [   29    69]]\n"
     ]
    }
   ],
   "source": [
    "print(\"Accuracy_Score_RF :\",accuracy_score(y_pred_rf_test,y_test_Hidden))\n",
    "print(\"f1_score_test_hidden_RF      : \", f1_score(y_test_Hidden, y_pred_rf_test, average=\"macro\"))\n",
    "print(\"precision_score_test_hidden_RF: \", precision_score(y_test_Hidden, y_pred_rf_test, average=\"macro\"))\n",
    "print(\"recall_score_test_hidden_RF  : \", recall_score(y_test_Hidden, y_pred_rf_test, average=\"macro\"))\n",
    "print(\"confusion matrix_RF:\",confusion_matrix(y_test_Hidden, y_pred_rf_test))"
   ]
  },
  {
   "cell_type": "markdown",
   "metadata": {},
   "source": [
    "## Obs: After modeling imbalance data Logistic Regression, SVM, Naive bayes, Random Forest and XG boost. The best model performance is Random forest Classifier."
   ]
  },
  {
   "cell_type": "markdown",
   "metadata": {},
   "source": [
    "#### Week3:\n",
    "Applying ANN:\n",
    "\n",
    "Use ANN (Artificial Neural Network) to identify fradulent and non-fradulent.\n",
    "       a)    Fine-tune number of layers\n",
    "       b)    Number of Neurons in each layers\n",
    "       c)    Experiment in batch-size\n",
    "       d)    Experiment with number of epochs. Check the observations in loss and accuracy\n",
    "       e)    Play with different Learning Rate variants of Gradient Descent like Adam, SGD, RMS-prop\n",
    "       f)    Find out which activation performs best for this use case and why?\n",
    "       g)    Check Confusion Matrix, Precision, Recall and F1-Score\n",
    "2.    Try out Dropout for ANN. How is it performed? Compare model performance with the traditional ML based prediction models from\n",
    "       above. \n",
    "3.    Find the best setting of neural net that can be best classified as fraudulent and non-fraudulent transactions. Use\n",
    "       techniques like Grid Search, Cross-Validation and Random search.\n",
    "\n",
    "Anomaly Detection:\n",
    "\n",
    "4.     Implement anomaly detection algorithms.\n",
    "        a)    Assume that the data is coming from a single or a combination of multivariate Gaussian\n",
    "        b)    Formalize a scoring criterion, which gives a scoring probability for the given data point whether it belongs to the\n",
    "              multivariate Gaussian or Normal Distribution fitted in a)"
   ]
  },
  {
   "cell_type": "code",
   "execution_count": 49,
   "metadata": {},
   "outputs": [],
   "source": [
    "import tensorflow as tf"
   ]
  },
  {
   "cell_type": "markdown",
   "metadata": {},
   "source": [
    "## Using dropout concept in th ANN classifier"
   ]
  },
  {
   "cell_type": "code",
   "execution_count": 50,
   "metadata": {},
   "outputs": [],
   "source": [
    "from keras import backend as K\n",
    "def recall_m(y_true, y_pred):\n",
    "    true_positives = K.sum(K.round(K.clip(y_true * y_pred, 0, 1)))\n",
    "    possible_positives = K.sum(K.round(K.clip(y_true, 0, 1)))\n",
    "    recall = true_positives / (possible_positives + K.epsilon())\n",
    "    return recall\n",
    "\n",
    "def precision_m(y_true, y_pred):\n",
    "    true_positives = K.sum(K.round(K.clip(y_true * y_pred, 0, 1)))\n",
    "    predicted_positives = K.sum(K.round(K.clip(y_pred, 0, 1)))\n",
    "    precision = true_positives / (predicted_positives + K.epsilon())\n",
    "    return precision\n",
    "\n",
    "def f1_m(y_true, y_pred):\n",
    "    precision = precision_m(y_true, y_pred)\n",
    "    recall = recall_m(y_true, y_pred)\n",
    "    return 2*((precision*recall)/(precision+recall+K.epsilon()))\n",
    "#Initialize Sequential model\n",
    "model = tf.keras.models.Sequential()\n",
    "\n",
    "#Normalize input data-30- because of the shape of the X_train\n",
    "model.add(tf.keras.layers.BatchNormalization(input_shape=(30,)))\n",
    "\n",
    "#Add Dense Layer  1\n",
    "model.add(tf.keras.layers.Dense(11, activation='relu'))\n",
    "model.add(tf.keras.layers.Dropout(0.3))\n",
    "\n",
    "#Add Dense Layer  2\n",
    "model.add(tf.keras.layers.Dense(18, activation='tanh'))\n",
    "model.add(tf.keras.layers.Dropout(0.3))\n",
    "\n",
    "#Add Dense Layer which provides 1 Output after applying sigmoid \n",
    "model.add(tf.keras.layers.Dense(1, activation='sigmoid'))\n",
    "\n",
    "#Compile the model\n",
    "model.compile('adam',loss='BinaryCrossentropy',metrics=['acc',f1_m,precision_m, recall_m])\n",
    "callbacks = [tf.keras.callbacks.EarlyStopping(monitor='accuracy', patience=0.7),tf.keras.callbacks.ModelCheckpoint(filepath='Finance_prj_best_model2.h5',save_best_only=True)]\n"
   ]
  },
  {
   "cell_type": "code",
   "execution_count": 51,
   "metadata": {},
   "outputs": [
    {
     "name": "stdout",
     "output_type": "stream",
     "text": [
      "Epoch 1/10\n",
      "45464/45491 [============================>.] - ETA: 0s - loss: 0.1823 - acc: 0.9318 - f1_m: 0.9256 - precision_m: 0.9556 - recall_m: 0.9156WARNING:tensorflow:Early stopping conditioned on metric `accuracy` which is not available. Available metrics are: loss,acc,f1_m,precision_m,recall_m,val_loss,val_acc,val_f1_m,val_precision_m,val_recall_m\n",
      "45491/45491 [==============================] - 98s 2ms/step - loss: 0.1823 - acc: 0.9318 - f1_m: 0.9256 - precision_m: 0.9556 - recall_m: 0.9156 - val_loss: 0.0719 - val_acc: 0.9886 - val_f1_m: 0.0141 - val_precision_m: 0.0138 - val_recall_m: 0.0146\n",
      "Epoch 2/10\n",
      "45474/45491 [============================>.] - ETA: 0s - loss: 0.1649 - acc: 0.9388 - f1_m: 0.9329 - precision_m: 0.9554 - recall_m: 0.9283WARNING:tensorflow:Early stopping conditioned on metric `accuracy` which is not available. Available metrics are: loss,acc,f1_m,precision_m,recall_m,val_loss,val_acc,val_f1_m,val_precision_m,val_recall_m\n",
      "45491/45491 [==============================] - 79s 2ms/step - loss: 0.1649 - acc: 0.9388 - f1_m: 0.9329 - precision_m: 0.9554 - recall_m: 0.9283 - val_loss: 0.0594 - val_acc: 0.9903 - val_f1_m: 0.0140 - val_precision_m: 0.0137 - val_recall_m: 0.0146\n",
      "Epoch 3/10\n",
      "45470/45491 [============================>.] - ETA: 0s - loss: 0.1630 - acc: 0.9399 - f1_m: 0.9336 - precision_m: 0.9533 - recall_m: 0.9315WARNING:tensorflow:Early stopping conditioned on metric `accuracy` which is not available. Available metrics are: loss,acc,f1_m,precision_m,recall_m,val_loss,val_acc,val_f1_m,val_precision_m,val_recall_m\n",
      "45491/45491 [==============================] - 79s 2ms/step - loss: 0.1630 - acc: 0.9399 - f1_m: 0.9336 - precision_m: 0.9533 - recall_m: 0.9315 - val_loss: 0.0623 - val_acc: 0.9898 - val_f1_m: 0.0141 - val_precision_m: 0.0138 - val_recall_m: 0.0147\n",
      "Epoch 4/10\n",
      "45472/45491 [============================>.] - ETA: 0s - loss: 0.1616 - acc: 0.9409 - f1_m: 0.9348 - precision_m: 0.9540 - recall_m: 0.9328WARNING:tensorflow:Early stopping conditioned on metric `accuracy` which is not available. Available metrics are: loss,acc,f1_m,precision_m,recall_m,val_loss,val_acc,val_f1_m,val_precision_m,val_recall_m\n",
      "45491/45491 [==============================] - 80s 2ms/step - loss: 0.1616 - acc: 0.9409 - f1_m: 0.9348 - precision_m: 0.9540 - recall_m: 0.9328 - val_loss: 0.0591 - val_acc: 0.9882 - val_f1_m: 0.0142 - val_precision_m: 0.0139 - val_recall_m: 0.0149\n",
      "Epoch 5/10\n",
      "45473/45491 [============================>.] - ETA: 0s - loss: 0.1625 - acc: 0.9400 - f1_m: 0.9334 - precision_m: 0.9514 - recall_m: 0.9331WARNING:tensorflow:Early stopping conditioned on metric `accuracy` which is not available. Available metrics are: loss,acc,f1_m,precision_m,recall_m,val_loss,val_acc,val_f1_m,val_precision_m,val_recall_m\n",
      "45491/45491 [==============================] - 79s 2ms/step - loss: 0.1625 - acc: 0.9400 - f1_m: 0.9334 - precision_m: 0.9514 - recall_m: 0.9331 - val_loss: 0.0705 - val_acc: 0.9867 - val_f1_m: 0.0139 - val_precision_m: 0.0135 - val_recall_m: 0.0147\n",
      "Epoch 6/10\n",
      "45475/45491 [============================>.] - ETA: 0s - loss: 0.1611 - acc: 0.9409 - f1_m: 0.9345 - precision_m: 0.9532 - recall_m: 0.9329WARNING:tensorflow:Early stopping conditioned on metric `accuracy` which is not available. Available metrics are: loss,acc,f1_m,precision_m,recall_m,val_loss,val_acc,val_f1_m,val_precision_m,val_recall_m\n",
      "45491/45491 [==============================] - 84s 2ms/step - loss: 0.1611 - acc: 0.9409 - f1_m: 0.9345 - precision_m: 0.9532 - recall_m: 0.9329 - val_loss: 0.0531 - val_acc: 0.9899 - val_f1_m: 0.0143 - val_precision_m: 0.0140 - val_recall_m: 0.0149\n",
      "Epoch 7/10\n",
      "45471/45491 [============================>.] - ETA: 0s - loss: 0.1620 - acc: 0.9407 - f1_m: 0.9346 - precision_m: 0.9535 - recall_m: 0.9333WARNING:tensorflow:Early stopping conditioned on metric `accuracy` which is not available. Available metrics are: loss,acc,f1_m,precision_m,recall_m,val_loss,val_acc,val_f1_m,val_precision_m,val_recall_m\n",
      "45491/45491 [==============================] - 81s 2ms/step - loss: 0.1620 - acc: 0.9407 - f1_m: 0.9346 - precision_m: 0.9535 - recall_m: 0.9333 - val_loss: 0.0484 - val_acc: 0.9924 - val_f1_m: 0.0142 - val_precision_m: 0.0140 - val_recall_m: 0.0146\n",
      "Epoch 8/10\n",
      "45465/45491 [============================>.] - ETA: 0s - loss: 0.1614 - acc: 0.9407 - f1_m: 0.9345 - precision_m: 0.9533 - recall_m: 0.9330WARNING:tensorflow:Early stopping conditioned on metric `accuracy` which is not available. Available metrics are: loss,acc,f1_m,precision_m,recall_m,val_loss,val_acc,val_f1_m,val_precision_m,val_recall_m\n",
      "45491/45491 [==============================] - 83s 2ms/step - loss: 0.1614 - acc: 0.9407 - f1_m: 0.9344 - precision_m: 0.9532 - recall_m: 0.9329 - val_loss: 0.0599 - val_acc: 0.9894 - val_f1_m: 0.0140 - val_precision_m: 0.0137 - val_recall_m: 0.0147\n",
      "Epoch 9/10\n",
      "45475/45491 [============================>.] - ETA: 0s - loss: 0.1617 - acc: 0.9407 - f1_m: 0.9342 - precision_m: 0.9533 - recall_m: 0.9329WARNING:tensorflow:Early stopping conditioned on metric `accuracy` which is not available. Available metrics are: loss,acc,f1_m,precision_m,recall_m,val_loss,val_acc,val_f1_m,val_precision_m,val_recall_m\n",
      "45491/45491 [==============================] - 80s 2ms/step - loss: 0.1617 - acc: 0.9407 - f1_m: 0.9342 - precision_m: 0.9533 - recall_m: 0.9329 - val_loss: 0.0507 - val_acc: 0.9914 - val_f1_m: 0.0140 - val_precision_m: 0.0137 - val_recall_m: 0.0146\n",
      "Epoch 10/10\n",
      "45485/45491 [============================>.] - ETA: 0s - loss: 0.1612 - acc: 0.9408 - f1_m: 0.9349 - precision_m: 0.9537 - recall_m: 0.9335WARNING:tensorflow:Early stopping conditioned on metric `accuracy` which is not available. Available metrics are: loss,acc,f1_m,precision_m,recall_m,val_loss,val_acc,val_f1_m,val_precision_m,val_recall_m\n",
      "45491/45491 [==============================] - 80s 2ms/step - loss: 0.1612 - acc: 0.9408 - f1_m: 0.9349 - precision_m: 0.9537 - recall_m: 0.9335 - val_loss: 0.0535 - val_acc: 0.9916 - val_f1_m: 0.0141 - val_precision_m: 0.0138 - val_recall_m: 0.0147\n"
     ]
    },
    {
     "data": {
      "text/plain": [
       "<tensorflow.python.keras.callbacks.History at 0x1d8040c0808>"
      ]
     },
     "execution_count": 51,
     "metadata": {},
     "output_type": "execute_result"
    }
   ],
   "source": [
    "model.fit(X_train,y_train,validation_data=(X_test_Hidden,y_test_Hidden), epochs=10,batch_size=10,callbacks = callbacks)\n"
   ]
  },
  {
   "cell_type": "code",
   "execution_count": 343,
   "metadata": {},
   "outputs": [],
   "source": [
    "from keras import backend as K\n",
    "def recall_m(y_true, y_pred):\n",
    "    true_positives = K.sum(K.round(K.clip(y_true * y_pred, 0, 1)))\n",
    "    possible_positives = K.sum(K.round(K.clip(y_true, 0, 1)))\n",
    "    recall = true_positives / (possible_positives + K.epsilon())\n",
    "    return recall\n",
    "\n",
    "def precision_m(y_true, y_pred):\n",
    "    true_positives = K.sum(K.round(K.clip(y_true * y_pred, 0, 1)))\n",
    "    predicted_positives = K.sum(K.round(K.clip(y_pred, 0, 1)))\n",
    "    precision = true_positives / (predicted_positives + K.epsilon())\n",
    "    return precision\n",
    "\n",
    "def f1_m(y_true, y_pred):\n",
    "    precision = precision_m(y_true, y_pred)\n",
    "    recall = recall_m(y_true, y_pred)\n",
    "    return 2*((precision*recall)/(precision+recall+K.epsilon()))\n",
    "#Initialize Sequential model\n",
    "model = tf.keras.models.Sequential()\n",
    "\n",
    "#Normalize input data-30- because of the shape of the X_train\n",
    "model.add(tf.keras.layers.BatchNormalization(input_shape=(30,)))\n",
    "\n",
    "#Add Dense Layer  1\n",
    "model.add(tf.keras.layers.Dense(11, activation='relu'))\n",
    "\n",
    "#Add Dense Layer  2\n",
    "model.add(tf.keras.layers.Dense(18, activation='tanh'))\n",
    "\n",
    "#Add Dense Layer which provides 1 Output after applying sigmoid \n",
    "model.add(tf.keras.layers.Dense(1, activation='sigmoid'))\n",
    "\n",
    "#Compile the model\n",
    "model.compile('adam',loss='BinaryCrossentropy',metrics=['acc',f1_m,precision_m, recall_m])\n",
    "\n",
    "callbacks = [tf.keras.callbacks.EarlyStopping(monitor='accuracy', patience=0.7),tf.keras.callbacks.ModelCheckpoint(filepath='Finance_prj_best_model1.h5',save_best_only=True)]"
   ]
  },
  {
   "cell_type": "code",
   "execution_count": 344,
   "metadata": {},
   "outputs": [
    {
     "name": "stdout",
     "output_type": "stream",
     "text": [
      "Epoch 1/10\n",
      "22783/22785 [============================>.] - ETA: 0s - loss: 0.0061 - acc: 0.9986 - f1_m: 0.0128 - precision_m: 0.0128 - recall_m: 0.0127- ETA: 7s - loss: 0.0067 - acc: 0.9984 - f1_m: 0.0126 - preci - ETA: 6s - loss: 0.0065 - acc: 0.9984 - f1_m: 0.0128 - precision_m:WARNING:tensorflow:Early stopping conditioned on metric `accuracy` which is not available. Available metrics are: loss,acc,f1_m,precision_m,recall_m,val_loss,val_acc,val_f1_m,val_precision_m,val_recall_m\n",
      "22785/22785 [==============================] - 54s 2ms/step - loss: 0.0061 - acc: 0.9986 - f1_m: 0.0128 - precision_m: 0.0128 - recall_m: 0.0127 - val_loss: 0.0035 - val_acc: 0.9993 - val_f1_m: 0.0128 - val_precision_m: 0.0127 - val_recall_m: 0.0128\n",
      "Epoch 2/10\n",
      "22769/22785 [============================>.] - ETA: 0s - loss: 0.0032 - acc: 0.9994 - f1_m: 0.0137 - precision_m: 0.0137 - recall_m: 0.0137WARNING:tensorflow:Early stopping conditioned on metric `accuracy` which is not available. Available metrics are: loss,acc,f1_m,precision_m,recall_m,val_loss,val_acc,val_f1_m,val_precision_m,val_recall_m\n",
      "22785/22785 [==============================] - 54s 2ms/step - loss: 0.0032 - acc: 0.9994 - f1_m: 0.0137 - precision_m: 0.0137 - recall_m: 0.0136 - val_loss: 0.0038 - val_acc: 0.9993 - val_f1_m: 0.0128 - val_precision_m: 0.0127 - val_recall_m: 0.0128\n",
      "Epoch 3/10\n",
      "22782/22785 [============================>.] - ETA: 0s - loss: 0.0031 - acc: 0.9994 - f1_m: 0.0134 - precision_m: 0.0134 - recall_m: 0.0133- ETA: 8s - loss: 0.0030 - acc: 0.9994 - f1_m: 0.0136 - preci - ETA: 7s - lo - ETA: 3s - loss: 0.003WARNING:tensorflow:Early stopping conditioned on metric `accuracy` which is not available. Available metrics are: loss,acc,f1_m,precision_m,recall_m,val_loss,val_acc,val_f1_m,val_precision_m,val_recall_m\n",
      "22785/22785 [==============================] - 54s 2ms/step - loss: 0.0031 - acc: 0.9994 - f1_m: 0.0134 - precision_m: 0.0134 - recall_m: 0.0134 - val_loss: 0.0037 - val_acc: 0.9993 - val_f1_m: 0.0128 - val_precision_m: 0.0127 - val_recall_m: 0.0128\n",
      "Epoch 4/10\n",
      "22770/22785 [============================>.] - ETA: 0s - loss: 0.0032 - acc: 0.9994 - f1_m: 0.0135 - precision_m: 0.0135 - recall_m: 0.0135WARNING:tensorflow:Early stopping conditioned on metric `accuracy` which is not available. Available metrics are: loss,acc,f1_m,precision_m,recall_m,val_loss,val_acc,val_f1_m,val_precision_m,val_recall_m\n",
      "22785/22785 [==============================] - 54s 2ms/step - loss: 0.0032 - acc: 0.9994 - f1_m: 0.0135 - precision_m: 0.0135 - recall_m: 0.0135 - val_loss: 0.0037 - val_acc: 0.9992 - val_f1_m: 0.0128 - val_precision_m: 0.0127 - val_recall_m: 0.0128\n",
      "Epoch 5/10\n",
      "22777/22785 [============================>.] - ETA: 0s - loss: 0.0031 - acc: 0.9994 - f1_m: 0.0133 - precision_m: 0.0133 - recall_m: 0.0133- ETA: 3s - loss: 0.0032 - acc: 0.99WARNING:tensorflow:Early stopping conditioned on metric `accuracy` which is not available. Available metrics are: loss,acc,f1_m,precision_m,recall_m,val_loss,val_acc,val_f1_m,val_precision_m,val_recall_m\n",
      "22785/22785 [==============================] - 55s 2ms/step - loss: 0.0031 - acc: 0.9994 - f1_m: 0.0133 - precision_m: 0.0133 - recall_m: 0.0133 - val_loss: 0.0038 - val_acc: 0.9993 - val_f1_m: 0.0126 - val_precision_m: 0.0126 - val_recall_m: 0.0126\n",
      "Epoch 6/10\n",
      "22770/22785 [============================>.] - ETA: 0s - loss: 0.0032 - acc: 0.9994 - f1_m: 0.0135 - precision_m: 0.0135 - recall_m: 0.0135WARNING:tensorflow:Early stopping conditioned on metric `accuracy` which is not available. Available metrics are: loss,acc,f1_m,precision_m,recall_m,val_loss,val_acc,val_f1_m,val_precision_m,val_recall_m\n",
      "22785/22785 [==============================] - 55s 2ms/step - loss: 0.0032 - acc: 0.9994 - f1_m: 0.0135 - precision_m: 0.0135 - recall_m: 0.0135 - val_loss: 0.0043 - val_acc: 0.9993 - val_f1_m: 0.0128 - val_precision_m: 0.0127 - val_recall_m: 0.0128\n",
      "Epoch 7/10\n",
      "22778/22785 [============================>.] - ETA: 0s - loss: 0.0033 - acc: 0.9994 - f1_m: 0.0134 - precision_m: 0.0134 - recall_m: 0.0133- ETA: 6s - loss: 0.0033 - acc: 0.9994 - f1_m: 0.0128 - precision_m: 0.0128 - recal - ETA: 6s - loss: 0.0033 - ac - ETA: 2s - loss: 0.0033 - acc: 0.9994 - f1_m: 0.0130 - precision - ETA: 1s - loss: 0.0033 - acc: 0.9994 - f1_m: 0.0132 - precision_m: 0.0WARNING:tensorflow:Early stopping conditioned on metric `accuracy` which is not available. Available metrics are: loss,acc,f1_m,precision_m,recall_m,val_loss,val_acc,val_f1_m,val_precision_m,val_recall_m\n",
      "22785/22785 [==============================] - 54s 2ms/step - loss: 0.0033 - acc: 0.9994 - f1_m: 0.0134 - precision_m: 0.0134 - recall_m: 0.0134 - val_loss: 0.0039 - val_acc: 0.9993 - val_f1_m: 0.0126 - val_precision_m: 0.0126 - val_recall_m: 0.0126\n",
      "Epoch 8/10\n",
      "22772/22785 [============================>.] - ETA: 0s - loss: 0.0033 - acc: 0.9994 - f1_m: 0.0134 - precision_m: 0.0134 - recall_m: 0.0134WARNING:tensorflow:Early stopping conditioned on metric `accuracy` which is not available. Available metrics are: loss,acc,f1_m,precision_m,recall_m,val_loss,val_acc,val_f1_m,val_precision_m,val_recall_m\n",
      "22785/22785 [==============================] - 53s 2ms/step - loss: 0.0033 - acc: 0.9994 - f1_m: 0.0134 - precision_m: 0.0134 - recall_m: 0.0134 - val_loss: 0.0045 - val_acc: 0.9993 - val_f1_m: 0.0129 - val_precision_m: 0.0129 - val_recall_m: 0.0130\n",
      "Epoch 9/10\n",
      "22784/22785 [============================>.] - ETA: 0s - loss: 0.0036 - acc: 0.9994 - f1_m: 0.0135 - precision_m: 0.0136 - recall_m: 0.0135- ETA: 1s - loss: 0.0036 - acc: 0.9994 - f1_m: 0.0136 - precisiWARNING:tensorflow:Early stopping conditioned on metric `accuracy` which is not available. Available metrics are: loss,acc,f1_m,precision_m,recall_m,val_loss,val_acc,val_f1_m,val_precision_m,val_recall_m\n",
      "22785/22785 [==============================] - 56s 2ms/step - loss: 0.0036 - acc: 0.9994 - f1_m: 0.0135 - precision_m: 0.0136 - recall_m: 0.0135 - val_loss: 0.0044 - val_acc: 0.9992 - val_f1_m: 0.0109 - val_precision_m: 0.0110 - val_recall_m: 0.0110\n",
      "Epoch 10/10\n",
      "22779/22785 [============================>.] - ETA: 0s - loss: 0.0035 - acc: 0.9994 - f1_m: 0.0132 - precision_m: 0.0132 - recall_m: 0.0132WARNING:tensorflow:Early stopping conditioned on metric `accuracy` which is not available. Available metrics are: loss,acc,f1_m,precision_m,recall_m,val_loss,val_acc,val_f1_m,val_precision_m,val_recall_m\n",
      "22785/22785 [==============================] - 56s 2ms/step - loss: 0.0035 - acc: 0.9994 - f1_m: 0.0132 - precision_m: 0.0132 - recall_m: 0.0132 - val_loss: 0.0041 - val_acc: 0.9992 - val_f1_m: 0.0117 - val_precision_m: 0.0117 - val_recall_m: 0.0118\n"
     ]
    },
    {
     "data": {
      "text/plain": [
       "<tensorflow.python.keras.callbacks.History at 0x1d87df96e08>"
      ]
     },
     "execution_count": 344,
     "metadata": {},
     "output_type": "execute_result"
    }
   ],
   "source": [
    "model.fit(X,y,validation_data=(X_test_Hidden,y_test_Hidden),epochs=10,batch_size=10,callbacks = callbacks)\n"
   ]
  },
  {
   "cell_type": "markdown",
   "metadata": {},
   "source": [
    "Trying ANN without drouput"
   ]
  },
  {
   "cell_type": "code",
   "execution_count": 287,
   "metadata": {},
   "outputs": [],
   "source": [
    "from keras import backend as K\n",
    "def recall_m(y_true, y_pred):\n",
    "    true_positives = K.sum(K.round(K.clip(y_true * y_pred, 0, 1)))\n",
    "    possible_positives = K.sum(K.round(K.clip(y_true, 0, 1)))\n",
    "    recall = true_positives / (possible_positives + K.epsilon())\n",
    "    return recall\n",
    "\n",
    "def precision_m(y_true, y_pred):\n",
    "    true_positives = K.sum(K.round(K.clip(y_true * y_pred, 0, 1)))\n",
    "    predicted_positives = K.sum(K.round(K.clip(y_pred, 0, 1)))\n",
    "    precision = true_positives / (predicted_positives + K.epsilon())\n",
    "    return precision\n",
    "\n",
    "def f1_m(y_true, y_pred):\n",
    "    precision = precision_m(y_true, y_pred)\n",
    "    recall = recall_m(y_true, y_pred)\n",
    "    return 2*((precision*recall)/(precision+recall+K.epsilon()))\n",
    "#Initialize Sequential model\n",
    "model = tf.keras.models.Sequential()\n",
    "\n",
    "#Normalize input data-30- because of the shape of the X_train\n",
    "model.add(tf.keras.layers.BatchNormalization(input_shape=(30,)))\n",
    "\n",
    "#Add Dense Layer  1\n",
    "model.add(tf.keras.layers.Dense(11, activation='relu'))\n",
    "\n",
    "#Add Dense Layer  2\n",
    "model.add(tf.keras.layers.Dense(18, activation='tanh'))\n",
    "\n",
    "#Add Dense Layer which provides 1 Output after applying sigmoid \n",
    "model.add(tf.keras.layers.Dense(1, activation='sigmoid'))\n",
    "\n",
    "#Compile the model\n",
    "model.compile('adam',loss='BinaryCrossentropy',metrics=['acc',f1_m,precision_m, recall_m])\n",
    "\n",
    "callbacks = [tf.keras.callbacks.EarlyStopping(monitor='accuracy', patience=0.7),tf.keras.callbacks.ModelCheckpoint(filepath='Finance_prj_best_model4.h5',save_best_only=True)]\n",
    "\n"
   ]
  },
  {
   "cell_type": "code",
   "execution_count": 292,
   "metadata": {},
   "outputs": [
    {
     "name": "stdout",
     "output_type": "stream",
     "text": [
      "Epoch 1/10\n",
      "45490/45491 [============================>.] - ETA: 0s - loss: 0.0900 - acc: 0.9651 - f1_m: 0.9615 - precision_m: 0.9695 - recall_m: 0.9629- ETA: 1s - loss: 0.0901 - acc: 0.9651 - f1_m: 0.9615 - precision_m: 0.9696 - ETA: 0s - loss: 0.0901 - acc: 0.9651 - f1_m: 0.9615 - precision_m: 0.96WARNING:tensorflow:Early stopping conditioned on metric `accuracy` which is not available. Available metrics are: loss,acc,f1_m,precision_m,recall_m\n",
      "WARNING:tensorflow:Can save best model only with val_loss available, skipping.\n",
      "45491/45491 [==============================] - 93s 2ms/step - loss: 0.0900 - acc: 0.9651 - f1_m: 0.9615 - precision_m: 0.9695 - recall_m: 0.9629\n",
      "Epoch 2/10\n",
      "45473/45491 [============================>.] - ETA: 0s - loss: 0.0888 - acc: 0.9655 - f1_m: 0.9618 - precision_m: 0.9696 - recall_m: 0.9632- ETA: 6s - loss: 0.0887 - acc: 0.9655 - f1_m: 0.96WARNING:tensorflow:Early stopping conditioned on metric `accuracy` which is not available. Available metrics are: loss,acc,f1_m,precision_m,recall_m\n",
      "WARNING:tensorflow:Can save best model only with val_loss available, skipping.\n",
      "45491/45491 [==============================] - 99s 2ms/step - loss: 0.0888 - acc: 0.9655 - f1_m: 0.9617 - precision_m: 0.9695 - recall_m: 0.9632\n",
      "Epoch 3/10\n",
      "45474/45491 [============================>.] - ETA: 0s - loss: 0.0881 - acc: 0.9658 - f1_m: 0.9619 - precision_m: 0.9693 - recall_m: 0.9637  ETWARNING:tensorflow:Early stopping conditioned on metric `accuracy` which is not available. Available metrics are: loss,acc,f1_m,precision_m,recall_m\n",
      "WARNING:tensorflow:Can save best model only with val_loss available, skipping.\n",
      "45491/45491 [==============================] - 99s 2ms/step - loss: 0.0881 - acc: 0.9658 - f1_m: 0.9619 - precision_m: 0.9693 - recall_m: 0.9636\n",
      "Epoch 4/10\n",
      "45467/45491 [============================>.] - ETA: 0s - loss: 0.0885 - acc: 0.9659 - f1_m: 0.9621 - precision_m: 0.9696 - recall_m: 0.9637WARNING:tensorflow:Early stopping conditioned on metric `accuracy` which is not available. Available metrics are: loss,acc,f1_m,precision_m,recall_m\n",
      "WARNING:tensorflow:Can save best model only with val_loss available, skipping.\n",
      "45491/45491 [==============================] - 84s 2ms/step - loss: 0.0885 - acc: 0.9659 - f1_m: 0.9621 - precision_m: 0.9695 - recall_m: 0.9637\n",
      "Epoch 5/10\n",
      "45487/45491 [============================>.] - ETA: 0s - loss: 0.0886 - acc: 0.9657 - f1_m: 0.9620 - precision_m: 0.9700 - recall_m: 0.9633WARNING:tensorflow:Early stopping conditioned on metric `accuracy` which is not available. Available metrics are: loss,acc,f1_m,precision_m,recall_m\n",
      "WARNING:tensorflow:Can save best model only with val_loss available, skipping.\n",
      "45491/45491 [==============================] - 80s 2ms/step - loss: 0.0886 - acc: 0.9657 - f1_m: 0.9620 - precision_m: 0.9699 - recall_m: 0.9633\n",
      "Epoch 6/10\n",
      "45464/45491 [============================>.] - ETA: 0s - loss: 0.0882 - acc: 0.9659 - f1_m: 0.9623 - precision_m: 0.9700 - recall_m: 0.9636WARNING:tensorflow:Early stopping conditioned on metric `accuracy` which is not available. Available metrics are: loss,acc,f1_m,precision_m,recall_m\n",
      "WARNING:tensorflow:Can save best model only with val_loss available, skipping.\n",
      "45491/45491 [==============================] - 76s 2ms/step - loss: 0.0882 - acc: 0.9659 - f1_m: 0.9623 - precision_m: 0.9700 - recall_m: 0.9636\n",
      "Epoch 7/10\n",
      "45467/45491 [============================>.] - ETA: 0s - loss: 0.0877 - acc: 0.9660 - f1_m: 0.9618 - precision_m: 0.9694 - recall_m: 0.9635WARNING:tensorflow:Early stopping conditioned on metric `accuracy` which is not available. Available metrics are: loss,acc,f1_m,precision_m,recall_m\n",
      "WARNING:tensorflow:Can save best model only with val_loss available, skipping.\n",
      "45491/45491 [==============================] - 75s 2ms/step - loss: 0.0877 - acc: 0.9660 - f1_m: 0.9618 - precision_m: 0.9694 - recall_m: 0.9636\n",
      "Epoch 8/10\n",
      "45480/45491 [============================>.] - ETA: 0s - loss: 0.0885 - acc: 0.9660 - f1_m: 0.9621 - precision_m: 0.9698 - recall_m: 0.9634WARNING:tensorflow:Early stopping conditioned on metric `accuracy` which is not available. Available metrics are: loss,acc,f1_m,precision_m,recall_m\n",
      "WARNING:tensorflow:Can save best model only with val_loss available, skipping.\n",
      "45491/45491 [==============================] - 74s 2ms/step - loss: 0.0885 - acc: 0.9660 - f1_m: 0.9621 - precision_m: 0.9698 - recall_m: 0.9634\n",
      "Epoch 9/10\n",
      "45483/45491 [============================>.] - ETA: 0s - loss: 0.0874 - acc: 0.9663 - f1_m: 0.9625 - precision_m: 0.9701 - recall_m: 0.9639- ETA: 4s - loss: 0.0874 - acc: 0.9663 - f1 - ETA: 1s - loss: 0.0875 - acc: 0.9663 - f1_m: 0.9625 - precisiWARNING:tensorflow:Early stopping conditioned on metric `accuracy` which is not available. Available metrics are: loss,acc,f1_m,precision_m,recall_m\n",
      "WARNING:tensorflow:Can save best model only with val_loss available, skipping.\n",
      "45491/45491 [==============================] - 74s 2ms/step - loss: 0.0874 - acc: 0.9663 - f1_m: 0.9625 - precision_m: 0.9701 - recall_m: 0.9639\n",
      "Epoch 10/10\n",
      "45482/45491 [============================>.] - ETA: 0s - loss: 0.0880 - acc: 0.9659 - f1_m: 0.9620 - precision_m: 0.9696 - recall_m: 0.9637WARNING:tensorflow:Early stopping conditioned on metric `accuracy` which is not available. Available metrics are: loss,acc,f1_m,precision_m,recall_m\n",
      "WARNING:tensorflow:Can save best model only with val_loss available, skipping.\n",
      "45491/45491 [==============================] - 74s 2ms/step - loss: 0.0880 - acc: 0.9659 - f1_m: 0.9620 - precision_m: 0.9696 - recall_m: 0.9637\n"
     ]
    },
    {
     "data": {
      "text/plain": [
       "<tensorflow.python.keras.callbacks.History at 0x1d879973188>"
      ]
     },
     "execution_count": 292,
     "metadata": {},
     "output_type": "execute_result"
    }
   ],
   "source": [
    "model.fit(X_train,y_train, epochs=10,batch_size=10,callbacks = callbacks)\n"
   ]
  },
  {
   "cell_type": "code",
   "execution_count": 297,
   "metadata": {},
   "outputs": [
    {
     "data": {
      "text/plain": [
       "array([[0.00037926],\n",
       "       [0.01260841],\n",
       "       [0.00026026],\n",
       "       ...,\n",
       "       [0.00149658],\n",
       "       [0.000714  ],\n",
       "       [0.005775  ]], dtype=float32)"
      ]
     },
     "execution_count": 297,
     "metadata": {},
     "output_type": "execute_result"
    }
   ],
   "source": [
    "y_test_pred_ann = model.predict(test)\n",
    "y_test_pred_ann"
   ]
  },
  {
   "cell_type": "code",
   "execution_count": 298,
   "metadata": {},
   "outputs": [
    {
     "data": {
      "text/plain": [
       "0        0\n",
       "1        0\n",
       "2        0\n",
       "3        0\n",
       "4        0\n",
       "        ..\n",
       "56957    0\n",
       "56958    0\n",
       "56959    0\n",
       "56960    0\n",
       "56961    0\n",
       "Length: 56962, dtype: int64"
      ]
     },
     "execution_count": 298,
     "metadata": {},
     "output_type": "execute_result"
    }
   ],
   "source": [
    "y_test_pred_ann_copy = [1 if x>=0.5 else 0 for x in y_test_pred_ann]\n",
    "y_test_pred_ann_series = pd.Series(y_test_pred_ann_copy)\n",
    "y_test_pred_ann_series"
   ]
  },
  {
   "cell_type": "code",
   "execution_count": 299,
   "metadata": {},
   "outputs": [
    {
     "data": {
      "text/plain": [
       "array([[0.00037926],\n",
       "       [0.01260841],\n",
       "       [0.00026026],\n",
       "       ...,\n",
       "       [0.00149658],\n",
       "       [0.000714  ],\n",
       "       [0.005775  ]], dtype=float32)"
      ]
     },
     "execution_count": 299,
     "metadata": {},
     "output_type": "execute_result"
    }
   ],
   "source": [
    "y_test_Hidden_pred_ann = model.predict(X_test_Hidden)\n",
    "y_test_Hidden_pred_ann"
   ]
  },
  {
   "cell_type": "code",
   "execution_count": 300,
   "metadata": {},
   "outputs": [
    {
     "data": {
      "text/plain": [
       "0        0\n",
       "1        0\n",
       "2        0\n",
       "3        0\n",
       "4        0\n",
       "        ..\n",
       "56957    0\n",
       "56958    0\n",
       "56959    0\n",
       "56960    0\n",
       "56961    0\n",
       "Length: 56962, dtype: int64"
      ]
     },
     "execution_count": 300,
     "metadata": {},
     "output_type": "execute_result"
    }
   ],
   "source": [
    "y_test_Hidden_pred_ann_copy = [1 if x>=0.5 else 0 for x in y_test_Hidden_pred_ann]\n",
    "y_test_Hidden_pred_ann_series = pd.Series(y_test_Hidden_pred_ann_copy)\n",
    "y_test_Hidden_pred_ann_series"
   ]
  },
  {
   "cell_type": "code",
   "execution_count": 306,
   "metadata": {},
   "outputs": [
    {
     "name": "stdout",
     "output_type": "stream",
     "text": [
      "confusion matrix_ANN: [[56173    15]\n",
      " [  691    83]]\n"
     ]
    }
   ],
   "source": [
    "print(\"confusion matrix_ANN:\",confusion_matrix(y_test_Hidden_pred_ann_series,y_test_Hidden))"
   ]
  },
  {
   "cell_type": "markdown",
   "metadata": {},
   "source": [
    "## Finding the best optimizer for neural net using Grid Search"
   ]
  },
  {
   "cell_type": "code",
   "execution_count": 88,
   "metadata": {},
   "outputs": [
    {
     "name": "stdout",
     "output_type": "stream",
     "text": [
      "Best: 0.999065 using {'optimizer': 'Adamax'}\n",
      "0.998262 (0.000173) with: {'optimizer': 'SGD'}\n",
      "0.998920 (0.000439) with: {'optimizer': 'RMSprop'}\n",
      "0.998670 (0.000279) with: {'optimizer': 'Adagrad'}\n",
      "0.995888 (0.002661) with: {'optimizer': 'Adadelta'}\n",
      "0.998345 (0.000118) with: {'optimizer': 'Adam'}\n",
      "0.999065 (0.000190) with: {'optimizer': 'Adamax'}\n",
      "0.998363 (0.000127) with: {'optimizer': 'Nadam'}\n"
     ]
    }
   ],
   "source": [
    "#function to create model, required for KerasClassifier\n",
    "def create_model(optimizer='adam'):\n",
    "    # create model\n",
    "    model = Sequential()\n",
    "    model.add(Dense(12, input_dim=30, activation='relu'))\n",
    "    model.add(Dense(1, activation='sigmoid'))\n",
    "    #Compile model\n",
    "    model.compile(loss='binary_crossentropy', optimizer=optimizer, metrics=['accuracy'])\n",
    "    return model\n",
    "# fix random seed for reproducibility\n",
    "seed = 7\n",
    "numpy.random.seed(seed)\n",
    "# create model\n",
    "model = KerasClassifier(build_fn=create_model, epochs=100, batch_size=10, verbose=0)\n",
    "# define the grid search parameters\n",
    "optimizer = ['SGD', 'RMSprop', 'Adagrad', 'Adadelta', 'Adam', 'Adamax', 'Nadam']\n",
    "param_grid = dict(optimizer=optimizer)\n",
    "grid = GridSearchCV(estimator=model, param_grid=param_grid, n_jobs=-1, cv=3)\n",
    "grid_result = grid.fit(X_train, y_train)\n",
    "# summarize results\n",
    "print(\"Best: %f using %s\" % (grid_result.best_score_, grid_result.best_params_))\n",
    "means = grid_result.cv_results_['mean_test_score']\n",
    "stds = grid_result.cv_results_['std_test_score']\n",
    "params = grid_result.cv_results_['params']\n",
    "for mean, stdev, param in zip(means, stds, params):\n",
    "    print(\"%f (%f) with: %r\" % (mean, stdev, param))"
   ]
  },
  {
   "cell_type": "markdown",
   "metadata": {},
   "source": [
    "#### Best: 0.999065 using optimizer: Adamax"
   ]
  },
  {
   "cell_type": "code",
   "execution_count": 345,
   "metadata": {},
   "outputs": [
    {
     "name": "stdout",
     "output_type": "stream",
     "text": [
      "Best: 0.997835 using {'batch_size': 10, 'epochs': 100}\n",
      "0.982717 (0.011001) with: {'batch_size': 10, 'epochs': 10}\n",
      "0.997613 (0.001266) with: {'batch_size': 10, 'epochs': 50}\n",
      "0.997835 (0.001018) with: {'batch_size': 10, 'epochs': 100}\n",
      "0.989101 (0.002815) with: {'batch_size': 20, 'epochs': 10}\n",
      "0.997782 (0.001472) with: {'batch_size': 20, 'epochs': 50}\n",
      "0.997344 (0.002109) with: {'batch_size': 20, 'epochs': 100}\n",
      "0.979903 (0.013023) with: {'batch_size': 40, 'epochs': 10}\n",
      "0.995617 (0.001717) with: {'batch_size': 40, 'epochs': 50}\n",
      "0.997122 (0.002255) with: {'batch_size': 40, 'epochs': 100}\n",
      "0.983194 (0.008676) with: {'batch_size': 60, 'epochs': 10}\n",
      "0.994814 (0.002243) with: {'batch_size': 60, 'epochs': 50}\n",
      "0.995869 (0.002424) with: {'batch_size': 60, 'epochs': 100}\n",
      "0.978984 (0.003978) with: {'batch_size': 80, 'epochs': 10}\n",
      "0.993251 (0.004402) with: {'batch_size': 80, 'epochs': 50}\n",
      "0.995304 (0.002318) with: {'batch_size': 80, 'epochs': 100}\n",
      "0.983058 (0.001835) with: {'batch_size': 100, 'epochs': 10}\n",
      "0.992335 (0.002556) with: {'batch_size': 100, 'epochs': 50}\n",
      "0.996716 (0.000624) with: {'batch_size': 100, 'epochs': 100}\n"
     ]
    }
   ],
   "source": [
    "#function to create model, required for KerasClassifier\n",
    "def create_model():\n",
    "    # create model\n",
    "    model = Sequential()\n",
    "    model.add(Dense(12, input_dim=30, activation='relu'))\n",
    "    model.add(Dense(1, activation='sigmoid'))\n",
    "    #Compile model\n",
    "    model.compile(loss='binary_crossentropy', optimizer='adam', metrics=['accuracy'])\n",
    "    return model\n",
    "# fix random seed for reproducibility\n",
    "seed = 7\n",
    "numpy.random.seed(seed)\n",
    "# create model\n",
    "model = KerasClassifier(build_fn=create_model,verbose=0)\n",
    "# define the grid search parameters\n",
    "batch_size = [10, 20, 40, 60, 80, 100]\n",
    "epochs = [10, 50, 100]\n",
    "param_grid = dict(batch_size=batch_size,epochs = epochs )\n",
    "grid = GridSearchCV(estimator=model, param_grid=param_grid, n_jobs=-1, cv=3)\n",
    "grid_result = grid.fit(X_train, y_train)\n",
    "# summarize results\n",
    "print(\"Best: %f using %s\" % (grid_result.best_score_, grid_result.best_params_))\n",
    "means = grid_result.cv_results_['mean_test_score']\n",
    "stds = grid_result.cv_results_['std_test_score']\n",
    "params = grid_result.cv_results_['params']\n",
    "for mean, stdev, param in zip(means, stds, params):\n",
    "    print(\"%f (%f) with: %r\" % (mean, stdev, param))"
   ]
  },
  {
   "cell_type": "markdown",
   "metadata": {},
   "source": [
    "### Best: 0.997835 using batch_size: 10, epochs: 100"
   ]
  },
  {
   "cell_type": "markdown",
   "metadata": {},
   "source": [
    "## Anamoly Detection using Isolation Forest"
   ]
  },
  {
   "cell_type": "code",
   "execution_count": 268,
   "metadata": {},
   "outputs": [
    {
     "name": "stdout",
     "output_type": "stream",
     "text": [
      "0.0017322412299792043\n",
      "Fraud Cases: 394\n",
      "Valid Transactions: 227451\n"
     ]
    }
   ],
   "source": [
    "Fraud = train[train['Class'] == 1]\n",
    "Valid = train[train['Class'] == 0]\n",
    "outlier_fraction = len(Fraud)/float(len(Valid))\n",
    "print(outlier_fraction)\n",
    "print('Fraud Cases: {}'.format(len(train[train['Class'] == 1])))\n",
    "print('Valid Transactions: {}'.format(len(train[train['Class'] == 0])))"
   ]
  },
  {
   "cell_type": "code",
   "execution_count": 269,
   "metadata": {},
   "outputs": [
    {
     "data": {
      "text/plain": [
       "IsolationForest(contamination=0.0017322412299792043, n_estimators=50)"
      ]
     },
     "execution_count": 269,
     "metadata": {},
     "output_type": "execute_result"
    }
   ],
   "source": [
    "max_features=1.0\n",
    "n_estimators=50\n",
    "max_samples='auto'\n",
    "contamination=outlier_fraction#float(0.98)\n",
    "forest_model=IsolationForest(max_features = max_features, n_estimators=n_estimators, max_samples=max_samples, contamination=contamination)\n",
    "forest_model.fit(X,y)"
   ]
  },
  {
   "cell_type": "code",
   "execution_count": 270,
   "metadata": {},
   "outputs": [
    {
     "data": {
      "text/html": [
       "<div>\n",
       "<style scoped>\n",
       "    .dataframe tbody tr th:only-of-type {\n",
       "        vertical-align: middle;\n",
       "    }\n",
       "\n",
       "    .dataframe tbody tr th {\n",
       "        vertical-align: top;\n",
       "    }\n",
       "\n",
       "    .dataframe thead th {\n",
       "        text-align: right;\n",
       "    }\n",
       "</style>\n",
       "<table border=\"1\" class=\"dataframe\">\n",
       "  <thead>\n",
       "    <tr style=\"text-align: right;\">\n",
       "      <th></th>\n",
       "      <th>Time</th>\n",
       "      <th>V1</th>\n",
       "      <th>V2</th>\n",
       "      <th>V3</th>\n",
       "      <th>V4</th>\n",
       "      <th>V5</th>\n",
       "      <th>V6</th>\n",
       "      <th>V7</th>\n",
       "      <th>V8</th>\n",
       "      <th>V9</th>\n",
       "      <th>...</th>\n",
       "      <th>V23</th>\n",
       "      <th>V24</th>\n",
       "      <th>V25</th>\n",
       "      <th>V26</th>\n",
       "      <th>V27</th>\n",
       "      <th>V28</th>\n",
       "      <th>Amount</th>\n",
       "      <th>Class</th>\n",
       "      <th>scores</th>\n",
       "      <th>anomaly_Value</th>\n",
       "    </tr>\n",
       "  </thead>\n",
       "  <tbody>\n",
       "    <tr>\n",
       "      <th>0</th>\n",
       "      <td>10.654167</td>\n",
       "      <td>1.043949</td>\n",
       "      <td>0.318555</td>\n",
       "      <td>1.045810</td>\n",
       "      <td>2.805989</td>\n",
       "      <td>-0.561113</td>\n",
       "      <td>-0.367956</td>\n",
       "      <td>0.032736</td>\n",
       "      <td>-0.042333</td>\n",
       "      <td>-0.322674</td>\n",
       "      <td>...</td>\n",
       "      <td>0.085328</td>\n",
       "      <td>0.684812</td>\n",
       "      <td>0.318620</td>\n",
       "      <td>-0.204963</td>\n",
       "      <td>0.001662</td>\n",
       "      <td>0.037894</td>\n",
       "      <td>49.67</td>\n",
       "      <td>0</td>\n",
       "      <td>0.281633</td>\n",
       "      <td>1</td>\n",
       "    </tr>\n",
       "    <tr>\n",
       "      <th>1</th>\n",
       "      <td>6.265278</td>\n",
       "      <td>-1.665159</td>\n",
       "      <td>0.808440</td>\n",
       "      <td>1.805627</td>\n",
       "      <td>1.903416</td>\n",
       "      <td>-0.821627</td>\n",
       "      <td>0.934790</td>\n",
       "      <td>-0.824802</td>\n",
       "      <td>0.975890</td>\n",
       "      <td>1.747469</td>\n",
       "      <td>...</td>\n",
       "      <td>0.035839</td>\n",
       "      <td>0.147565</td>\n",
       "      <td>-0.529358</td>\n",
       "      <td>-0.566950</td>\n",
       "      <td>-0.595998</td>\n",
       "      <td>-0.220086</td>\n",
       "      <td>16.94</td>\n",
       "      <td>0</td>\n",
       "      <td>0.131427</td>\n",
       "      <td>1</td>\n",
       "    </tr>\n",
       "    <tr>\n",
       "      <th>2</th>\n",
       "      <td>0.675278</td>\n",
       "      <td>-0.324096</td>\n",
       "      <td>0.601836</td>\n",
       "      <td>0.865329</td>\n",
       "      <td>-2.138000</td>\n",
       "      <td>0.294663</td>\n",
       "      <td>-1.251553</td>\n",
       "      <td>1.072114</td>\n",
       "      <td>-0.334896</td>\n",
       "      <td>1.071268</td>\n",
       "      <td>...</td>\n",
       "      <td>-0.341505</td>\n",
       "      <td>-0.145791</td>\n",
       "      <td>0.094194</td>\n",
       "      <td>-0.804026</td>\n",
       "      <td>0.229428</td>\n",
       "      <td>-0.021623</td>\n",
       "      <td>1.00</td>\n",
       "      <td>0</td>\n",
       "      <td>0.233846</td>\n",
       "      <td>1</td>\n",
       "    </tr>\n",
       "    <tr>\n",
       "      <th>3</th>\n",
       "      <td>24.103611</td>\n",
       "      <td>-0.258270</td>\n",
       "      <td>1.217501</td>\n",
       "      <td>-0.585348</td>\n",
       "      <td>-0.875347</td>\n",
       "      <td>1.222481</td>\n",
       "      <td>-0.311027</td>\n",
       "      <td>1.073860</td>\n",
       "      <td>-0.161408</td>\n",
       "      <td>0.200665</td>\n",
       "      <td>...</td>\n",
       "      <td>0.019316</td>\n",
       "      <td>0.178614</td>\n",
       "      <td>-0.315616</td>\n",
       "      <td>0.096665</td>\n",
       "      <td>0.269740</td>\n",
       "      <td>-0.020635</td>\n",
       "      <td>10.78</td>\n",
       "      <td>0</td>\n",
       "      <td>0.296954</td>\n",
       "      <td>1</td>\n",
       "    </tr>\n",
       "    <tr>\n",
       "      <th>4</th>\n",
       "      <td>35.333889</td>\n",
       "      <td>2.142162</td>\n",
       "      <td>-0.494988</td>\n",
       "      <td>-1.936511</td>\n",
       "      <td>-0.818288</td>\n",
       "      <td>-0.025213</td>\n",
       "      <td>-1.027245</td>\n",
       "      <td>-0.151627</td>\n",
       "      <td>-0.305750</td>\n",
       "      <td>-0.869482</td>\n",
       "      <td>...</td>\n",
       "      <td>0.079463</td>\n",
       "      <td>-0.480899</td>\n",
       "      <td>0.023846</td>\n",
       "      <td>-0.279076</td>\n",
       "      <td>-0.030121</td>\n",
       "      <td>-0.043888</td>\n",
       "      <td>39.96</td>\n",
       "      <td>0</td>\n",
       "      <td>0.253828</td>\n",
       "      <td>1</td>\n",
       "    </tr>\n",
       "    <tr>\n",
       "      <th>5</th>\n",
       "      <td>10.441667</td>\n",
       "      <td>-6.341667</td>\n",
       "      <td>1.192815</td>\n",
       "      <td>-3.686579</td>\n",
       "      <td>-2.754006</td>\n",
       "      <td>-5.007164</td>\n",
       "      <td>3.988118</td>\n",
       "      <td>1.693606</td>\n",
       "      <td>-13.577522</td>\n",
       "      <td>2.557965</td>\n",
       "      <td>...</td>\n",
       "      <td>-1.507217</td>\n",
       "      <td>-0.179185</td>\n",
       "      <td>0.002092</td>\n",
       "      <td>-0.019168</td>\n",
       "      <td>3.611243</td>\n",
       "      <td>-0.894494</td>\n",
       "      <td>1437.08</td>\n",
       "      <td>0</td>\n",
       "      <td>-0.016495</td>\n",
       "      <td>-1</td>\n",
       "    </tr>\n",
       "    <tr>\n",
       "      <th>6</th>\n",
       "      <td>15.760833</td>\n",
       "      <td>-0.463928</td>\n",
       "      <td>0.204745</td>\n",
       "      <td>2.795734</td>\n",
       "      <td>1.546200</td>\n",
       "      <td>-0.720374</td>\n",
       "      <td>1.108212</td>\n",
       "      <td>-0.581133</td>\n",
       "      <td>0.544075</td>\n",
       "      <td>1.099843</td>\n",
       "      <td>...</td>\n",
       "      <td>-0.100344</td>\n",
       "      <td>0.126248</td>\n",
       "      <td>-0.461584</td>\n",
       "      <td>-0.200985</td>\n",
       "      <td>0.280168</td>\n",
       "      <td>0.180046</td>\n",
       "      <td>11.10</td>\n",
       "      <td>0</td>\n",
       "      <td>0.245224</td>\n",
       "      <td>1</td>\n",
       "    </tr>\n",
       "    <tr>\n",
       "      <th>7</th>\n",
       "      <td>0.253333</td>\n",
       "      <td>-1.394619</td>\n",
       "      <td>0.554224</td>\n",
       "      <td>-0.617805</td>\n",
       "      <td>-0.313706</td>\n",
       "      <td>2.157413</td>\n",
       "      <td>3.537534</td>\n",
       "      <td>-0.567305</td>\n",
       "      <td>1.380888</td>\n",
       "      <td>-0.112291</td>\n",
       "      <td>...</td>\n",
       "      <td>-0.124758</td>\n",
       "      <td>1.046780</td>\n",
       "      <td>-0.089474</td>\n",
       "      <td>0.363674</td>\n",
       "      <td>0.215692</td>\n",
       "      <td>0.225698</td>\n",
       "      <td>24.08</td>\n",
       "      <td>0</td>\n",
       "      <td>0.245667</td>\n",
       "      <td>1</td>\n",
       "    </tr>\n",
       "    <tr>\n",
       "      <th>8</th>\n",
       "      <td>47.516111</td>\n",
       "      <td>-2.121785</td>\n",
       "      <td>-1.518485</td>\n",
       "      <td>2.667942</td>\n",
       "      <td>-2.458839</td>\n",
       "      <td>-1.414952</td>\n",
       "      <td>0.807935</td>\n",
       "      <td>-1.870160</td>\n",
       "      <td>0.516477</td>\n",
       "      <td>-0.553359</td>\n",
       "      <td>...</td>\n",
       "      <td>-1.000976</td>\n",
       "      <td>-0.212991</td>\n",
       "      <td>0.420722</td>\n",
       "      <td>-0.019645</td>\n",
       "      <td>-0.482792</td>\n",
       "      <td>-0.407780</td>\n",
       "      <td>28.00</td>\n",
       "      <td>0</td>\n",
       "      <td>0.181912</td>\n",
       "      <td>1</td>\n",
       "    </tr>\n",
       "    <tr>\n",
       "      <th>9</th>\n",
       "      <td>22.069444</td>\n",
       "      <td>-2.254788</td>\n",
       "      <td>-0.955967</td>\n",
       "      <td>0.590596</td>\n",
       "      <td>0.114744</td>\n",
       "      <td>-5.876531</td>\n",
       "      <td>3.364858</td>\n",
       "      <td>6.365904</td>\n",
       "      <td>-1.252960</td>\n",
       "      <td>0.243849</td>\n",
       "      <td>...</td>\n",
       "      <td>0.517855</td>\n",
       "      <td>0.534361</td>\n",
       "      <td>0.494493</td>\n",
       "      <td>0.301414</td>\n",
       "      <td>0.507071</td>\n",
       "      <td>-0.560888</td>\n",
       "      <td>1354.98</td>\n",
       "      <td>0</td>\n",
       "      <td>0.162581</td>\n",
       "      <td>1</td>\n",
       "    </tr>\n",
       "  </tbody>\n",
       "</table>\n",
       "<p>10 rows × 33 columns</p>\n",
       "</div>"
      ],
      "text/plain": [
       "        Time        V1        V2        V3        V4        V5        V6  \\\n",
       "0  10.654167  1.043949  0.318555  1.045810  2.805989 -0.561113 -0.367956   \n",
       "1   6.265278 -1.665159  0.808440  1.805627  1.903416 -0.821627  0.934790   \n",
       "2   0.675278 -0.324096  0.601836  0.865329 -2.138000  0.294663 -1.251553   \n",
       "3  24.103611 -0.258270  1.217501 -0.585348 -0.875347  1.222481 -0.311027   \n",
       "4  35.333889  2.142162 -0.494988 -1.936511 -0.818288 -0.025213 -1.027245   \n",
       "5  10.441667 -6.341667  1.192815 -3.686579 -2.754006 -5.007164  3.988118   \n",
       "6  15.760833 -0.463928  0.204745  2.795734  1.546200 -0.720374  1.108212   \n",
       "7   0.253333 -1.394619  0.554224 -0.617805 -0.313706  2.157413  3.537534   \n",
       "8  47.516111 -2.121785 -1.518485  2.667942 -2.458839 -1.414952  0.807935   \n",
       "9  22.069444 -2.254788 -0.955967  0.590596  0.114744 -5.876531  3.364858   \n",
       "\n",
       "         V7         V8        V9  ...       V23       V24       V25       V26  \\\n",
       "0  0.032736  -0.042333 -0.322674  ...  0.085328  0.684812  0.318620 -0.204963   \n",
       "1 -0.824802   0.975890  1.747469  ...  0.035839  0.147565 -0.529358 -0.566950   \n",
       "2  1.072114  -0.334896  1.071268  ... -0.341505 -0.145791  0.094194 -0.804026   \n",
       "3  1.073860  -0.161408  0.200665  ...  0.019316  0.178614 -0.315616  0.096665   \n",
       "4 -0.151627  -0.305750 -0.869482  ...  0.079463 -0.480899  0.023846 -0.279076   \n",
       "5  1.693606 -13.577522  2.557965  ... -1.507217 -0.179185  0.002092 -0.019168   \n",
       "6 -0.581133   0.544075  1.099843  ... -0.100344  0.126248 -0.461584 -0.200985   \n",
       "7 -0.567305   1.380888 -0.112291  ... -0.124758  1.046780 -0.089474  0.363674   \n",
       "8 -1.870160   0.516477 -0.553359  ... -1.000976 -0.212991  0.420722 -0.019645   \n",
       "9  6.365904  -1.252960  0.243849  ...  0.517855  0.534361  0.494493  0.301414   \n",
       "\n",
       "        V27       V28   Amount  Class    scores  anomaly_Value  \n",
       "0  0.001662  0.037894    49.67      0  0.281633              1  \n",
       "1 -0.595998 -0.220086    16.94      0  0.131427              1  \n",
       "2  0.229428 -0.021623     1.00      0  0.233846              1  \n",
       "3  0.269740 -0.020635    10.78      0  0.296954              1  \n",
       "4 -0.030121 -0.043888    39.96      0  0.253828              1  \n",
       "5  3.611243 -0.894494  1437.08      0 -0.016495             -1  \n",
       "6  0.280168  0.180046    11.10      0  0.245224              1  \n",
       "7  0.215692  0.225698    24.08      0  0.245667              1  \n",
       "8 -0.482792 -0.407780    28.00      0  0.181912              1  \n",
       "9  0.507071 -0.560888  1354.98      0  0.162581              1  \n",
       "\n",
       "[10 rows x 33 columns]"
      ]
     },
     "execution_count": 270,
     "metadata": {},
     "output_type": "execute_result"
    }
   ],
   "source": [
    "train['scores']=forest_model.decision_function(X)\n",
    "train['anomaly_Value']=forest_model.predict(X)\n",
    "train.head(10)"
   ]
  },
  {
   "cell_type": "code",
   "execution_count": 271,
   "metadata": {},
   "outputs": [
    {
     "data": {
      "text/plain": [
       "227845"
      ]
     },
     "execution_count": 271,
     "metadata": {},
     "output_type": "execute_result"
    }
   ],
   "source": [
    "outliers_counter=len(train['anomaly_Value']==-1)\n",
    "outliers_counter"
   ]
  },
  {
   "cell_type": "code",
   "execution_count": 272,
   "metadata": {},
   "outputs": [
    {
     "name": "stdout",
     "output_type": "stream",
     "text": [
      "Accuracy percentage: 0.1733634707805745\n"
     ]
    }
   ],
   "source": [
    "print(\"Accuracy percentage:\", 100*list(train['anomaly_Value']).count(-1)/(outliers_counter))"
   ]
  },
  {
   "cell_type": "code",
   "execution_count": 274,
   "metadata": {},
   "outputs": [
    {
     "data": {
      "text/plain": [
       "IsolationForest(contamination=0.0017322412299792043, n_estimators=50)"
      ]
     },
     "execution_count": 274,
     "metadata": {},
     "output_type": "execute_result"
    }
   ],
   "source": [
    "max_features=1.0\n",
    "n_estimators=50\n",
    "max_samples='auto'\n",
    "contamination=outlier_fraction#float(0.001)\n",
    "Iso=IsolationForest(max_features = max_features, n_estimators=n_estimators, max_samples=max_samples, contamination=contamination)\n",
    "Iso.fit(X_test_Hidden,y_test_Hidden)\n"
   ]
  },
  {
   "cell_type": "code",
   "execution_count": 275,
   "metadata": {},
   "outputs": [
    {
     "data": {
      "text/html": [
       "<div>\n",
       "<style scoped>\n",
       "    .dataframe tbody tr th:only-of-type {\n",
       "        vertical-align: middle;\n",
       "    }\n",
       "\n",
       "    .dataframe tbody tr th {\n",
       "        vertical-align: top;\n",
       "    }\n",
       "\n",
       "    .dataframe thead th {\n",
       "        text-align: right;\n",
       "    }\n",
       "</style>\n",
       "<table border=\"1\" class=\"dataframe\">\n",
       "  <thead>\n",
       "    <tr style=\"text-align: right;\">\n",
       "      <th></th>\n",
       "      <th>Time</th>\n",
       "      <th>V1</th>\n",
       "      <th>V2</th>\n",
       "      <th>V3</th>\n",
       "      <th>V4</th>\n",
       "      <th>V5</th>\n",
       "      <th>V6</th>\n",
       "      <th>V7</th>\n",
       "      <th>V8</th>\n",
       "      <th>V9</th>\n",
       "      <th>...</th>\n",
       "      <th>V23</th>\n",
       "      <th>V24</th>\n",
       "      <th>V25</th>\n",
       "      <th>V26</th>\n",
       "      <th>V27</th>\n",
       "      <th>V28</th>\n",
       "      <th>Amount</th>\n",
       "      <th>Class</th>\n",
       "      <th>scores</th>\n",
       "      <th>anomaly_Value</th>\n",
       "    </tr>\n",
       "  </thead>\n",
       "  <tbody>\n",
       "    <tr>\n",
       "      <th>0</th>\n",
       "      <td>31.402778</td>\n",
       "      <td>0.114697</td>\n",
       "      <td>0.796303</td>\n",
       "      <td>-0.149553</td>\n",
       "      <td>-0.823011</td>\n",
       "      <td>0.878763</td>\n",
       "      <td>-0.553152</td>\n",
       "      <td>0.939259</td>\n",
       "      <td>-0.108502</td>\n",
       "      <td>0.111137</td>\n",
       "      <td>...</td>\n",
       "      <td>-0.055940</td>\n",
       "      <td>-1.025281</td>\n",
       "      <td>-0.369557</td>\n",
       "      <td>0.204653</td>\n",
       "      <td>0.242724</td>\n",
       "      <td>0.085713</td>\n",
       "      <td>0.89</td>\n",
       "      <td>0</td>\n",
       "      <td>0.264971</td>\n",
       "      <td>1</td>\n",
       "    </tr>\n",
       "    <tr>\n",
       "      <th>1</th>\n",
       "      <td>7.407500</td>\n",
       "      <td>-0.039318</td>\n",
       "      <td>0.495784</td>\n",
       "      <td>-0.810884</td>\n",
       "      <td>0.546693</td>\n",
       "      <td>1.986257</td>\n",
       "      <td>4.386342</td>\n",
       "      <td>-1.344891</td>\n",
       "      <td>-1.743736</td>\n",
       "      <td>-0.563103</td>\n",
       "      <td>...</td>\n",
       "      <td>-0.197573</td>\n",
       "      <td>1.014807</td>\n",
       "      <td>1.011293</td>\n",
       "      <td>-0.167684</td>\n",
       "      <td>0.113136</td>\n",
       "      <td>0.256836</td>\n",
       "      <td>85.00</td>\n",
       "      <td>0</td>\n",
       "      <td>0.218170</td>\n",
       "      <td>1</td>\n",
       "    </tr>\n",
       "    <tr>\n",
       "      <th>2</th>\n",
       "      <td>44.310833</td>\n",
       "      <td>2.275706</td>\n",
       "      <td>-1.531508</td>\n",
       "      <td>-1.021969</td>\n",
       "      <td>-1.602152</td>\n",
       "      <td>-1.220329</td>\n",
       "      <td>-0.462376</td>\n",
       "      <td>-1.196485</td>\n",
       "      <td>-0.147058</td>\n",
       "      <td>-0.950224</td>\n",
       "      <td>...</td>\n",
       "      <td>0.150945</td>\n",
       "      <td>-0.811083</td>\n",
       "      <td>-0.197913</td>\n",
       "      <td>-0.128446</td>\n",
       "      <td>0.014197</td>\n",
       "      <td>-0.051289</td>\n",
       "      <td>42.70</td>\n",
       "      <td>0</td>\n",
       "      <td>0.240196</td>\n",
       "      <td>1</td>\n",
       "    </tr>\n",
       "    <tr>\n",
       "      <th>3</th>\n",
       "      <td>38.206944</td>\n",
       "      <td>1.940137</td>\n",
       "      <td>-0.357671</td>\n",
       "      <td>-1.210551</td>\n",
       "      <td>0.382523</td>\n",
       "      <td>0.050823</td>\n",
       "      <td>-0.171322</td>\n",
       "      <td>-0.109124</td>\n",
       "      <td>-0.002115</td>\n",
       "      <td>0.869258</td>\n",
       "      <td>...</td>\n",
       "      <td>0.034206</td>\n",
       "      <td>0.739535</td>\n",
       "      <td>0.223605</td>\n",
       "      <td>-0.195509</td>\n",
       "      <td>-0.012791</td>\n",
       "      <td>-0.056841</td>\n",
       "      <td>29.99</td>\n",
       "      <td>0</td>\n",
       "      <td>0.281682</td>\n",
       "      <td>1</td>\n",
       "    </tr>\n",
       "    <tr>\n",
       "      <th>4</th>\n",
       "      <td>17.602500</td>\n",
       "      <td>1.081395</td>\n",
       "      <td>-0.502615</td>\n",
       "      <td>1.075887</td>\n",
       "      <td>-0.543359</td>\n",
       "      <td>-1.472946</td>\n",
       "      <td>-1.065484</td>\n",
       "      <td>-0.443231</td>\n",
       "      <td>-0.143374</td>\n",
       "      <td>1.659826</td>\n",
       "      <td>...</td>\n",
       "      <td>-0.137223</td>\n",
       "      <td>0.986259</td>\n",
       "      <td>0.563228</td>\n",
       "      <td>-0.574206</td>\n",
       "      <td>0.089673</td>\n",
       "      <td>0.052036</td>\n",
       "      <td>68.00</td>\n",
       "      <td>0</td>\n",
       "      <td>0.269079</td>\n",
       "      <td>1</td>\n",
       "    </tr>\n",
       "    <tr>\n",
       "      <th>5</th>\n",
       "      <td>15.296944</td>\n",
       "      <td>0.441380</td>\n",
       "      <td>-2.217230</td>\n",
       "      <td>0.802581</td>\n",
       "      <td>-0.127056</td>\n",
       "      <td>-1.867945</td>\n",
       "      <td>0.495430</td>\n",
       "      <td>-0.741205</td>\n",
       "      <td>0.214230</td>\n",
       "      <td>-0.198782</td>\n",
       "      <td>...</td>\n",
       "      <td>-0.316073</td>\n",
       "      <td>0.288840</td>\n",
       "      <td>0.103051</td>\n",
       "      <td>-0.289289</td>\n",
       "      <td>-0.010973</td>\n",
       "      <td>0.085977</td>\n",
       "      <td>423.70</td>\n",
       "      <td>0</td>\n",
       "      <td>0.244167</td>\n",
       "      <td>1</td>\n",
       "    </tr>\n",
       "    <tr>\n",
       "      <th>6</th>\n",
       "      <td>37.674722</td>\n",
       "      <td>1.937007</td>\n",
       "      <td>0.394490</td>\n",
       "      <td>-0.860965</td>\n",
       "      <td>3.720728</td>\n",
       "      <td>0.458475</td>\n",
       "      <td>0.159445</td>\n",
       "      <td>0.017991</td>\n",
       "      <td>0.024848</td>\n",
       "      <td>-0.615042</td>\n",
       "      <td>...</td>\n",
       "      <td>0.030587</td>\n",
       "      <td>0.633156</td>\n",
       "      <td>0.198230</td>\n",
       "      <td>0.219840</td>\n",
       "      <td>-0.049470</td>\n",
       "      <td>-0.048914</td>\n",
       "      <td>10.59</td>\n",
       "      <td>0</td>\n",
       "      <td>0.208345</td>\n",
       "      <td>1</td>\n",
       "    </tr>\n",
       "    <tr>\n",
       "      <th>7</th>\n",
       "      <td>9.345278</td>\n",
       "      <td>-0.552654</td>\n",
       "      <td>-0.279974</td>\n",
       "      <td>2.626373</td>\n",
       "      <td>0.535665</td>\n",
       "      <td>-1.350645</td>\n",
       "      <td>0.523387</td>\n",
       "      <td>0.124452</td>\n",
       "      <td>0.076345</td>\n",
       "      <td>-0.800457</td>\n",
       "      <td>...</td>\n",
       "      <td>0.152325</td>\n",
       "      <td>0.322421</td>\n",
       "      <td>-0.217550</td>\n",
       "      <td>-0.179712</td>\n",
       "      <td>-0.010302</td>\n",
       "      <td>-0.087118</td>\n",
       "      <td>137.00</td>\n",
       "      <td>0</td>\n",
       "      <td>0.249225</td>\n",
       "      <td>1</td>\n",
       "    </tr>\n",
       "    <tr>\n",
       "      <th>8</th>\n",
       "      <td>22.424722</td>\n",
       "      <td>-2.760629</td>\n",
       "      <td>2.206112</td>\n",
       "      <td>-0.193100</td>\n",
       "      <td>0.764237</td>\n",
       "      <td>-0.718603</td>\n",
       "      <td>-0.920526</td>\n",
       "      <td>0.228957</td>\n",
       "      <td>0.507112</td>\n",
       "      <td>0.084184</td>\n",
       "      <td>...</td>\n",
       "      <td>0.083789</td>\n",
       "      <td>0.412720</td>\n",
       "      <td>0.093874</td>\n",
       "      <td>-0.336316</td>\n",
       "      <td>0.084779</td>\n",
       "      <td>0.490768</td>\n",
       "      <td>40.11</td>\n",
       "      <td>0</td>\n",
       "      <td>0.275670</td>\n",
       "      <td>1</td>\n",
       "    </tr>\n",
       "    <tr>\n",
       "      <th>9</th>\n",
       "      <td>0.686944</td>\n",
       "      <td>-0.287085</td>\n",
       "      <td>0.061850</td>\n",
       "      <td>1.389693</td>\n",
       "      <td>-0.844605</td>\n",
       "      <td>-0.756236</td>\n",
       "      <td>-0.702512</td>\n",
       "      <td>0.256420</td>\n",
       "      <td>-0.056059</td>\n",
       "      <td>-1.814368</td>\n",
       "      <td>...</td>\n",
       "      <td>0.064802</td>\n",
       "      <td>0.547049</td>\n",
       "      <td>-0.537486</td>\n",
       "      <td>1.039433</td>\n",
       "      <td>0.044394</td>\n",
       "      <td>0.120748</td>\n",
       "      <td>51.70</td>\n",
       "      <td>0</td>\n",
       "      <td>0.263890</td>\n",
       "      <td>1</td>\n",
       "    </tr>\n",
       "  </tbody>\n",
       "</table>\n",
       "<p>10 rows × 33 columns</p>\n",
       "</div>"
      ],
      "text/plain": [
       "        Time        V1        V2        V3        V4        V5        V6  \\\n",
       "0  31.402778  0.114697  0.796303 -0.149553 -0.823011  0.878763 -0.553152   \n",
       "1   7.407500 -0.039318  0.495784 -0.810884  0.546693  1.986257  4.386342   \n",
       "2  44.310833  2.275706 -1.531508 -1.021969 -1.602152 -1.220329 -0.462376   \n",
       "3  38.206944  1.940137 -0.357671 -1.210551  0.382523  0.050823 -0.171322   \n",
       "4  17.602500  1.081395 -0.502615  1.075887 -0.543359 -1.472946 -1.065484   \n",
       "5  15.296944  0.441380 -2.217230  0.802581 -0.127056 -1.867945  0.495430   \n",
       "6  37.674722  1.937007  0.394490 -0.860965  3.720728  0.458475  0.159445   \n",
       "7   9.345278 -0.552654 -0.279974  2.626373  0.535665 -1.350645  0.523387   \n",
       "8  22.424722 -2.760629  2.206112 -0.193100  0.764237 -0.718603 -0.920526   \n",
       "9   0.686944 -0.287085  0.061850  1.389693 -0.844605 -0.756236 -0.702512   \n",
       "\n",
       "         V7        V8        V9  ...       V23       V24       V25       V26  \\\n",
       "0  0.939259 -0.108502  0.111137  ... -0.055940 -1.025281 -0.369557  0.204653   \n",
       "1 -1.344891 -1.743736 -0.563103  ... -0.197573  1.014807  1.011293 -0.167684   \n",
       "2 -1.196485 -0.147058 -0.950224  ...  0.150945 -0.811083 -0.197913 -0.128446   \n",
       "3 -0.109124 -0.002115  0.869258  ...  0.034206  0.739535  0.223605 -0.195509   \n",
       "4 -0.443231 -0.143374  1.659826  ... -0.137223  0.986259  0.563228 -0.574206   \n",
       "5 -0.741205  0.214230 -0.198782  ... -0.316073  0.288840  0.103051 -0.289289   \n",
       "6  0.017991  0.024848 -0.615042  ...  0.030587  0.633156  0.198230  0.219840   \n",
       "7  0.124452  0.076345 -0.800457  ...  0.152325  0.322421 -0.217550 -0.179712   \n",
       "8  0.228957  0.507112  0.084184  ...  0.083789  0.412720  0.093874 -0.336316   \n",
       "9  0.256420 -0.056059 -1.814368  ...  0.064802  0.547049 -0.537486  1.039433   \n",
       "\n",
       "        V27       V28  Amount  Class    scores  anomaly_Value  \n",
       "0  0.242724  0.085713    0.89      0  0.264971              1  \n",
       "1  0.113136  0.256836   85.00      0  0.218170              1  \n",
       "2  0.014197 -0.051289   42.70      0  0.240196              1  \n",
       "3 -0.012791 -0.056841   29.99      0  0.281682              1  \n",
       "4  0.089673  0.052036   68.00      0  0.269079              1  \n",
       "5 -0.010973  0.085977  423.70      0  0.244167              1  \n",
       "6 -0.049470 -0.048914   10.59      0  0.208345              1  \n",
       "7 -0.010302 -0.087118  137.00      0  0.249225              1  \n",
       "8  0.084779  0.490768   40.11      0  0.275670              1  \n",
       "9  0.044394  0.120748   51.70      0  0.263890              1  \n",
       "\n",
       "[10 rows x 33 columns]"
      ]
     },
     "execution_count": 275,
     "metadata": {},
     "output_type": "execute_result"
    }
   ],
   "source": [
    "test_Hidden['scores']=Iso.decision_function(X_test_Hidden)\n",
    "test_Hidden['anomaly_Value']=Iso.predict(X_test_Hidden)\n",
    "test_Hidden.head(10)"
   ]
  },
  {
   "cell_type": "code",
   "execution_count": 276,
   "metadata": {},
   "outputs": [
    {
     "data": {
      "text/plain": [
       "56962"
      ]
     },
     "execution_count": 276,
     "metadata": {},
     "output_type": "execute_result"
    }
   ],
   "source": [
    "outliers_counter=len(test_Hidden['anomaly_Value']==-1)\n",
    "outliers_counter"
   ]
  },
  {
   "cell_type": "code",
   "execution_count": 277,
   "metadata": {},
   "outputs": [
    {
     "name": "stdout",
     "output_type": "stream",
     "text": [
      "Accuracy percentage: 0.17380007724447877\n"
     ]
    }
   ],
   "source": [
    "print(\"Accuracy percentage:\", 100*list(test_Hidden['anomaly_Value']).count(-1)/(outliers_counter))"
   ]
  },
  {
   "cell_type": "code",
   "execution_count": 278,
   "metadata": {},
   "outputs": [
    {
     "data": {
      "text/plain": [
       "array([1, 1, 1, ..., 1, 1, 1])"
      ]
     },
     "execution_count": 278,
     "metadata": {},
     "output_type": "execute_result"
    }
   ],
   "source": [
    "y_pred = Iso.predict(X_test_Hidden)\n",
    "y_pred"
   ]
  },
  {
   "cell_type": "markdown",
   "metadata": {},
   "source": [
    "fpr, tpr, thresholds = roc_curve(y_test_Hidden,y_pred)\n",
    "import matplotlib.pyplot as plt\n",
    "plt.plot(fpr, tpr, 'k-', lw=2)\n",
    "plt.xlabel('FPR')\n",
    "plt.ylabel('TPR')\n",
    "plt.show()"
   ]
  },
  {
   "cell_type": "code",
   "execution_count": 280,
   "metadata": {},
   "outputs": [],
   "source": [
    "y_score = -forest_model.decision_function(X)"
   ]
  },
  {
   "cell_type": "code",
   "execution_count": 281,
   "metadata": {},
   "outputs": [
    {
     "data": {
      "text/plain": [
       "0.9493818125204722"
      ]
     },
     "execution_count": 281,
     "metadata": {},
     "output_type": "execute_result"
    }
   ],
   "source": [
    "roc_auc_score(y, y_score)"
   ]
  },
  {
   "cell_type": "code",
   "execution_count": 286,
   "metadata": {},
   "outputs": [
    {
     "data": {
      "text/plain": [
       "0.9448034982141421"
      ]
     },
     "execution_count": 286,
     "metadata": {},
     "output_type": "execute_result"
    }
   ],
   "source": [
    "y_score_test = -Iso.decision_function(X_test_Hidden)\n",
    "roc_auc_score(y_test_Hidden, y_score_test)"
   ]
  },
  {
   "cell_type": "code",
   "execution_count": 282,
   "metadata": {},
   "outputs": [
    {
     "data": {
      "text/plain": [
       "array([0, 0, 0, ..., 0, 0, 0])"
      ]
     },
     "execution_count": 282,
     "metadata": {},
     "output_type": "execute_result"
    }
   ],
   "source": [
    "# Reshape the prediction values to 0 for valid, 1 for fraud. \n",
    "y_pred[y_pred == 1] = 0\n",
    "y_pred[y_pred == -1] = 1\n",
    "y_pred"
   ]
  },
  {
   "cell_type": "code",
   "execution_count": 283,
   "metadata": {},
   "outputs": [
    {
     "data": {
      "image/png": "[encoded data removed]",
      "text/plain": [
       "<Figure size 360x288 with 2 Axes>"
      ]
     },
     "metadata": {
      "needs_background": "light"
     },
     "output_type": "display_data"
    }
   ],
   "source": [
    "#printing the confusion matrix\n",
    "LABELS = ['Normal', 'Fraud']\n",
    "conf_matrix = confusion_matrix(y_test_Hidden, y_pred)\n",
    "plt.figure(figsize=(5, 4))\n",
    "sns.heatmap(conf_matrix, xticklabels=LABELS,\n",
    " yticklabels=LABELS, annot=True, fmt='d');\n",
    "plt.title('Confusion matrix')\n",
    "plt.xlabel('True class')\n",
    "plt.ylabel('Predicted class')\n",
    "plt.show()"
   ]
  },
  {
   "cell_type": "code",
   "execution_count": 284,
   "metadata": {},
   "outputs": [
    {
     "name": "stdout",
     "output_type": "stream",
     "text": [
      "The Model used is Isolation Forest\n",
      "The accuracy is 0.9974193321863699\n",
      "The precision is 0.25252525252525254\n",
      "The recall is 0.25510204081632654\n",
      "The F1-Score is 0.25380710659898476\n"
     ]
    }
   ],
   "source": [
    "print('The Model used is {}'.format('Isolation Forest'))\n",
    "acc= accuracy_score(y_test_Hidden, y_pred)\n",
    "print('The accuracy is {}'.format(acc))\n",
    "prec= precision_score(y_test_Hidden, y_pred)\n",
    "print('The precision is {}'.format(prec))\n",
    "rec= recall_score(y_test_Hidden, y_pred)\n",
    "print('The recall is {}'.format(rec))\n",
    "f1= f1_score(y_test_Hidden, y_pred)\n",
    "print('The F1-Score is {}'.format(f1))"
   ]
  },
  {
   "cell_type": "markdown",
   "metadata": {},
   "source": [
    "0.94 is model roc_auc_score on test and train data and threshold for Anoamly detection is 0.0017. Generated by Isolation forest.F1 score is less than the earlier models as Isolation forest cannot handle highly imbalance data.Looks like is Isolation forest did good work on anomaly detection "
   ]
  },
  {
   "cell_type": "markdown",
   "metadata": {},
   "source": [
    "##### Week 4:\n",
    "1.Visualize the scores for Fraudulent and Non-Fraudulent transactions.\n",
    "2.Find out the threshold value for marking or reporting a transaction as fraudulent in your anomaly detection system.\n",
    "3.Can this score be used as an engineered feature in the models developed previously? Are there any incremental gains in F1-Score? Why or Why not?\n",
    "4.Be as creative as possible in finding other interesting insights."
   ]
  },
  {
   "cell_type": "markdown",
   "metadata": {},
   "source": [
    "## Inference and Observations:"
   ]
  },
  {
   "cell_type": "markdown",
   "metadata": {},
   "source": [
    "### Visualize the scores for Fraudulent and Non-Fraudulent transactions"
   ]
  },
  {
   "cell_type": "code",
   "execution_count": 307,
   "metadata": {},
   "outputs": [
    {
     "data": {
      "text/html": [
       "<div>\n",
       "<style scoped>\n",
       "    .dataframe tbody tr th:only-of-type {\n",
       "        vertical-align: middle;\n",
       "    }\n",
       "\n",
       "    .dataframe tbody tr th {\n",
       "        vertical-align: top;\n",
       "    }\n",
       "\n",
       "    .dataframe thead th {\n",
       "        text-align: right;\n",
       "    }\n",
       "</style>\n",
       "<table border=\"1\" class=\"dataframe\">\n",
       "  <thead>\n",
       "    <tr style=\"text-align: right;\">\n",
       "      <th></th>\n",
       "      <th>Actual_y</th>\n",
       "      <th>predictions</th>\n",
       "    </tr>\n",
       "  </thead>\n",
       "  <tbody>\n",
       "    <tr>\n",
       "      <th>0</th>\n",
       "      <td>0</td>\n",
       "      <td>0</td>\n",
       "    </tr>\n",
       "    <tr>\n",
       "      <th>1</th>\n",
       "      <td>0</td>\n",
       "      <td>0</td>\n",
       "    </tr>\n",
       "    <tr>\n",
       "      <th>2</th>\n",
       "      <td>0</td>\n",
       "      <td>0</td>\n",
       "    </tr>\n",
       "    <tr>\n",
       "      <th>3</th>\n",
       "      <td>0</td>\n",
       "      <td>0</td>\n",
       "    </tr>\n",
       "    <tr>\n",
       "      <th>4</th>\n",
       "      <td>0</td>\n",
       "      <td>0</td>\n",
       "    </tr>\n",
       "    <tr>\n",
       "      <th>...</th>\n",
       "      <td>...</td>\n",
       "      <td>...</td>\n",
       "    </tr>\n",
       "    <tr>\n",
       "      <th>56957</th>\n",
       "      <td>0</td>\n",
       "      <td>0</td>\n",
       "    </tr>\n",
       "    <tr>\n",
       "      <th>56958</th>\n",
       "      <td>0</td>\n",
       "      <td>0</td>\n",
       "    </tr>\n",
       "    <tr>\n",
       "      <th>56959</th>\n",
       "      <td>0</td>\n",
       "      <td>0</td>\n",
       "    </tr>\n",
       "    <tr>\n",
       "      <th>56960</th>\n",
       "      <td>0</td>\n",
       "      <td>0</td>\n",
       "    </tr>\n",
       "    <tr>\n",
       "      <th>56961</th>\n",
       "      <td>0</td>\n",
       "      <td>0</td>\n",
       "    </tr>\n",
       "  </tbody>\n",
       "</table>\n",
       "<p>56962 rows × 2 columns</p>\n",
       "</div>"
      ],
      "text/plain": [
       "       Actual_y  predictions\n",
       "0             0            0\n",
       "1             0            0\n",
       "2             0            0\n",
       "3             0            0\n",
       "4             0            0\n",
       "...         ...          ...\n",
       "56957         0            0\n",
       "56958         0            0\n",
       "56959         0            0\n",
       "56960         0            0\n",
       "56961         0            0\n",
       "\n",
       "[56962 rows x 2 columns]"
      ]
     },
     "execution_count": 307,
     "metadata": {},
     "output_type": "execute_result"
    }
   ],
   "source": [
    "df = pd.DataFrame({'Actual_y':y_test_Hidden , 'predictions': y_test_Hidden_pred_ann_series}, columns=['Actual_y', 'predictions'])\n",
    "df"
   ]
  },
  {
   "cell_type": "code",
   "execution_count": 311,
   "metadata": {},
   "outputs": [
    {
     "data": {
      "text/plain": [
       "<AxesSubplot:>"
      ]
     },
     "execution_count": 311,
     "metadata": {},
     "output_type": "execute_result"
    },
    {
     "data": {
      "image/png": "[encoded data removed]",
      "text/plain": [
       "<Figure size 432x288 with 1 Axes>"
      ]
     },
     "metadata": {
      "needs_background": "light"
     },
     "output_type": "display_data"
    }
   ],
   "source": [
    "# Fraud and non-fraud actual y for test_Hidden\n",
    "df['Actual_y'].value_counts().plot(kind='bar')"
   ]
  },
  {
   "cell_type": "code",
   "execution_count": 310,
   "metadata": {},
   "outputs": [
    {
     "data": {
      "text/plain": [
       "0    56864\n",
       "1       98\n",
       "Name: Actual_y, dtype: int64"
      ]
     },
     "execution_count": 310,
     "metadata": {},
     "output_type": "execute_result"
    }
   ],
   "source": [
    "df['Actual_y'].value_counts()"
   ]
  },
  {
   "cell_type": "code",
   "execution_count": 312,
   "metadata": {},
   "outputs": [
    {
     "data": {
      "text/plain": [
       "<AxesSubplot:>"
      ]
     },
     "execution_count": 312,
     "metadata": {},
     "output_type": "execute_result"
    },
    {
     "data": {
      "image/png": "[encoded data removed]",
      "text/plain": [
       "<Figure size 432x288 with 1 Axes>"
      ]
     },
     "metadata": {
      "needs_background": "light"
     },
     "output_type": "display_data"
    }
   ],
   "source": [
    "# Fraud and non-fraud predicted y for test_Hidden\n",
    "df['predictions'].value_counts().plot(kind='bar')"
   ]
  },
  {
   "cell_type": "code",
   "execution_count": 313,
   "metadata": {},
   "outputs": [
    {
     "data": {
      "text/plain": [
       "0    56188\n",
       "1      774\n",
       "Name: predictions, dtype: int64"
      ]
     },
     "execution_count": 313,
     "metadata": {},
     "output_type": "execute_result"
    }
   ],
   "source": [
    "df['predictions'].value_counts()"
   ]
  },
  {
   "cell_type": "code",
   "execution_count": 314,
   "metadata": {},
   "outputs": [
    {
     "data": {
      "text/plain": [
       "0    56188\n",
       "1      774\n",
       "dtype: int64"
      ]
     },
     "execution_count": 314,
     "metadata": {},
     "output_type": "execute_result"
    }
   ],
   "source": [
    "#Original test set class predictions\n",
    "y_test_pred_ann_series.value_counts()"
   ]
  },
  {
   "cell_type": "code",
   "execution_count": 316,
   "metadata": {},
   "outputs": [
    {
     "data": {
      "text/plain": [
       "array([[56173,   691],\n",
       "       [   15,    83]], dtype=int64)"
      ]
     },
     "execution_count": 316,
     "metadata": {},
     "output_type": "execute_result"
    }
   ],
   "source": [
    "cm=confusion_matrix(y_test_Hidden,y_test_Hidden_pred_ann_series)\n",
    "cm"
   ]
  },
  {
   "cell_type": "code",
   "execution_count": 318,
   "metadata": {},
   "outputs": [
    {
     "data": {
      "text/plain": [
       "0.9876057722692321"
      ]
     },
     "execution_count": 318,
     "metadata": {},
     "output_type": "execute_result"
    }
   ],
   "source": [
    "accuracy=accuracy_score(y_test_Hidden,y_test_Hidden_pred_ann_series)\n",
    "accuracy"
   ]
  },
  {
   "cell_type": "markdown",
   "metadata": {},
   "source": [
    "### From the above we have learned that model predicted more fraud transactions(i.e., false positive) than the given dataset.\n",
    "The confusion matrix output means that deep learning model made 56173 + 83 correct predictions and 691+ 15 wrong predictions. You can calculate the accuracy with: (56173 + 83) / 56962. The total number of observations in your dataset is 56962. This gives you an accuracy of 98.7%. This is a very good accuracy rate since we achieved 98% correct predictions from model."
   ]
  },
  {
   "cell_type": "markdown",
   "metadata": {},
   "source": [
    "### 0.94 is Isolation forest model roc_auc_score on test and train data, threshold for Anoamly detection is 0.0017"
   ]
  },
  {
   "cell_type": "markdown",
   "metadata": {},
   "source": [
    "## Can F1 score be used as an engineered feature in the models developed previously? Are there any incremental gains in F1-Score? Why or Why not? \n",
    "F1 score is higher for ANN Deep Learning model and Random Forest model. It was improved as the models did good work in balancing the data and finding fraud transactions."
   ]
  },
  {
   "cell_type": "code",
   "execution_count": 327,
   "metadata": {},
   "outputs": [
    {
     "data": {
      "text/plain": [
       "<AxesSubplot:>"
      ]
     },
     "execution_count": 327,
     "metadata": {},
     "output_type": "execute_result"
    },
    {
     "data": {
      "image/png": "[encoded data removed]",
      "text/plain": [
       "<Figure size 432x288 with 1 Axes>"
      ]
     },
     "metadata": {
      "needs_background": "light"
     },
     "output_type": "display_data"
    }
   ],
   "source": [
    "#Be as creative as possible in finding other interesting insights.\n",
    "train[train['Class']==1].V14.hist(bins=10)"
   ]
  },
  {
   "cell_type": "code",
   "execution_count": 328,
   "metadata": {},
   "outputs": [
    {
     "data": {
      "text/plain": [
       "<AxesSubplot:>"
      ]
     },
     "execution_count": 328,
     "metadata": {},
     "output_type": "execute_result"
    },
    {
     "data": {
      "image/png": "[encoded data removed]",
      "text/plain": [
       "<Figure size 432x288 with 1 Axes>"
      ]
     },
     "metadata": {
      "needs_background": "light"
     },
     "output_type": "display_data"
    }
   ],
   "source": [
    "train[train['Class']==1].V12.hist(bins=10)"
   ]
  },
  {
   "cell_type": "code",
   "execution_count": 329,
   "metadata": {},
   "outputs": [
    {
     "data": {
      "text/plain": [
       "<AxesSubplot:>"
      ]
     },
     "execution_count": 329,
     "metadata": {},
     "output_type": "execute_result"
    },
    {
     "data": {
      "image/png": "[encoded data removed]",
      "text/plain": [
       "<Figure size 432x288 with 1 Axes>"
      ]
     },
     "metadata": {
      "needs_background": "light"
     },
     "output_type": "display_data"
    }
   ],
   "source": [
    "train[train['Class']==1].V11.hist(bins=10)"
   ]
  },
  {
   "cell_type": "code",
   "execution_count": 330,
   "metadata": {},
   "outputs": [
    {
     "data": {
      "text/plain": [
       "<AxesSubplot:>"
      ]
     },
     "execution_count": 330,
     "metadata": {},
     "output_type": "execute_result"
    },
    {
     "data": {
      "image/png": "[encoded data removed]",
      "text/plain": [
       "<Figure size 432x288 with 1 Axes>"
      ]
     },
     "metadata": {
      "needs_background": "light"
     },
     "output_type": "display_data"
    }
   ],
   "source": [
    "train[train['Class']==1].V4.hist(bins=10)"
   ]
  },
  {
   "cell_type": "code",
   "execution_count": 326,
   "metadata": {},
   "outputs": [
    {
     "data": {
      "text/plain": [
       "1847     -5.843528\n",
       "2265     -9.440375\n",
       "3060     -9.577194\n",
       "3418     -7.052311\n",
       "3691     -1.181669\n",
       "           ...    \n",
       "51941    -4.692788\n",
       "53009   -19.214325\n",
       "53061    -5.249305\n",
       "55705    -1.824839\n",
       "56030     1.322887\n",
       "Name: V14, Length: 98, dtype: float64"
      ]
     },
     "execution_count": 326,
     "metadata": {},
     "output_type": "execute_result"
    }
   ],
   "source": [
    "test_Hidden[test_Hidden['Class']==1].V14"
   ]
  },
  {
   "cell_type": "code",
   "execution_count": 331,
   "metadata": {},
   "outputs": [
    {
     "data": {
      "text/plain": [
       "266      -13.026864\n",
       "360      -14.094452\n",
       "421        0.796580\n",
       "734       -4.757074\n",
       "854       -9.057993\n",
       "            ...    \n",
       "226409    -7.862809\n",
       "226814   -11.002289\n",
       "226817   -13.725685\n",
       "226957    -9.072711\n",
       "227531    -6.455029\n",
       "Name: V14, Length: 394, dtype: float64"
      ]
     },
     "execution_count": 331,
     "metadata": {},
     "output_type": "execute_result"
    }
   ],
   "source": [
    "train[train['Class']==1].V14"
   ]
  },
  {
   "cell_type": "markdown",
   "metadata": {},
   "source": [
    "#### Here v4 and V11 are large positive value (near to 1.0) indicates a strong positive correlation, notice how the higher these values are, the more likely the end result will be a fraud transaction.\n",
    "#### Here v12 and v14 are large negative value (near to -1.0) indicates a strong negative correlation, notice how the lower these values are, the more likely the end result will be a fraud transaction"
   ]
  },
  {
   "cell_type": "markdown",
   "metadata": {},
   "source": [
    "https://tel.archives-ouvertes.fr/tel-02457134/file/TH2019MAKKISARA.pdf"
   ]
  }
 ],
 "metadata": {
  "kernelspec": {
   "display_name": "Python 3",
   "language": "python",
   "name": "python3"
  },
  "language_info": {
   "codemirror_mode": {
    "name": "ipython",
    "version": 3
   },
   "file_extension": ".py",
   "mimetype": "text/x-python",
   "name": "python",
   "nbconvert_exporter": "python",
   "pygments_lexer": "ipython3",
   "version": "3.7.9"
  }
 },
 "nbformat": 4,
 "nbformat_minor": 4
}
